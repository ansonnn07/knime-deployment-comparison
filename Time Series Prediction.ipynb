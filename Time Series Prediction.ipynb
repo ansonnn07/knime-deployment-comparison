{
 "cells": [
  {
   "cell_type": "markdown",
   "id": "3dc52316-bef6-417c-a847-07b48f9502bf",
   "metadata": {},
   "source": [
    "# Setup"
   ]
  },
  {
   "cell_type": "code",
   "execution_count": 1,
   "id": "02dac0e9-9caf-49f2-9308-48cdea7449b2",
   "metadata": {},
   "outputs": [],
   "source": [
    "import numpy as np\n",
    "import pandas as pd\n",
    "import matplotlib.pyplot as plt\n",
    "import cv2\n",
    "import os\n",
    "\n",
    "import tensorflow as tf"
   ]
  },
  {
   "cell_type": "code",
   "execution_count": 2,
   "id": "b96eda47-2688-476a-9c41-32caa02589aa",
   "metadata": {},
   "outputs": [
    {
     "data": {
      "text/plain": [
       "'2.5.0'"
      ]
     },
     "execution_count": 2,
     "metadata": {},
     "output_type": "execute_result"
    }
   ],
   "source": [
    "tf.__version__"
   ]
  },
  {
   "cell_type": "code",
   "execution_count": 3,
   "id": "a74637ea-70eb-45f9-bd6b-dae8971db07e",
   "metadata": {},
   "outputs": [],
   "source": [
    "np.random.seed(42)\n",
    "tf.random.set_seed(42)"
   ]
  },
  {
   "cell_type": "code",
   "execution_count": 4,
   "id": "0527af03-2e9b-4cca-80e1-058faa2f2417",
   "metadata": {},
   "outputs": [
    {
     "data": {
      "text/plain": [
       "[PhysicalDevice(name='/physical_device:GPU:0', device_type='GPU')]"
      ]
     },
     "execution_count": 4,
     "metadata": {},
     "output_type": "execute_result"
    }
   ],
   "source": [
    "tf.config.list_physical_devices('GPU')"
   ]
  },
  {
   "cell_type": "markdown",
   "id": "4c76196c-23d5-4164-b913-224e2483932c",
   "metadata": {
    "tags": []
   },
   "source": [
    "# Load KNIME's Model"
   ]
  },
  {
   "cell_type": "code",
   "execution_count": 5,
   "id": "bef7012c-f264-400c-9413-4af8fa87a18d",
   "metadata": {},
   "outputs": [],
   "source": [
    "knime_model = tf.keras.models.load_model(os.path.join(\"models\", \"KNIME_LSTM_new.h5\"))"
   ]
  },
  {
   "cell_type": "code",
   "execution_count": 6,
   "id": "cc2e9324-233a-4112-854c-033247194e3b",
   "metadata": {},
   "outputs": [
    {
     "name": "stdout",
     "output_type": "stream",
     "text": [
      "Model: \"model_1\"\n",
      "_________________________________________________________________\n",
      "Layer (type)                 Output Shape              Param #   \n",
      "=================================================================\n",
      "input_1 (InputLayer)         [(None, 200, 1)]          0         \n",
      "_________________________________________________________________\n",
      "lstm_1 (LSTM)                (None, 100)               40800     \n",
      "_________________________________________________________________\n",
      "dense_1 (Dense)              (None, 1)                 101       \n",
      "=================================================================\n",
      "Total params: 40,901\n",
      "Trainable params: 40,901\n",
      "Non-trainable params: 0\n",
      "_________________________________________________________________\n"
     ]
    }
   ],
   "source": [
    "knime_model.summary()"
   ]
  },
  {
   "cell_type": "markdown",
   "id": "4bbc4743-f0cf-4401-bd96-b9bbeb2f3e3f",
   "metadata": {},
   "source": [
    "# Get the Data"
   ]
  },
  {
   "cell_type": "markdown",
   "id": "d8c4558d-55f0-4c03-ac03-24c264985944",
   "metadata": {},
   "source": [
    "This is referring to the Demand Prediction example in the KNIME's textbook in Chapter 6."
   ]
  },
  {
   "cell_type": "code",
   "execution_count": 7,
   "id": "d60101e8-dafe-4767-a589-87b2c9729073",
   "metadata": {},
   "outputs": [],
   "source": [
    "DATA_PATH = \"data\""
   ]
  },
  {
   "cell_type": "code",
   "execution_count": 8,
   "id": "6b7645d9-97d0-4042-8744-ab596645180b",
   "metadata": {},
   "outputs": [
    {
     "data": {
      "text/html": [
       "<div>\n",
       "<style scoped>\n",
       "    .dataframe tbody tr th:only-of-type {\n",
       "        vertical-align: middle;\n",
       "    }\n",
       "\n",
       "    .dataframe tbody tr th {\n",
       "        vertical-align: top;\n",
       "    }\n",
       "\n",
       "    .dataframe thead th {\n",
       "        text-align: right;\n",
       "    }\n",
       "</style>\n",
       "<table border=\"1\" class=\"dataframe\">\n",
       "  <thead>\n",
       "    <tr style=\"text-align: right;\">\n",
       "      <th></th>\n",
       "      <th>row ID</th>\n",
       "      <th>cluster_11</th>\n",
       "      <th>cluster_28</th>\n",
       "      <th>cluster_24</th>\n",
       "      <th>cluster_1</th>\n",
       "      <th>cluster_12</th>\n",
       "      <th>cluster_2</th>\n",
       "      <th>cluster_23</th>\n",
       "      <th>cluster_26</th>\n",
       "      <th>cluster_21</th>\n",
       "      <th>...</th>\n",
       "      <th>cluster_14</th>\n",
       "      <th>cluster_20</th>\n",
       "      <th>cluster_4</th>\n",
       "      <th>cluster_8</th>\n",
       "      <th>cluster_7</th>\n",
       "      <th>cluster_22</th>\n",
       "      <th>cluster_25</th>\n",
       "      <th>cluster_9</th>\n",
       "      <th>cluster_15</th>\n",
       "      <th>cluster_3</th>\n",
       "    </tr>\n",
       "  </thead>\n",
       "  <tbody>\n",
       "    <tr>\n",
       "      <th>0</th>\n",
       "      <td>2009-07-15_00</td>\n",
       "      <td>0.198786</td>\n",
       "      <td>18.358000</td>\n",
       "      <td>0.777450</td>\n",
       "      <td>2.488265</td>\n",
       "      <td>9.594552</td>\n",
       "      <td>0.462515</td>\n",
       "      <td>0.391711</td>\n",
       "      <td>3.254085</td>\n",
       "      <td>0.357386</td>\n",
       "      <td>...</td>\n",
       "      <td>0.897384</td>\n",
       "      <td>0.598728</td>\n",
       "      <td>0.920695</td>\n",
       "      <td>0.875265</td>\n",
       "      <td>0.845983</td>\n",
       "      <td>0.658726</td>\n",
       "      <td>1.382476</td>\n",
       "      <td>1.037702</td>\n",
       "      <td>1.090514</td>\n",
       "      <td>0.947526</td>\n",
       "    </tr>\n",
       "    <tr>\n",
       "      <th>1</th>\n",
       "      <td>2009-07-15_01</td>\n",
       "      <td>0.171071</td>\n",
       "      <td>16.028357</td>\n",
       "      <td>0.591275</td>\n",
       "      <td>2.747633</td>\n",
       "      <td>7.681776</td>\n",
       "      <td>0.260338</td>\n",
       "      <td>0.398816</td>\n",
       "      <td>3.197561</td>\n",
       "      <td>0.364500</td>\n",
       "      <td>...</td>\n",
       "      <td>0.612620</td>\n",
       "      <td>0.395499</td>\n",
       "      <td>0.561120</td>\n",
       "      <td>0.650493</td>\n",
       "      <td>0.587325</td>\n",
       "      <td>0.438029</td>\n",
       "      <td>0.972665</td>\n",
       "      <td>0.730954</td>\n",
       "      <td>0.781937</td>\n",
       "      <td>0.580975</td>\n",
       "    </tr>\n",
       "    <tr>\n",
       "      <th>2</th>\n",
       "      <td>2009-07-15_02</td>\n",
       "      <td>0.162000</td>\n",
       "      <td>15.065393</td>\n",
       "      <td>0.483900</td>\n",
       "      <td>2.497571</td>\n",
       "      <td>6.972241</td>\n",
       "      <td>0.296500</td>\n",
       "      <td>0.396171</td>\n",
       "      <td>3.038390</td>\n",
       "      <td>0.361659</td>\n",
       "      <td>...</td>\n",
       "      <td>0.490683</td>\n",
       "      <td>0.324087</td>\n",
       "      <td>0.426242</td>\n",
       "      <td>0.522865</td>\n",
       "      <td>0.499978</td>\n",
       "      <td>0.346501</td>\n",
       "      <td>0.696608</td>\n",
       "      <td>0.518665</td>\n",
       "      <td>0.595129</td>\n",
       "      <td>0.452213</td>\n",
       "    </tr>\n",
       "    <tr>\n",
       "      <th>3</th>\n",
       "      <td>2009-07-15_03</td>\n",
       "      <td>0.189571</td>\n",
       "      <td>15.304214</td>\n",
       "      <td>0.353325</td>\n",
       "      <td>2.404000</td>\n",
       "      <td>6.804086</td>\n",
       "      <td>0.247176</td>\n",
       "      <td>0.399645</td>\n",
       "      <td>3.029756</td>\n",
       "      <td>0.349489</td>\n",
       "      <td>...</td>\n",
       "      <td>0.457262</td>\n",
       "      <td>0.303519</td>\n",
       "      <td>0.376581</td>\n",
       "      <td>0.469952</td>\n",
       "      <td>0.462120</td>\n",
       "      <td>0.334346</td>\n",
       "      <td>0.563122</td>\n",
       "      <td>0.423768</td>\n",
       "      <td>0.531196</td>\n",
       "      <td>0.416438</td>\n",
       "    </tr>\n",
       "    <tr>\n",
       "      <th>4</th>\n",
       "      <td>2009-07-15_04</td>\n",
       "      <td>0.320929</td>\n",
       "      <td>15.284107</td>\n",
       "      <td>0.378625</td>\n",
       "      <td>2.156265</td>\n",
       "      <td>6.595086</td>\n",
       "      <td>0.252132</td>\n",
       "      <td>0.411039</td>\n",
       "      <td>3.005634</td>\n",
       "      <td>0.347057</td>\n",
       "      <td>...</td>\n",
       "      <td>0.447911</td>\n",
       "      <td>0.283072</td>\n",
       "      <td>0.359359</td>\n",
       "      <td>0.485992</td>\n",
       "      <td>0.463902</td>\n",
       "      <td>0.314235</td>\n",
       "      <td>0.535823</td>\n",
       "      <td>0.382569</td>\n",
       "      <td>0.502776</td>\n",
       "      <td>0.398079</td>\n",
       "    </tr>\n",
       "  </tbody>\n",
       "</table>\n",
       "<p>5 rows × 31 columns</p>\n",
       "</div>"
      ],
      "text/plain": [
       "          row ID  cluster_11  cluster_28  cluster_24  cluster_1  cluster_12  \\\n",
       "0  2009-07-15_00    0.198786   18.358000    0.777450   2.488265    9.594552   \n",
       "1  2009-07-15_01    0.171071   16.028357    0.591275   2.747633    7.681776   \n",
       "2  2009-07-15_02    0.162000   15.065393    0.483900   2.497571    6.972241   \n",
       "3  2009-07-15_03    0.189571   15.304214    0.353325   2.404000    6.804086   \n",
       "4  2009-07-15_04    0.320929   15.284107    0.378625   2.156265    6.595086   \n",
       "\n",
       "   cluster_2  cluster_23  cluster_26  cluster_21  ...  cluster_14  cluster_20  \\\n",
       "0   0.462515    0.391711    3.254085    0.357386  ...    0.897384    0.598728   \n",
       "1   0.260338    0.398816    3.197561    0.364500  ...    0.612620    0.395499   \n",
       "2   0.296500    0.396171    3.038390    0.361659  ...    0.490683    0.324087   \n",
       "3   0.247176    0.399645    3.029756    0.349489  ...    0.457262    0.303519   \n",
       "4   0.252132    0.411039    3.005634    0.347057  ...    0.447911    0.283072   \n",
       "\n",
       "   cluster_4  cluster_8  cluster_7  cluster_22  cluster_25  cluster_9  \\\n",
       "0   0.920695   0.875265   0.845983    0.658726    1.382476   1.037702   \n",
       "1   0.561120   0.650493   0.587325    0.438029    0.972665   0.730954   \n",
       "2   0.426242   0.522865   0.499978    0.346501    0.696608   0.518665   \n",
       "3   0.376581   0.469952   0.462120    0.334346    0.563122   0.423768   \n",
       "4   0.359359   0.485992   0.463902    0.314235    0.535823   0.382569   \n",
       "\n",
       "   cluster_15  cluster_3  \n",
       "0    1.090514   0.947526  \n",
       "1    0.781937   0.580975  \n",
       "2    0.595129   0.452213  \n",
       "3    0.531196   0.416438  \n",
       "4    0.502776   0.398079  \n",
       "\n",
       "[5 rows x 31 columns]"
      ]
     },
     "execution_count": 8,
     "metadata": {},
     "output_type": "execute_result"
    }
   ],
   "source": [
    "# unpreprocessed full data\n",
    "df = pd.read_csv(os.path.join(DATA_PATH, \"clustered_hourly_values_all_w_missing_times.csv\"))\n",
    "df.head()"
   ]
  },
  {
   "cell_type": "code",
   "execution_count": 9,
   "id": "ab0c90b6-dbbd-4bff-a709-dda80fe64575",
   "metadata": {},
   "outputs": [
    {
     "data": {
      "text/html": [
       "<div>\n",
       "<style scoped>\n",
       "    .dataframe tbody tr th:only-of-type {\n",
       "        vertical-align: middle;\n",
       "    }\n",
       "\n",
       "    .dataframe tbody tr th {\n",
       "        vertical-align: top;\n",
       "    }\n",
       "\n",
       "    .dataframe thead th {\n",
       "        text-align: right;\n",
       "    }\n",
       "</style>\n",
       "<table border=\"1\" class=\"dataframe\">\n",
       "  <thead>\n",
       "    <tr style=\"text-align: right;\">\n",
       "      <th></th>\n",
       "      <th>row ID</th>\n",
       "      <th>cluster_26</th>\n",
       "    </tr>\n",
       "  </thead>\n",
       "  <tbody>\n",
       "    <tr>\n",
       "      <th>0</th>\n",
       "      <td>2009-07-15_00</td>\n",
       "      <td>3.254085</td>\n",
       "    </tr>\n",
       "    <tr>\n",
       "      <th>1</th>\n",
       "      <td>2009-07-15_01</td>\n",
       "      <td>3.197561</td>\n",
       "    </tr>\n",
       "    <tr>\n",
       "      <th>2</th>\n",
       "      <td>2009-07-15_02</td>\n",
       "      <td>3.038390</td>\n",
       "    </tr>\n",
       "    <tr>\n",
       "      <th>3</th>\n",
       "      <td>2009-07-15_03</td>\n",
       "      <td>3.029756</td>\n",
       "    </tr>\n",
       "    <tr>\n",
       "      <th>4</th>\n",
       "      <td>2009-07-15_04</td>\n",
       "      <td>3.005634</td>\n",
       "    </tr>\n",
       "  </tbody>\n",
       "</table>\n",
       "</div>"
      ],
      "text/plain": [
       "          row ID  cluster_26\n",
       "0  2009-07-15_00    3.254085\n",
       "1  2009-07-15_01    3.197561\n",
       "2  2009-07-15_02    3.038390\n",
       "3  2009-07-15_03    3.029756\n",
       "4  2009-07-15_04    3.005634"
      ]
     },
     "execution_count": 9,
     "metadata": {},
     "output_type": "execute_result"
    }
   ],
   "source": [
    "# the example only uses cluster 26\n",
    "df = df[['row ID', 'cluster_26']]\n",
    "df.head()"
   ]
  },
  {
   "cell_type": "code",
   "execution_count": 10,
   "id": "b8980b63-3384-4817-af06-56e2f3c15b59",
   "metadata": {},
   "outputs": [
    {
     "data": {
      "text/html": [
       "<div>\n",
       "<style scoped>\n",
       "    .dataframe tbody tr th:only-of-type {\n",
       "        vertical-align: middle;\n",
       "    }\n",
       "\n",
       "    .dataframe tbody tr th {\n",
       "        vertical-align: top;\n",
       "    }\n",
       "\n",
       "    .dataframe thead th {\n",
       "        text-align: right;\n",
       "    }\n",
       "</style>\n",
       "<table border=\"1\" class=\"dataframe\">\n",
       "  <thead>\n",
       "    <tr style=\"text-align: right;\">\n",
       "      <th></th>\n",
       "      <th>cluster_26</th>\n",
       "      <th>row ID</th>\n",
       "      <th>cluster_26(-1)</th>\n",
       "      <th>cluster_26(-2)</th>\n",
       "      <th>cluster_26(-3)</th>\n",
       "      <th>cluster_26(-4)</th>\n",
       "      <th>cluster_26(-5)</th>\n",
       "      <th>cluster_26(-6)</th>\n",
       "      <th>cluster_26(-7)</th>\n",
       "      <th>cluster_26(-8)</th>\n",
       "      <th>...</th>\n",
       "      <th>cluster_26(-191)</th>\n",
       "      <th>cluster_26(-192)</th>\n",
       "      <th>cluster_26(-193)</th>\n",
       "      <th>cluster_26(-194)</th>\n",
       "      <th>cluster_26(-195)</th>\n",
       "      <th>cluster_26(-196)</th>\n",
       "      <th>cluster_26(-197)</th>\n",
       "      <th>cluster_26(-198)</th>\n",
       "      <th>cluster_26(-199)</th>\n",
       "      <th>cluster_26(-200)</th>\n",
       "    </tr>\n",
       "  </thead>\n",
       "  <tbody>\n",
       "    <tr>\n",
       "      <th>0</th>\n",
       "      <td>6.478671</td>\n",
       "      <td>2009-07-23T08:00</td>\n",
       "      <td>4.169061</td>\n",
       "      <td>2.965000</td>\n",
       "      <td>3.074915</td>\n",
       "      <td>3.073512</td>\n",
       "      <td>3.200780</td>\n",
       "      <td>3.210793</td>\n",
       "      <td>3.272939</td>\n",
       "      <td>3.379171</td>\n",
       "      <td>...</td>\n",
       "      <td>11.495024</td>\n",
       "      <td>6.899854</td>\n",
       "      <td>4.024280</td>\n",
       "      <td>2.881841</td>\n",
       "      <td>2.943738</td>\n",
       "      <td>3.005634</td>\n",
       "      <td>3.029756</td>\n",
       "      <td>3.038390</td>\n",
       "      <td>3.197561</td>\n",
       "      <td>3.254085</td>\n",
       "    </tr>\n",
       "    <tr>\n",
       "      <th>1</th>\n",
       "      <td>11.557817</td>\n",
       "      <td>2009-07-23T09:00</td>\n",
       "      <td>6.478671</td>\n",
       "      <td>4.169061</td>\n",
       "      <td>2.965000</td>\n",
       "      <td>3.074915</td>\n",
       "      <td>3.073512</td>\n",
       "      <td>3.200780</td>\n",
       "      <td>3.210793</td>\n",
       "      <td>3.272939</td>\n",
       "      <td>...</td>\n",
       "      <td>14.180427</td>\n",
       "      <td>11.495024</td>\n",
       "      <td>6.899854</td>\n",
       "      <td>4.024280</td>\n",
       "      <td>2.881841</td>\n",
       "      <td>2.943738</td>\n",
       "      <td>3.005634</td>\n",
       "      <td>3.029756</td>\n",
       "      <td>3.038390</td>\n",
       "      <td>3.197561</td>\n",
       "    </tr>\n",
       "    <tr>\n",
       "      <th>2</th>\n",
       "      <td>13.698671</td>\n",
       "      <td>2009-07-23T10:00</td>\n",
       "      <td>11.557817</td>\n",
       "      <td>6.478671</td>\n",
       "      <td>4.169061</td>\n",
       "      <td>2.965000</td>\n",
       "      <td>3.074915</td>\n",
       "      <td>3.073512</td>\n",
       "      <td>3.200780</td>\n",
       "      <td>3.210793</td>\n",
       "      <td>...</td>\n",
       "      <td>15.321268</td>\n",
       "      <td>14.180427</td>\n",
       "      <td>11.495024</td>\n",
       "      <td>6.899854</td>\n",
       "      <td>4.024280</td>\n",
       "      <td>2.881841</td>\n",
       "      <td>2.943738</td>\n",
       "      <td>3.005634</td>\n",
       "      <td>3.029756</td>\n",
       "      <td>3.038390</td>\n",
       "    </tr>\n",
       "    <tr>\n",
       "      <th>3</th>\n",
       "      <td>14.649000</td>\n",
       "      <td>2009-07-23T11:00</td>\n",
       "      <td>13.698671</td>\n",
       "      <td>11.557817</td>\n",
       "      <td>6.478671</td>\n",
       "      <td>4.169061</td>\n",
       "      <td>2.965000</td>\n",
       "      <td>3.074915</td>\n",
       "      <td>3.073512</td>\n",
       "      <td>3.200780</td>\n",
       "      <td>...</td>\n",
       "      <td>15.046780</td>\n",
       "      <td>15.321268</td>\n",
       "      <td>14.180427</td>\n",
       "      <td>11.495024</td>\n",
       "      <td>6.899854</td>\n",
       "      <td>4.024280</td>\n",
       "      <td>2.881841</td>\n",
       "      <td>2.943738</td>\n",
       "      <td>3.005634</td>\n",
       "      <td>3.029756</td>\n",
       "    </tr>\n",
       "    <tr>\n",
       "      <th>4</th>\n",
       "      <td>14.466024</td>\n",
       "      <td>2009-07-23T12:00</td>\n",
       "      <td>14.649000</td>\n",
       "      <td>13.698671</td>\n",
       "      <td>11.557817</td>\n",
       "      <td>6.478671</td>\n",
       "      <td>4.169061</td>\n",
       "      <td>2.965000</td>\n",
       "      <td>3.074915</td>\n",
       "      <td>3.073512</td>\n",
       "      <td>...</td>\n",
       "      <td>14.585280</td>\n",
       "      <td>15.046780</td>\n",
       "      <td>15.321268</td>\n",
       "      <td>14.180427</td>\n",
       "      <td>11.495024</td>\n",
       "      <td>6.899854</td>\n",
       "      <td>4.024280</td>\n",
       "      <td>2.881841</td>\n",
       "      <td>2.943738</td>\n",
       "      <td>3.005634</td>\n",
       "    </tr>\n",
       "  </tbody>\n",
       "</table>\n",
       "<p>5 rows × 202 columns</p>\n",
       "</div>"
      ],
      "text/plain": [
       "   cluster_26            row ID  cluster_26(-1)  cluster_26(-2)  \\\n",
       "0    6.478671  2009-07-23T08:00        4.169061        2.965000   \n",
       "1   11.557817  2009-07-23T09:00        6.478671        4.169061   \n",
       "2   13.698671  2009-07-23T10:00       11.557817        6.478671   \n",
       "3   14.649000  2009-07-23T11:00       13.698671       11.557817   \n",
       "4   14.466024  2009-07-23T12:00       14.649000       13.698671   \n",
       "\n",
       "   cluster_26(-3)  cluster_26(-4)  cluster_26(-5)  cluster_26(-6)  \\\n",
       "0        3.074915        3.073512        3.200780        3.210793   \n",
       "1        2.965000        3.074915        3.073512        3.200780   \n",
       "2        4.169061        2.965000        3.074915        3.073512   \n",
       "3        6.478671        4.169061        2.965000        3.074915   \n",
       "4       11.557817        6.478671        4.169061        2.965000   \n",
       "\n",
       "   cluster_26(-7)  cluster_26(-8)  ...  cluster_26(-191)  cluster_26(-192)  \\\n",
       "0        3.272939        3.379171  ...         11.495024          6.899854   \n",
       "1        3.210793        3.272939  ...         14.180427         11.495024   \n",
       "2        3.200780        3.210793  ...         15.321268         14.180427   \n",
       "3        3.073512        3.200780  ...         15.046780         15.321268   \n",
       "4        3.074915        3.073512  ...         14.585280         15.046780   \n",
       "\n",
       "   cluster_26(-193)  cluster_26(-194)  cluster_26(-195)  cluster_26(-196)  \\\n",
       "0          4.024280          2.881841          2.943738          3.005634   \n",
       "1          6.899854          4.024280          2.881841          2.943738   \n",
       "2         11.495024          6.899854          4.024280          2.881841   \n",
       "3         14.180427         11.495024          6.899854          4.024280   \n",
       "4         15.321268         14.180427         11.495024          6.899854   \n",
       "\n",
       "   cluster_26(-197)  cluster_26(-198)  cluster_26(-199)  cluster_26(-200)  \n",
       "0          3.029756          3.038390          3.197561          3.254085  \n",
       "1          3.005634          3.029756          3.038390          3.197561  \n",
       "2          2.943738          3.005634          3.029756          3.038390  \n",
       "3          2.881841          2.943738          3.005634          3.029756  \n",
       "4          4.024280          2.881841          2.943738          3.005634  \n",
       "\n",
       "[5 rows x 202 columns]"
      ]
     },
     "execution_count": 10,
     "metadata": {},
     "output_type": "execute_result"
    }
   ],
   "source": [
    "# preprocessed but have not gone through Column Aggregator nodes yet\n",
    "train_df = pd.read_csv(os.path.join(DATA_PATH, \"DemandPrediction_TrainingSet.csv\"))\n",
    "train_df.head()"
   ]
  },
  {
   "cell_type": "markdown",
   "id": "9a5c615a-38f6-41ad-95d1-bf9511872b8c",
   "metadata": {},
   "source": [
    "From the output above, you can see that the target value is the first value of the next sequence, this means that we are predicting the next timestep given the previous 200 timesteps."
   ]
  },
  {
   "cell_type": "code",
   "execution_count": 11,
   "id": "188064aa-1a77-40de-94a8-33c706734089",
   "metadata": {},
   "outputs": [
    {
     "name": "stdout",
     "output_type": "stream",
     "text": [
      "['cluster_26' 'row ID' 'cluster_26(-1)' 'cluster_26(-2)' 'cluster_26(-3)'\n",
      " 'cluster_26(-4)' 'cluster_26(-5)' 'cluster_26(-6)' 'cluster_26(-7)'\n",
      " 'cluster_26(-8)' 'cluster_26(-9)' 'cluster_26(-10)' 'cluster_26(-11)'\n",
      " 'cluster_26(-12)' 'cluster_26(-13)' 'cluster_26(-14)' 'cluster_26(-15)'\n",
      " 'cluster_26(-16)' 'cluster_26(-17)' 'cluster_26(-18)' 'cluster_26(-19)'\n",
      " 'cluster_26(-20)' 'cluster_26(-21)' 'cluster_26(-22)' 'cluster_26(-23)'\n",
      " 'cluster_26(-24)' 'cluster_26(-25)' 'cluster_26(-26)' 'cluster_26(-27)'\n",
      " 'cluster_26(-28)' 'cluster_26(-29)' 'cluster_26(-30)' 'cluster_26(-31)'\n",
      " 'cluster_26(-32)' 'cluster_26(-33)' 'cluster_26(-34)' 'cluster_26(-35)'\n",
      " 'cluster_26(-36)' 'cluster_26(-37)' 'cluster_26(-38)' 'cluster_26(-39)'\n",
      " 'cluster_26(-40)' 'cluster_26(-41)' 'cluster_26(-42)' 'cluster_26(-43)'\n",
      " 'cluster_26(-44)' 'cluster_26(-45)' 'cluster_26(-46)' 'cluster_26(-47)'\n",
      " 'cluster_26(-48)' 'cluster_26(-49)' 'cluster_26(-50)' 'cluster_26(-51)'\n",
      " 'cluster_26(-52)' 'cluster_26(-53)' 'cluster_26(-54)' 'cluster_26(-55)'\n",
      " 'cluster_26(-56)' 'cluster_26(-57)' 'cluster_26(-58)' 'cluster_26(-59)'\n",
      " 'cluster_26(-60)' 'cluster_26(-61)' 'cluster_26(-62)' 'cluster_26(-63)'\n",
      " 'cluster_26(-64)' 'cluster_26(-65)' 'cluster_26(-66)' 'cluster_26(-67)'\n",
      " 'cluster_26(-68)' 'cluster_26(-69)' 'cluster_26(-70)' 'cluster_26(-71)'\n",
      " 'cluster_26(-72)' 'cluster_26(-73)' 'cluster_26(-74)' 'cluster_26(-75)'\n",
      " 'cluster_26(-76)' 'cluster_26(-77)' 'cluster_26(-78)' 'cluster_26(-79)'\n",
      " 'cluster_26(-80)' 'cluster_26(-81)' 'cluster_26(-82)' 'cluster_26(-83)'\n",
      " 'cluster_26(-84)' 'cluster_26(-85)' 'cluster_26(-86)' 'cluster_26(-87)'\n",
      " 'cluster_26(-88)' 'cluster_26(-89)' 'cluster_26(-90)' 'cluster_26(-91)'\n",
      " 'cluster_26(-92)' 'cluster_26(-93)' 'cluster_26(-94)' 'cluster_26(-95)'\n",
      " 'cluster_26(-96)' 'cluster_26(-97)' 'cluster_26(-98)' 'cluster_26(-99)'\n",
      " 'cluster_26(-100)' 'cluster_26(-101)' 'cluster_26(-102)'\n",
      " 'cluster_26(-103)' 'cluster_26(-104)' 'cluster_26(-105)'\n",
      " 'cluster_26(-106)' 'cluster_26(-107)' 'cluster_26(-108)'\n",
      " 'cluster_26(-109)' 'cluster_26(-110)' 'cluster_26(-111)'\n",
      " 'cluster_26(-112)' 'cluster_26(-113)' 'cluster_26(-114)'\n",
      " 'cluster_26(-115)' 'cluster_26(-116)' 'cluster_26(-117)'\n",
      " 'cluster_26(-118)' 'cluster_26(-119)' 'cluster_26(-120)'\n",
      " 'cluster_26(-121)' 'cluster_26(-122)' 'cluster_26(-123)'\n",
      " 'cluster_26(-124)' 'cluster_26(-125)' 'cluster_26(-126)'\n",
      " 'cluster_26(-127)' 'cluster_26(-128)' 'cluster_26(-129)'\n",
      " 'cluster_26(-130)' 'cluster_26(-131)' 'cluster_26(-132)'\n",
      " 'cluster_26(-133)' 'cluster_26(-134)' 'cluster_26(-135)'\n",
      " 'cluster_26(-136)' 'cluster_26(-137)' 'cluster_26(-138)'\n",
      " 'cluster_26(-139)' 'cluster_26(-140)' 'cluster_26(-141)'\n",
      " 'cluster_26(-142)' 'cluster_26(-143)' 'cluster_26(-144)'\n",
      " 'cluster_26(-145)' 'cluster_26(-146)' 'cluster_26(-147)'\n",
      " 'cluster_26(-148)' 'cluster_26(-149)' 'cluster_26(-150)'\n",
      " 'cluster_26(-151)' 'cluster_26(-152)' 'cluster_26(-153)'\n",
      " 'cluster_26(-154)' 'cluster_26(-155)' 'cluster_26(-156)'\n",
      " 'cluster_26(-157)' 'cluster_26(-158)' 'cluster_26(-159)'\n",
      " 'cluster_26(-160)' 'cluster_26(-161)' 'cluster_26(-162)'\n",
      " 'cluster_26(-163)' 'cluster_26(-164)' 'cluster_26(-165)'\n",
      " 'cluster_26(-166)' 'cluster_26(-167)' 'cluster_26(-168)'\n",
      " 'cluster_26(-169)' 'cluster_26(-170)' 'cluster_26(-171)'\n",
      " 'cluster_26(-172)' 'cluster_26(-173)' 'cluster_26(-174)'\n",
      " 'cluster_26(-175)' 'cluster_26(-176)' 'cluster_26(-177)'\n",
      " 'cluster_26(-178)' 'cluster_26(-179)' 'cluster_26(-180)'\n",
      " 'cluster_26(-181)' 'cluster_26(-182)' 'cluster_26(-183)'\n",
      " 'cluster_26(-184)' 'cluster_26(-185)' 'cluster_26(-186)'\n",
      " 'cluster_26(-187)' 'cluster_26(-188)' 'cluster_26(-189)'\n",
      " 'cluster_26(-190)' 'cluster_26(-191)' 'cluster_26(-192)'\n",
      " 'cluster_26(-193)' 'cluster_26(-194)' 'cluster_26(-195)'\n",
      " 'cluster_26(-196)' 'cluster_26(-197)' 'cluster_26(-198)'\n",
      " 'cluster_26(-199)' 'cluster_26(-200)']\n"
     ]
    }
   ],
   "source": [
    "# cluster_26 column is the target, row ID is the datetime in hour, while the rest are the previous 200 timesteps\n",
    "print(train_df.columns.values)"
   ]
  },
  {
   "cell_type": "code",
   "execution_count": 12,
   "id": "5a0e8559-25dd-41d7-b730-01f4f4ac5837",
   "metadata": {},
   "outputs": [
    {
     "data": {
      "text/plain": [
       "cluster_26          float64\n",
       "row ID               object\n",
       "cluster_26(-1)      float64\n",
       "cluster_26(-2)      float64\n",
       "cluster_26(-3)      float64\n",
       "                     ...   \n",
       "cluster_26(-196)    float64\n",
       "cluster_26(-197)    float64\n",
       "cluster_26(-198)    float64\n",
       "cluster_26(-199)    float64\n",
       "cluster_26(-200)    float64\n",
       "Length: 202, dtype: object"
      ]
     },
     "execution_count": 12,
     "metadata": {},
     "output_type": "execute_result"
    }
   ],
   "source": [
    "train_df.dtypes"
   ]
  },
  {
   "cell_type": "markdown",
   "id": "b131628f-cc9b-4ce2-b02c-a5701a44948b",
   "metadata": {},
   "source": [
    "We need to convert the `row ID` column to `datetime` format and set it to our index for visualization later."
   ]
  },
  {
   "cell_type": "code",
   "execution_count": 13,
   "id": "fae47bc6-800d-47f3-a709-00d99bbf9811",
   "metadata": {},
   "outputs": [],
   "source": [
    "train_df['row ID'] = pd.to_datetime(train_df['row ID'])\n",
    "train_df.set_index('row ID', inplace=True)"
   ]
  },
  {
   "cell_type": "code",
   "execution_count": 14,
   "id": "28d580d2-c808-49c4-a43d-cf29ab906c73",
   "metadata": {},
   "outputs": [
    {
     "data": {
      "text/plain": [
       "True"
      ]
     },
     "execution_count": 14,
     "metadata": {},
     "output_type": "execute_result"
    }
   ],
   "source": [
    "# there are 0 missing value\n",
    "(train_df.isna().sum() == 0).all()"
   ]
  },
  {
   "cell_type": "code",
   "execution_count": 15,
   "id": "a2498a99-5820-4c70-b27e-a5bf8c74ecc5",
   "metadata": {},
   "outputs": [
    {
     "data": {
      "text/html": [
       "<div>\n",
       "<style scoped>\n",
       "    .dataframe tbody tr th:only-of-type {\n",
       "        vertical-align: middle;\n",
       "    }\n",
       "\n",
       "    .dataframe tbody tr th {\n",
       "        vertical-align: top;\n",
       "    }\n",
       "\n",
       "    .dataframe thead th {\n",
       "        text-align: right;\n",
       "    }\n",
       "</style>\n",
       "<table border=\"1\" class=\"dataframe\">\n",
       "  <thead>\n",
       "    <tr style=\"text-align: right;\">\n",
       "      <th></th>\n",
       "      <th>cluster_26</th>\n",
       "      <th>row ID</th>\n",
       "      <th>cluster_26(-1)</th>\n",
       "      <th>cluster_26(-2)</th>\n",
       "      <th>cluster_26(-3)</th>\n",
       "      <th>cluster_26(-4)</th>\n",
       "      <th>cluster_26(-5)</th>\n",
       "      <th>cluster_26(-6)</th>\n",
       "      <th>cluster_26(-7)</th>\n",
       "      <th>cluster_26(-8)</th>\n",
       "      <th>...</th>\n",
       "      <th>cluster_26(-191)</th>\n",
       "      <th>cluster_26(-192)</th>\n",
       "      <th>cluster_26(-193)</th>\n",
       "      <th>cluster_26(-194)</th>\n",
       "      <th>cluster_26(-195)</th>\n",
       "      <th>cluster_26(-196)</th>\n",
       "      <th>cluster_26(-197)</th>\n",
       "      <th>cluster_26(-198)</th>\n",
       "      <th>cluster_26(-199)</th>\n",
       "      <th>cluster_26(-200)</th>\n",
       "    </tr>\n",
       "  </thead>\n",
       "  <tbody>\n",
       "    <tr>\n",
       "      <th>0</th>\n",
       "      <td>6.632909</td>\n",
       "      <td>2010-09-24T08:00</td>\n",
       "      <td>4.489470</td>\n",
       "      <td>3.517848</td>\n",
       "      <td>3.517848</td>\n",
       "      <td>3.517848</td>\n",
       "      <td>3.317803</td>\n",
       "      <td>3.395939</td>\n",
       "      <td>3.537621</td>\n",
       "      <td>3.428667</td>\n",
       "      <td>...</td>\n",
       "      <td>11.807091</td>\n",
       "      <td>6.619803</td>\n",
       "      <td>4.122197</td>\n",
       "      <td>3.209076</td>\n",
       "      <td>3.139364</td>\n",
       "      <td>3.219273</td>\n",
       "      <td>3.198455</td>\n",
       "      <td>3.250061</td>\n",
       "      <td>3.297682</td>\n",
       "      <td>3.382652</td>\n",
       "    </tr>\n",
       "    <tr>\n",
       "      <th>1</th>\n",
       "      <td>11.321318</td>\n",
       "      <td>2010-09-24T09:00</td>\n",
       "      <td>6.632909</td>\n",
       "      <td>4.489470</td>\n",
       "      <td>3.517848</td>\n",
       "      <td>3.517848</td>\n",
       "      <td>3.517848</td>\n",
       "      <td>3.317803</td>\n",
       "      <td>3.395939</td>\n",
       "      <td>3.537621</td>\n",
       "      <td>...</td>\n",
       "      <td>14.300909</td>\n",
       "      <td>11.807091</td>\n",
       "      <td>6.619803</td>\n",
       "      <td>4.122197</td>\n",
       "      <td>3.209076</td>\n",
       "      <td>3.139364</td>\n",
       "      <td>3.219273</td>\n",
       "      <td>3.198455</td>\n",
       "      <td>3.250061</td>\n",
       "      <td>3.297682</td>\n",
       "    </tr>\n",
       "    <tr>\n",
       "      <th>2</th>\n",
       "      <td>14.767955</td>\n",
       "      <td>2010-09-24T10:00</td>\n",
       "      <td>11.321318</td>\n",
       "      <td>6.632909</td>\n",
       "      <td>4.489470</td>\n",
       "      <td>3.517848</td>\n",
       "      <td>3.517848</td>\n",
       "      <td>3.517848</td>\n",
       "      <td>3.317803</td>\n",
       "      <td>3.395939</td>\n",
       "      <td>...</td>\n",
       "      <td>14.954606</td>\n",
       "      <td>14.300909</td>\n",
       "      <td>11.807091</td>\n",
       "      <td>6.619803</td>\n",
       "      <td>4.122197</td>\n",
       "      <td>3.209076</td>\n",
       "      <td>3.139364</td>\n",
       "      <td>3.219273</td>\n",
       "      <td>3.198455</td>\n",
       "      <td>3.250061</td>\n",
       "    </tr>\n",
       "    <tr>\n",
       "      <th>3</th>\n",
       "      <td>15.461939</td>\n",
       "      <td>2010-09-24T11:00</td>\n",
       "      <td>14.767955</td>\n",
       "      <td>11.321318</td>\n",
       "      <td>6.632909</td>\n",
       "      <td>4.489470</td>\n",
       "      <td>3.517848</td>\n",
       "      <td>3.517848</td>\n",
       "      <td>3.517848</td>\n",
       "      <td>3.317803</td>\n",
       "      <td>...</td>\n",
       "      <td>15.467773</td>\n",
       "      <td>14.954606</td>\n",
       "      <td>14.300909</td>\n",
       "      <td>11.807091</td>\n",
       "      <td>6.619803</td>\n",
       "      <td>4.122197</td>\n",
       "      <td>3.209076</td>\n",
       "      <td>3.139364</td>\n",
       "      <td>3.219273</td>\n",
       "      <td>3.198455</td>\n",
       "    </tr>\n",
       "    <tr>\n",
       "      <th>4</th>\n",
       "      <td>15.106182</td>\n",
       "      <td>2010-09-24T12:00</td>\n",
       "      <td>15.461939</td>\n",
       "      <td>14.767955</td>\n",
       "      <td>11.321318</td>\n",
       "      <td>6.632909</td>\n",
       "      <td>4.489470</td>\n",
       "      <td>3.517848</td>\n",
       "      <td>3.517848</td>\n",
       "      <td>3.517848</td>\n",
       "      <td>...</td>\n",
       "      <td>14.608530</td>\n",
       "      <td>15.467773</td>\n",
       "      <td>14.954606</td>\n",
       "      <td>14.300909</td>\n",
       "      <td>11.807091</td>\n",
       "      <td>6.619803</td>\n",
       "      <td>4.122197</td>\n",
       "      <td>3.209076</td>\n",
       "      <td>3.139364</td>\n",
       "      <td>3.219273</td>\n",
       "    </tr>\n",
       "    <tr>\n",
       "      <th>...</th>\n",
       "      <td>...</td>\n",
       "      <td>...</td>\n",
       "      <td>...</td>\n",
       "      <td>...</td>\n",
       "      <td>...</td>\n",
       "      <td>...</td>\n",
       "      <td>...</td>\n",
       "      <td>...</td>\n",
       "      <td>...</td>\n",
       "      <td>...</td>\n",
       "      <td>...</td>\n",
       "      <td>...</td>\n",
       "      <td>...</td>\n",
       "      <td>...</td>\n",
       "      <td>...</td>\n",
       "      <td>...</td>\n",
       "      <td>...</td>\n",
       "      <td>...</td>\n",
       "      <td>...</td>\n",
       "      <td>...</td>\n",
       "      <td>...</td>\n",
       "    </tr>\n",
       "    <tr>\n",
       "      <th>2363</th>\n",
       "      <td>3.570083</td>\n",
       "      <td>2010-12-31T19:00</td>\n",
       "      <td>4.668550</td>\n",
       "      <td>6.194500</td>\n",
       "      <td>7.382867</td>\n",
       "      <td>7.382867</td>\n",
       "      <td>9.338467</td>\n",
       "      <td>9.670683</td>\n",
       "      <td>10.281083</td>\n",
       "      <td>10.540667</td>\n",
       "      <td>...</td>\n",
       "      <td>5.041089</td>\n",
       "      <td>5.528929</td>\n",
       "      <td>7.993286</td>\n",
       "      <td>12.122107</td>\n",
       "      <td>13.463589</td>\n",
       "      <td>14.678214</td>\n",
       "      <td>16.282696</td>\n",
       "      <td>18.417929</td>\n",
       "      <td>19.790696</td>\n",
       "      <td>20.618286</td>\n",
       "    </tr>\n",
       "    <tr>\n",
       "      <th>2364</th>\n",
       "      <td>3.352850</td>\n",
       "      <td>2010-12-31T20:00</td>\n",
       "      <td>3.570083</td>\n",
       "      <td>4.668550</td>\n",
       "      <td>6.194500</td>\n",
       "      <td>7.382867</td>\n",
       "      <td>7.382867</td>\n",
       "      <td>9.338467</td>\n",
       "      <td>9.670683</td>\n",
       "      <td>10.281083</td>\n",
       "      <td>...</td>\n",
       "      <td>5.159125</td>\n",
       "      <td>5.041089</td>\n",
       "      <td>5.528929</td>\n",
       "      <td>7.993286</td>\n",
       "      <td>12.122107</td>\n",
       "      <td>13.463589</td>\n",
       "      <td>14.678214</td>\n",
       "      <td>16.282696</td>\n",
       "      <td>18.417929</td>\n",
       "      <td>19.790696</td>\n",
       "    </tr>\n",
       "    <tr>\n",
       "      <th>2365</th>\n",
       "      <td>3.666383</td>\n",
       "      <td>2010-12-31T21:00</td>\n",
       "      <td>3.352850</td>\n",
       "      <td>3.570083</td>\n",
       "      <td>4.668550</td>\n",
       "      <td>6.194500</td>\n",
       "      <td>7.382867</td>\n",
       "      <td>7.382867</td>\n",
       "      <td>9.338467</td>\n",
       "      <td>9.670683</td>\n",
       "      <td>...</td>\n",
       "      <td>5.280482</td>\n",
       "      <td>5.159125</td>\n",
       "      <td>5.041089</td>\n",
       "      <td>5.528929</td>\n",
       "      <td>7.993286</td>\n",
       "      <td>12.122107</td>\n",
       "      <td>13.463589</td>\n",
       "      <td>14.678214</td>\n",
       "      <td>16.282696</td>\n",
       "      <td>18.417929</td>\n",
       "    </tr>\n",
       "    <tr>\n",
       "      <th>2366</th>\n",
       "      <td>3.755767</td>\n",
       "      <td>2010-12-31T22:00</td>\n",
       "      <td>3.666383</td>\n",
       "      <td>3.352850</td>\n",
       "      <td>3.570083</td>\n",
       "      <td>4.668550</td>\n",
       "      <td>6.194500</td>\n",
       "      <td>7.382867</td>\n",
       "      <td>7.382867</td>\n",
       "      <td>9.338467</td>\n",
       "      <td>...</td>\n",
       "      <td>5.465661</td>\n",
       "      <td>5.280482</td>\n",
       "      <td>5.159125</td>\n",
       "      <td>5.041089</td>\n",
       "      <td>5.528929</td>\n",
       "      <td>7.993286</td>\n",
       "      <td>12.122107</td>\n",
       "      <td>13.463589</td>\n",
       "      <td>14.678214</td>\n",
       "      <td>16.282696</td>\n",
       "    </tr>\n",
       "    <tr>\n",
       "      <th>2367</th>\n",
       "      <td>3.681083</td>\n",
       "      <td>2010-12-31T23:00</td>\n",
       "      <td>3.755767</td>\n",
       "      <td>3.666383</td>\n",
       "      <td>3.352850</td>\n",
       "      <td>3.570083</td>\n",
       "      <td>4.668550</td>\n",
       "      <td>6.194500</td>\n",
       "      <td>7.382867</td>\n",
       "      <td>7.382867</td>\n",
       "      <td>...</td>\n",
       "      <td>5.474533</td>\n",
       "      <td>5.465661</td>\n",
       "      <td>5.280482</td>\n",
       "      <td>5.159125</td>\n",
       "      <td>5.041089</td>\n",
       "      <td>5.528929</td>\n",
       "      <td>7.993286</td>\n",
       "      <td>12.122107</td>\n",
       "      <td>13.463589</td>\n",
       "      <td>14.678214</td>\n",
       "    </tr>\n",
       "  </tbody>\n",
       "</table>\n",
       "<p>2368 rows × 202 columns</p>\n",
       "</div>"
      ],
      "text/plain": [
       "      cluster_26            row ID  cluster_26(-1)  cluster_26(-2)  \\\n",
       "0       6.632909  2010-09-24T08:00        4.489470        3.517848   \n",
       "1      11.321318  2010-09-24T09:00        6.632909        4.489470   \n",
       "2      14.767955  2010-09-24T10:00       11.321318        6.632909   \n",
       "3      15.461939  2010-09-24T11:00       14.767955       11.321318   \n",
       "4      15.106182  2010-09-24T12:00       15.461939       14.767955   \n",
       "...          ...               ...             ...             ...   \n",
       "2363    3.570083  2010-12-31T19:00        4.668550        6.194500   \n",
       "2364    3.352850  2010-12-31T20:00        3.570083        4.668550   \n",
       "2365    3.666383  2010-12-31T21:00        3.352850        3.570083   \n",
       "2366    3.755767  2010-12-31T22:00        3.666383        3.352850   \n",
       "2367    3.681083  2010-12-31T23:00        3.755767        3.666383   \n",
       "\n",
       "      cluster_26(-3)  cluster_26(-4)  cluster_26(-5)  cluster_26(-6)  \\\n",
       "0           3.517848        3.517848        3.317803        3.395939   \n",
       "1           3.517848        3.517848        3.517848        3.317803   \n",
       "2           4.489470        3.517848        3.517848        3.517848   \n",
       "3           6.632909        4.489470        3.517848        3.517848   \n",
       "4          11.321318        6.632909        4.489470        3.517848   \n",
       "...              ...             ...             ...             ...   \n",
       "2363        7.382867        7.382867        9.338467        9.670683   \n",
       "2364        6.194500        7.382867        7.382867        9.338467   \n",
       "2365        4.668550        6.194500        7.382867        7.382867   \n",
       "2366        3.570083        4.668550        6.194500        7.382867   \n",
       "2367        3.352850        3.570083        4.668550        6.194500   \n",
       "\n",
       "      cluster_26(-7)  cluster_26(-8)  ...  cluster_26(-191)  cluster_26(-192)  \\\n",
       "0           3.537621        3.428667  ...         11.807091          6.619803   \n",
       "1           3.395939        3.537621  ...         14.300909         11.807091   \n",
       "2           3.317803        3.395939  ...         14.954606         14.300909   \n",
       "3           3.517848        3.317803  ...         15.467773         14.954606   \n",
       "4           3.517848        3.517848  ...         14.608530         15.467773   \n",
       "...              ...             ...  ...               ...               ...   \n",
       "2363       10.281083       10.540667  ...          5.041089          5.528929   \n",
       "2364        9.670683       10.281083  ...          5.159125          5.041089   \n",
       "2365        9.338467        9.670683  ...          5.280482          5.159125   \n",
       "2366        7.382867        9.338467  ...          5.465661          5.280482   \n",
       "2367        7.382867        7.382867  ...          5.474533          5.465661   \n",
       "\n",
       "      cluster_26(-193)  cluster_26(-194)  cluster_26(-195)  cluster_26(-196)  \\\n",
       "0             4.122197          3.209076          3.139364          3.219273   \n",
       "1             6.619803          4.122197          3.209076          3.139364   \n",
       "2            11.807091          6.619803          4.122197          3.209076   \n",
       "3            14.300909         11.807091          6.619803          4.122197   \n",
       "4            14.954606         14.300909         11.807091          6.619803   \n",
       "...                ...               ...               ...               ...   \n",
       "2363          7.993286         12.122107         13.463589         14.678214   \n",
       "2364          5.528929          7.993286         12.122107         13.463589   \n",
       "2365          5.041089          5.528929          7.993286         12.122107   \n",
       "2366          5.159125          5.041089          5.528929          7.993286   \n",
       "2367          5.280482          5.159125          5.041089          5.528929   \n",
       "\n",
       "      cluster_26(-197)  cluster_26(-198)  cluster_26(-199)  cluster_26(-200)  \n",
       "0             3.198455          3.250061          3.297682          3.382652  \n",
       "1             3.219273          3.198455          3.250061          3.297682  \n",
       "2             3.139364          3.219273          3.198455          3.250061  \n",
       "3             3.209076          3.139364          3.219273          3.198455  \n",
       "4             4.122197          3.209076          3.139364          3.219273  \n",
       "...                ...               ...               ...               ...  \n",
       "2363         16.282696         18.417929         19.790696         20.618286  \n",
       "2364         14.678214         16.282696         18.417929         19.790696  \n",
       "2365         13.463589         14.678214         16.282696         18.417929  \n",
       "2366         12.122107         13.463589         14.678214         16.282696  \n",
       "2367          7.993286         12.122107         13.463589         14.678214  \n",
       "\n",
       "[2368 rows x 202 columns]"
      ]
     },
     "execution_count": 15,
     "metadata": {},
     "output_type": "execute_result"
    }
   ],
   "source": [
    "test_df = pd.read_csv(os.path.join(DATA_PATH, \"DemandPrediction_TestSet.csv\"))\n",
    "test_df"
   ]
  },
  {
   "cell_type": "code",
   "execution_count": 16,
   "id": "fae57d50-1df3-4d41-af22-ae8f4f6f83f3",
   "metadata": {},
   "outputs": [],
   "source": [
    "test_df['row ID'] = pd.to_datetime(test_df['row ID'])\n",
    "test_df.set_index('row ID', inplace=True)"
   ]
  },
  {
   "cell_type": "code",
   "execution_count": 17,
   "id": "b71f9551-c997-4cdb-be8b-6d761ccd92e7",
   "metadata": {},
   "outputs": [
    {
     "data": {
      "text/plain": [
       "True"
      ]
     },
     "execution_count": 17,
     "metadata": {},
     "output_type": "execute_result"
    }
   ],
   "source": [
    "# there are 0 missing value\n",
    "(test_df.isna().sum() == 0).all()"
   ]
  },
  {
   "cell_type": "markdown",
   "id": "09cbc50d-9830-42b4-bce4-93b498584e60",
   "metadata": {},
   "source": [
    "# Preparing the data"
   ]
  },
  {
   "cell_type": "markdown",
   "id": "89cef193-c882-4c7e-8e0c-9e50b6c8dfe9",
   "metadata": {},
   "source": [
    "Because the data is in the form of data right before the Column Aggregator node in KNIME, we need to extract the data and convert them into NumPy arrays to feed into Keras model."
   ]
  },
  {
   "cell_type": "code",
   "execution_count": 18,
   "id": "5a4e171b-2720-4da4-aeaf-8e6582c141ce",
   "metadata": {},
   "outputs": [
    {
     "data": {
      "text/plain": [
       "(10072, 200, 1)"
      ]
     },
     "execution_count": 18,
     "metadata": {},
     "output_type": "execute_result"
    }
   ],
   "source": [
    "X_train_df = train_df.drop(columns=['cluster_26'])\n",
    "\n",
    "X_train = X_train_df.values\n",
    "# must reshape into [N, timesteps, 1]\n",
    "X_train = X_train.reshape(-1, 200, 1)\n",
    "X_train.shape"
   ]
  },
  {
   "cell_type": "code",
   "execution_count": 19,
   "id": "f60a5097-5c8d-4567-a19f-c0fc5ba7d2a1",
   "metadata": {},
   "outputs": [
    {
     "data": {
      "text/plain": [
       "(2368, 200, 1)"
      ]
     },
     "execution_count": 19,
     "metadata": {},
     "output_type": "execute_result"
    }
   ],
   "source": [
    "X_test_df = test_df.drop(columns=['cluster_26'])\n",
    "\n",
    "X_test = X_test_df.values\n",
    "# must reshape into [N, timesteps, 1]\n",
    "X_test = X_test.reshape(-1, 200, 1)\n",
    "X_test.shape"
   ]
  },
  {
   "cell_type": "code",
   "execution_count": 20,
   "id": "c1092bd6-0b5a-413f-842b-9fe9f2fe851c",
   "metadata": {},
   "outputs": [
    {
     "data": {
      "text/plain": [
       "(10072,)"
      ]
     },
     "execution_count": 20,
     "metadata": {},
     "output_type": "execute_result"
    }
   ],
   "source": [
    "y_train_df = train_df['cluster_26']\n",
    "\n",
    "y_train = y_train_df.values\n",
    "y_train.shape"
   ]
  },
  {
   "cell_type": "code",
   "execution_count": 21,
   "id": "e780b16d-80a6-4ffe-9a8e-b7aba324ef58",
   "metadata": {},
   "outputs": [
    {
     "data": {
      "text/plain": [
       "(2368,)"
      ]
     },
     "execution_count": 21,
     "metadata": {},
     "output_type": "execute_result"
    }
   ],
   "source": [
    "y_test_df = test_df['cluster_26']\n",
    "\n",
    "y_test = y_test_df.values\n",
    "y_test.shape"
   ]
  },
  {
   "cell_type": "code",
   "execution_count": 22,
   "id": "2d80152a-2e1d-49cc-8a81-11f0d7e8f098",
   "metadata": {},
   "outputs": [
    {
     "data": {
      "text/plain": [
       "(1, 200, 1)"
      ]
     },
     "execution_count": 22,
     "metadata": {},
     "output_type": "execute_result"
    }
   ],
   "source": [
    "# you need to pass in the data with shape of [N, timesteps, 1] to Keras model\n",
    "X_train[:1].shape"
   ]
  },
  {
   "cell_type": "code",
   "execution_count": 23,
   "id": "23576445-bff9-4fce-970d-4fbbfae553f9",
   "metadata": {},
   "outputs": [
    {
     "name": "stdout",
     "output_type": "stream",
     "text": [
      "Predicted\t: [7.654013]\n",
      "Actual\t\t: 6.478670731707316\n"
     ]
    }
   ],
   "source": [
    "# you can test whether the KNIME's model can make inference with it or not\n",
    "print(f\"Predicted\\t: {knime_model.predict(X_train[:1])[0]}\")\n",
    "print(f\"Actual\\t\\t: {y_train[0]}\")"
   ]
  },
  {
   "cell_type": "markdown",
   "id": "917d4c9a-9c04-4598-a0b6-4bbdad03d1bc",
   "metadata": {},
   "source": [
    "# Comparing Prediction Results of Loaded Model VS Model in KNIME"
   ]
  },
  {
   "cell_type": "code",
   "execution_count": 24,
   "id": "9e9eefff-23a1-4090-9e0d-4cc84bf954e2",
   "metadata": {},
   "outputs": [
    {
     "data": {
      "text/plain": [
       "(600, 1)"
      ]
     },
     "execution_count": 24,
     "metadata": {},
     "output_type": "execute_result"
    }
   ],
   "source": [
    "# the example only demo on next 600 samples\n",
    "knime_pred = knime_model.predict(X_test[:600])\n",
    "knime_pred.shape"
   ]
  },
  {
   "cell_type": "code",
   "execution_count": 25,
   "id": "a1c71f4c-23b6-45e2-aeb7-18b8c1dd9145",
   "metadata": {},
   "outputs": [
    {
     "data": {
      "text/html": [
       "<div>\n",
       "<style scoped>\n",
       "    .dataframe tbody tr th:only-of-type {\n",
       "        vertical-align: middle;\n",
       "    }\n",
       "\n",
       "    .dataframe tbody tr th {\n",
       "        vertical-align: top;\n",
       "    }\n",
       "\n",
       "    .dataframe thead th {\n",
       "        text-align: right;\n",
       "    }\n",
       "</style>\n",
       "<table border=\"1\" class=\"dataframe\">\n",
       "  <thead>\n",
       "    <tr style=\"text-align: right;\">\n",
       "      <th></th>\n",
       "      <th>cluster_26</th>\n",
       "      <th>predictions</th>\n",
       "    </tr>\n",
       "    <tr>\n",
       "      <th>row ID</th>\n",
       "      <th></th>\n",
       "      <th></th>\n",
       "    </tr>\n",
       "  </thead>\n",
       "  <tbody>\n",
       "    <tr>\n",
       "      <th>2010-09-24 08:00:00</th>\n",
       "      <td>6.632909</td>\n",
       "      <td>7.934097</td>\n",
       "    </tr>\n",
       "    <tr>\n",
       "      <th>2010-09-24 09:00:00</th>\n",
       "      <td>11.321318</td>\n",
       "      <td>12.159174</td>\n",
       "    </tr>\n",
       "    <tr>\n",
       "      <th>2010-09-24 10:00:00</th>\n",
       "      <td>14.767955</td>\n",
       "      <td>14.144682</td>\n",
       "    </tr>\n",
       "    <tr>\n",
       "      <th>2010-09-24 11:00:00</th>\n",
       "      <td>15.461939</td>\n",
       "      <td>14.549006</td>\n",
       "    </tr>\n",
       "    <tr>\n",
       "      <th>2010-09-24 12:00:00</th>\n",
       "      <td>15.106182</td>\n",
       "      <td>14.254324</td>\n",
       "    </tr>\n",
       "    <tr>\n",
       "      <th>...</th>\n",
       "      <td>...</td>\n",
       "      <td>...</td>\n",
       "    </tr>\n",
       "    <tr>\n",
       "      <th>2010-10-19 03:00:00</th>\n",
       "      <td>3.457500</td>\n",
       "      <td>3.389347</td>\n",
       "    </tr>\n",
       "    <tr>\n",
       "      <th>2010-10-19 04:00:00</th>\n",
       "      <td>3.426697</td>\n",
       "      <td>3.298022</td>\n",
       "    </tr>\n",
       "    <tr>\n",
       "      <th>2010-10-19 05:00:00</th>\n",
       "      <td>3.358455</td>\n",
       "      <td>3.337390</td>\n",
       "    </tr>\n",
       "    <tr>\n",
       "      <th>2010-10-19 06:00:00</th>\n",
       "      <td>3.452939</td>\n",
       "      <td>3.465635</td>\n",
       "    </tr>\n",
       "    <tr>\n",
       "      <th>2010-10-19 07:00:00</th>\n",
       "      <td>4.464742</td>\n",
       "      <td>4.495716</td>\n",
       "    </tr>\n",
       "  </tbody>\n",
       "</table>\n",
       "<p>600 rows × 2 columns</p>\n",
       "</div>"
      ],
      "text/plain": [
       "                     cluster_26  predictions\n",
       "row ID                                      \n",
       "2010-09-24 08:00:00    6.632909     7.934097\n",
       "2010-09-24 09:00:00   11.321318    12.159174\n",
       "2010-09-24 10:00:00   14.767955    14.144682\n",
       "2010-09-24 11:00:00   15.461939    14.549006\n",
       "2010-09-24 12:00:00   15.106182    14.254324\n",
       "...                         ...          ...\n",
       "2010-10-19 03:00:00    3.457500     3.389347\n",
       "2010-10-19 04:00:00    3.426697     3.298022\n",
       "2010-10-19 05:00:00    3.358455     3.337390\n",
       "2010-10-19 06:00:00    3.452939     3.465635\n",
       "2010-10-19 07:00:00    4.464742     4.495716\n",
       "\n",
       "[600 rows x 2 columns]"
      ]
     },
     "execution_count": 25,
     "metadata": {},
     "output_type": "execute_result"
    }
   ],
   "source": [
    "pred_df = y_test_df[:600].to_frame()\n",
    "pred_df['predictions'] = knime_pred\n",
    "pred_df"
   ]
  },
  {
   "cell_type": "code",
   "execution_count": 26,
   "id": "904e2ed8-4f5c-4e00-a1a9-b659769caae0",
   "metadata": {},
   "outputs": [
    {
     "data": {
      "image/png": "[encoded data removed]",
      "text/plain": [
       "<Figure size 1300x600 with 1 Axes>"
      ]
     },
     "metadata": {},
     "output_type": "display_data"
    }
   ],
   "source": [
    "pred_df.plot(\n",
    "    figsize=(13, 6),\n",
    "    marker='o',\n",
    "    markersize=1,\n",
    "    linewidth=0.5\n",
    ")\n",
    "plt.xlim(['2010-09-23', '2010-10-22'])\n",
    "plt.title(\"Loaded KNIME Model's Plot: In-sample Predictions VS Targets\")\n",
    "plt.show()"
   ]
  },
  {
   "cell_type": "markdown",
   "id": "08ecf203-f014-4336-831d-3072f2548211",
   "metadata": {},
   "source": [
    "Comparing with model result in KNIME:\n",
    "\n",
    "![time_series-result_plot.jpeg](results/time_series-result_plot.jpeg)"
   ]
  },
  {
   "cell_type": "code",
   "execution_count": 27,
   "id": "eac2ad9e-f2ef-4781-b6de-2f8702628287",
   "metadata": {},
   "outputs": [
    {
     "name": "stdout",
     "output_type": "stream",
     "text": [
      "R2:\t\t\t\t0.981\n",
      "Mean absolute error:\t\t0.416\n",
      "Mean squared error:\t\t0.373\n",
      "Root mean squared error:\t0.611\n",
      "Mean absolute percentage error:\t0.068\n"
     ]
    }
   ],
   "source": [
    "from sklearn.metrics import r2_score, mean_absolute_error, mean_squared_error, mean_absolute_percentage_error\n",
    "\n",
    "sample_test = y_test[:600]\n",
    "r2 = r2_score(sample_test, knime_pred)\n",
    "mae = mean_absolute_error(sample_test, knime_pred)\n",
    "mse = mean_squared_error(sample_test, knime_pred)\n",
    "rmse = mean_squared_error(sample_test, knime_pred, squared=False)\n",
    "mape = mean_absolute_percentage_error(sample_test, knime_pred)\n",
    "\n",
    "print(f\"R2:\\t\\t\\t\\t{r2:.3f}\")\n",
    "print(f\"Mean absolute error:\\t\\t{mae:.3f}\")\n",
    "print(f\"Mean squared error:\\t\\t{mse:.3f}\")\n",
    "print(f\"Root mean squared error:\\t{rmse:.3f}\")\n",
    "print(f\"Mean absolute percentage error:\\t{mape:.3f}\")"
   ]
  },
  {
   "cell_type": "markdown",
   "id": "797c93d3-e32b-48d5-b351-4bdf6e1d5d85",
   "metadata": {},
   "source": [
    "![time_series-statiscal_result.jpeg](results/time_series-statiscal_result.jpeg)"
   ]
  },
  {
   "cell_type": "markdown",
   "id": "9341fb81-892c-41be-8316-6804d6385d51",
   "metadata": {},
   "source": [
    "The results are exactly the same using the model exported from KNIME."
   ]
  },
  {
   "cell_type": "markdown",
   "id": "5e5487bb-226b-4fc7-a566-7e3078939a89",
   "metadata": {},
   "source": [
    "# Model Building in Python"
   ]
  },
  {
   "cell_type": "code",
   "execution_count": 28,
   "id": "c1b06c5c-4125-4844-bc68-9aa2a7f93ff8",
   "metadata": {},
   "outputs": [
    {
     "name": "stdout",
     "output_type": "stream",
     "text": [
      "Model: \"model_1\"\n",
      "_________________________________________________________________\n",
      "Layer (type)                 Output Shape              Param #   \n",
      "=================================================================\n",
      "input_1 (InputLayer)         [(None, 200, 1)]          0         \n",
      "_________________________________________________________________\n",
      "lstm_1 (LSTM)                (None, 100)               40800     \n",
      "_________________________________________________________________\n",
      "dense_1 (Dense)              (None, 1)                 101       \n",
      "=================================================================\n",
      "Total params: 40,901\n",
      "Trainable params: 40,901\n",
      "Non-trainable params: 0\n",
      "_________________________________________________________________\n"
     ]
    }
   ],
   "source": [
    "# check KNIME's keras model see\n",
    "knime_model.summary()"
   ]
  },
  {
   "cell_type": "code",
   "execution_count": 40,
   "id": "592b2a6f-e823-42f0-b46e-8c9ab6428a50",
   "metadata": {},
   "outputs": [
    {
     "name": "stdout",
     "output_type": "stream",
     "text": [
      "Model: \"sequential\"\n",
      "_________________________________________________________________\n",
      "Layer (type)                 Output Shape              Param #   \n",
      "=================================================================\n",
      "lstm (LSTM)                  (None, 100)               40800     \n",
      "_________________________________________________________________\n",
      "dense (Dense)                (None, 1)                 101       \n",
      "=================================================================\n",
      "Total params: 40,901\n",
      "Trainable params: 40,901\n",
      "Non-trainable params: 0\n",
      "_________________________________________________________________\n"
     ]
    }
   ],
   "source": [
    "from tensorflow.keras import layers\n",
    "\n",
    "tf.keras.backend.clear_session()\n",
    "model = tf.keras.models.Sequential([\n",
    "    layers.InputLayer(input_shape=(200, 1)),\n",
    "    layers.LSTM(100),\n",
    "    # the book said it used 'relu', which is not possible to output the correct real value\n",
    "    # hence 'linear' activation function should be used\n",
    "    layers.Dense(1, activation='linear'),\n",
    "])\n",
    "model.summary()"
   ]
  },
  {
   "cell_type": "code",
   "execution_count": 41,
   "id": "00cd1e15-4f22-4229-b389-5b5ef9428a17",
   "metadata": {},
   "outputs": [],
   "source": [
    "model.compile(\n",
    "    optimizer=tf.keras.optimizers.Adam(learning_rate=0.001, beta_1=0.9, beta_2=0.999, epsilon=1e-8),\n",
    "    loss=tf.keras.losses.MeanSquaredError(),\n",
    "    metrics=[\"mse\"],\n",
    ")"
   ]
  },
  {
   "cell_type": "code",
   "execution_count": 42,
   "id": "9d549eb7-a78a-40ad-a64a-14cb04ed1eca",
   "metadata": {},
   "outputs": [
    {
     "name": "stdout",
     "output_type": "stream",
     "text": [
      "Epoch 1/50\n",
      "40/40 [==============================] - 2s 25ms/step - loss: 31.4752 - mse: 31.4752: 0s - loss: 46.1330 - ms - ETA: 0s - loss: 31.7310 - mse: 31.731\n",
      "Epoch 2/50\n",
      "40/40 [==============================] - 1s 24ms/step - loss: 22.5220 - mse: 22.5220\n",
      "Epoch 3/50\n",
      "40/40 [==============================] - 1s 24ms/step - loss: 14.2890 - mse: 14.2890\n",
      "Epoch 4/50\n",
      "40/40 [==============================] - 1s 24ms/step - loss: 8.1155 - mse: 8.1155\n",
      "Epoch 5/50\n",
      "40/40 [==============================] - 1s 24ms/step - loss: 5.9783 - mse: 5.9783: 0s - loss: 6.6433 - m\n",
      "Epoch 6/50\n",
      "40/40 [==============================] - 1s 23ms/step - loss: 4.4422 - mse: 4.4422\n",
      "Epoch 7/50\n",
      "40/40 [==============================] - 1s 23ms/step - loss: 3.7893 - mse: 3.7893: 0s - loss: 3.7893 - mse: 3.789\n",
      "Epoch 8/50\n",
      "40/40 [==============================] - 1s 23ms/step - loss: 3.4156 - mse: 3.4156\n",
      "Epoch 9/50\n",
      "40/40 [==============================] - 1s 23ms/step - loss: 3.3007 - mse: 3.3007\n",
      "Epoch 10/50\n",
      "40/40 [==============================] - 1s 23ms/step - loss: 3.1404 - mse: 3.1404\n",
      "Epoch 11/50\n",
      "40/40 [==============================] - 1s 23ms/step - loss: 3.1648 - mse: 3.1648: 0s - loss: 3.7229 \n",
      "Epoch 12/50\n",
      "40/40 [==============================] - 1s 24ms/step - loss: 2.9108 - mse: 2.9108\n",
      "Epoch 13/50\n",
      "40/40 [==============================] - 1s 23ms/step - loss: 3.1171 - mse: 3.1171: 0s - loss: 3.1171 - mse: 3.117\n",
      "Epoch 14/50\n",
      "40/40 [==============================] - 1s 23ms/step - loss: 2.6685 - mse: 2.6685\n",
      "Epoch 15/50\n",
      "40/40 [==============================] - 1s 23ms/step - loss: 2.6257 - mse: 2.6257\n",
      "Epoch 16/50\n",
      "40/40 [==============================] - 1s 23ms/step - loss: 2.5573 - mse: 2.5573\n",
      "Epoch 17/50\n",
      "40/40 [==============================] - 1s 23ms/step - loss: 2.4097 - mse: 2.4097\n",
      "Epoch 18/50\n",
      "40/40 [==============================] - 1s 23ms/step - loss: 2.3962 - mse: 2.3962\n",
      "Epoch 19/50\n",
      "40/40 [==============================] - 1s 23ms/step - loss: 2.2742 - mse: 2.2742\n",
      "Epoch 20/50\n",
      "40/40 [==============================] - 1s 24ms/step - loss: 2.3107 - mse: 2.3107\n",
      "Epoch 21/50\n",
      "40/40 [==============================] - 1s 23ms/step - loss: 2.9715 - mse: 2.9715\n",
      "Epoch 22/50\n",
      "40/40 [==============================] - 1s 23ms/step - loss: 2.5204 - mse: 2.5204\n",
      "Epoch 23/50\n",
      "40/40 [==============================] - 1s 23ms/step - loss: 3.1275 - mse: 3.1275\n",
      "Epoch 24/50\n",
      "40/40 [==============================] - 1s 23ms/step - loss: 3.8306 - mse: 3.8306\n",
      "Epoch 25/50\n",
      "40/40 [==============================] - 1s 24ms/step - loss: 3.1589 - mse: 3.1589: 0s - loss: 3.0601 - mse: 3 - ETA: 0s - loss: 3.1865 - mse: 3\n",
      "Epoch 26/50\n",
      "40/40 [==============================] - 1s 23ms/step - loss: 2.8097 - mse: 2.8097\n",
      "Epoch 27/50\n",
      "40/40 [==============================] - 1s 23ms/step - loss: 2.6058 - mse: 2.6058\n",
      "Epoch 28/50\n",
      "40/40 [==============================] - 1s 24ms/step - loss: 2.5553 - mse: 2.5553\n",
      "Epoch 29/50\n",
      "40/40 [==============================] - 1s 24ms/step - loss: 2.3888 - mse: 2.3888: 0s - loss: 2.2995 - mse: \n",
      "Epoch 30/50\n",
      "40/40 [==============================] - 1s 24ms/step - loss: 2.3732 - mse: 2.3732: 0s - loss: 2.3612 - mse: 2.36\n",
      "Epoch 31/50\n",
      "40/40 [==============================] - 1s 23ms/step - loss: 2.2303 - mse: 2.2303\n",
      "Epoch 32/50\n",
      "40/40 [==============================] - 1s 23ms/step - loss: 2.1208 - mse: 2.1208: 0s - loss: 2.1233 - mse: 2.12 - ETA: 0s - loss: 2.1265 - mse: 2.12\n",
      "Epoch 33/50\n",
      "40/40 [==============================] - 1s 23ms/step - loss: 2.2266 - mse: 2.2266\n",
      "Epoch 34/50\n",
      "40/40 [==============================] - 1s 23ms/step - loss: 1.9753 - mse: 1.9753\n",
      "Epoch 35/50\n",
      "40/40 [==============================] - 1s 23ms/step - loss: 1.9934 - mse: 1.9934\n",
      "Epoch 36/50\n",
      "40/40 [==============================] - 1s 23ms/step - loss: 1.9786 - mse: 1.9786: 0s - loss: 1.9769 - ms\n",
      "Epoch 37/50\n",
      "40/40 [==============================] - 1s 23ms/step - loss: 1.8572 - mse: 1.8572\n",
      "Epoch 38/50\n",
      "40/40 [==============================] - 1s 23ms/step - loss: 4.5327 - mse: 4.5327: 0s - loss: 4.3382 - mse: 4.3 - ETA: 0s - loss: 4.7156 - mse: 4\n",
      "Epoch 39/50\n",
      "40/40 [==============================] - 1s 23ms/step - loss: 3.3050 - mse: 3.3050\n",
      "Epoch 40/50\n",
      "40/40 [==============================] - 1s 23ms/step - loss: 2.7406 - mse: 2.7406\n",
      "Epoch 41/50\n",
      "40/40 [==============================] - 1s 23ms/step - loss: 2.4838 - mse: 2.4838\n",
      "Epoch 42/50\n",
      "40/40 [==============================] - 1s 23ms/step - loss: 2.3344 - mse: 2.3344\n",
      "Epoch 43/50\n",
      "40/40 [==============================] - 1s 23ms/step - loss: 2.1704 - mse: 2.1704: 0s - loss: 2.1652 - mse: 2.\n",
      "Epoch 44/50\n",
      "40/40 [==============================] - 1s 23ms/step - loss: 2.1385 - mse: 2.1385\n",
      "Epoch 45/50\n",
      "40/40 [==============================] - 1s 23ms/step - loss: 1.9870 - mse: 1.9870\n",
      "Epoch 46/50\n",
      "40/40 [==============================] - 1s 23ms/step - loss: 1.9513 - mse: 1.9513\n",
      "Epoch 47/50\n",
      "40/40 [==============================] - 1s 23ms/step - loss: 1.8741 - mse: 1.8741: 0s - loss: 1.8582 - mse: 1.85\n",
      "Epoch 48/50\n",
      "40/40 [==============================] - 1s 24ms/step - loss: 1.7867 - mse: 1.7867\n",
      "Epoch 49/50\n",
      "40/40 [==============================] - 1s 23ms/step - loss: 1.7391 - mse: 1.7391\n",
      "Epoch 50/50\n",
      "40/40 [==============================] - 1s 23ms/step - loss: 1.7747 - mse: 1.7747: 0s - loss: 1.7541 - mse: 1.7\n"
     ]
    }
   ],
   "source": [
    "history = model.fit(\n",
    "    X_train,\n",
    "    y_train,\n",
    "    batch_size=256,\n",
    "    epochs=50,\n",
    ")"
   ]
  },
  {
   "cell_type": "markdown",
   "id": "bc32c5eb-6393-464a-9018-266a37da6e6b",
   "metadata": {},
   "source": [
    "# Evaluation of Python Model VS KNIME Model"
   ]
  },
  {
   "cell_type": "code",
   "execution_count": 43,
   "id": "2869aa56-bc47-4239-a7fb-9e187d5326f2",
   "metadata": {},
   "outputs": [
    {
     "data": {
      "text/plain": [
       "(600, 1)"
      ]
     },
     "execution_count": 43,
     "metadata": {},
     "output_type": "execute_result"
    }
   ],
   "source": [
    "# the example only demo on next 600 samples\n",
    "y_pred = model.predict(X_test[:600])\n",
    "y_pred.shape"
   ]
  },
  {
   "cell_type": "code",
   "execution_count": 44,
   "id": "210c4ce9-bd77-42e1-bf85-ca8ad12c1eeb",
   "metadata": {},
   "outputs": [
    {
     "data": {
      "text/html": [
       "<div>\n",
       "<style scoped>\n",
       "    .dataframe tbody tr th:only-of-type {\n",
       "        vertical-align: middle;\n",
       "    }\n",
       "\n",
       "    .dataframe tbody tr th {\n",
       "        vertical-align: top;\n",
       "    }\n",
       "\n",
       "    .dataframe thead th {\n",
       "        text-align: right;\n",
       "    }\n",
       "</style>\n",
       "<table border=\"1\" class=\"dataframe\">\n",
       "  <thead>\n",
       "    <tr style=\"text-align: right;\">\n",
       "      <th></th>\n",
       "      <th>cluster_26</th>\n",
       "      <th>predictions</th>\n",
       "    </tr>\n",
       "    <tr>\n",
       "      <th>row ID</th>\n",
       "      <th></th>\n",
       "      <th></th>\n",
       "    </tr>\n",
       "  </thead>\n",
       "  <tbody>\n",
       "    <tr>\n",
       "      <th>2010-09-24 08:00:00</th>\n",
       "      <td>6.632909</td>\n",
       "      <td>7.244440</td>\n",
       "    </tr>\n",
       "    <tr>\n",
       "      <th>2010-09-24 09:00:00</th>\n",
       "      <td>11.321318</td>\n",
       "      <td>11.455515</td>\n",
       "    </tr>\n",
       "    <tr>\n",
       "      <th>2010-09-24 10:00:00</th>\n",
       "      <td>14.767955</td>\n",
       "      <td>14.305408</td>\n",
       "    </tr>\n",
       "    <tr>\n",
       "      <th>2010-09-24 11:00:00</th>\n",
       "      <td>15.461939</td>\n",
       "      <td>15.005801</td>\n",
       "    </tr>\n",
       "    <tr>\n",
       "      <th>2010-09-24 12:00:00</th>\n",
       "      <td>15.106182</td>\n",
       "      <td>14.715500</td>\n",
       "    </tr>\n",
       "    <tr>\n",
       "      <th>...</th>\n",
       "      <td>...</td>\n",
       "      <td>...</td>\n",
       "    </tr>\n",
       "    <tr>\n",
       "      <th>2010-10-19 03:00:00</th>\n",
       "      <td>3.457500</td>\n",
       "      <td>3.126317</td>\n",
       "    </tr>\n",
       "    <tr>\n",
       "      <th>2010-10-19 04:00:00</th>\n",
       "      <td>3.426697</td>\n",
       "      <td>3.280782</td>\n",
       "    </tr>\n",
       "    <tr>\n",
       "      <th>2010-10-19 05:00:00</th>\n",
       "      <td>3.358455</td>\n",
       "      <td>3.263394</td>\n",
       "    </tr>\n",
       "    <tr>\n",
       "      <th>2010-10-19 06:00:00</th>\n",
       "      <td>3.452939</td>\n",
       "      <td>3.246919</td>\n",
       "    </tr>\n",
       "    <tr>\n",
       "      <th>2010-10-19 07:00:00</th>\n",
       "      <td>4.464742</td>\n",
       "      <td>4.289111</td>\n",
       "    </tr>\n",
       "  </tbody>\n",
       "</table>\n",
       "<p>600 rows × 2 columns</p>\n",
       "</div>"
      ],
      "text/plain": [
       "                     cluster_26  predictions\n",
       "row ID                                      \n",
       "2010-09-24 08:00:00    6.632909     7.244440\n",
       "2010-09-24 09:00:00   11.321318    11.455515\n",
       "2010-09-24 10:00:00   14.767955    14.305408\n",
       "2010-09-24 11:00:00   15.461939    15.005801\n",
       "2010-09-24 12:00:00   15.106182    14.715500\n",
       "...                         ...          ...\n",
       "2010-10-19 03:00:00    3.457500     3.126317\n",
       "2010-10-19 04:00:00    3.426697     3.280782\n",
       "2010-10-19 05:00:00    3.358455     3.263394\n",
       "2010-10-19 06:00:00    3.452939     3.246919\n",
       "2010-10-19 07:00:00    4.464742     4.289111\n",
       "\n",
       "[600 rows x 2 columns]"
      ]
     },
     "execution_count": 44,
     "metadata": {},
     "output_type": "execute_result"
    }
   ],
   "source": [
    "pred_df = y_test_df[:600].to_frame()\n",
    "pred_df['predictions'] = y_pred\n",
    "pred_df"
   ]
  },
  {
   "cell_type": "code",
   "execution_count": 45,
   "id": "179f0f0f-3166-40d5-bf2f-b3cde2682c00",
   "metadata": {},
   "outputs": [
    {
     "data": {
      "image/png": "[encoded data removed]",
      "text/plain": [
       "<Figure size 1300x600 with 1 Axes>"
      ]
     },
     "metadata": {},
     "output_type": "display_data"
    }
   ],
   "source": [
    "pred_df.plot(\n",
    "    figsize=(13, 6),\n",
    "    marker='o',\n",
    "    markersize=1,\n",
    "    linewidth=0.5\n",
    ")\n",
    "plt.xlim(['2010-09-23', '2010-10-22'])\n",
    "plt.title(\"Python's Model Plot: In-sample Predictions VS Targets\")\n",
    "plt.show()"
   ]
  },
  {
   "cell_type": "markdown",
   "id": "4847b9da-c1a1-457a-9fbe-e48b2fd400ee",
   "metadata": {},
   "source": [
    "Comparing with KNIME model:\n",
    "\n",
    "![time_series-result_plot.jpeg](results/time_series-result_plot.jpeg)"
   ]
  },
  {
   "cell_type": "code",
   "execution_count": 51,
   "id": "73e202f5-67bf-4e2f-812a-011493fbfea7",
   "metadata": {},
   "outputs": [
    {
     "name": "stdout",
     "output_type": "stream",
     "text": [
      "Model trained in Python:\n",
      "--------------------------------------\n",
      "R2:\t\t\t\t0.971\n",
      "Mean absolute error:\t\t0.486\n",
      "Mean squared error:\t\t0.582\n",
      "Root mean squared error:\t0.763\n",
      "Mean absolute percentage error:\t0.073\n"
     ]
    }
   ],
   "source": [
    "from sklearn.metrics import r2_score, mean_absolute_error, mean_squared_error, mean_absolute_percentage_error\n",
    "\n",
    "sample_test = y_test[:600]\n",
    "r2 = r2_score(sample_test, y_pred)\n",
    "mae = mean_absolute_error(sample_test, y_pred)\n",
    "mse = mean_squared_error(sample_test, y_pred)\n",
    "rmse = mean_squared_error(sample_test, y_pred, squared=False)\n",
    "mape = mean_absolute_percentage_error(sample_test, y_pred)\n",
    "\n",
    "print(\"Model trained in Python:\")\n",
    "print(\"--\" * 19)\n",
    "print(f\"R2:\\t\\t\\t\\t{r2:.3f}\")\n",
    "print(f\"Mean absolute error:\\t\\t{mae:.3f}\")\n",
    "print(f\"Mean squared error:\\t\\t{mse:.3f}\")\n",
    "print(f\"Root mean squared error:\\t{rmse:.3f}\")\n",
    "print(f\"Mean absolute percentage error:\\t{mape:.3f}\")"
   ]
  },
  {
   "cell_type": "markdown",
   "id": "66a7ca0b-fd09-4a97-83c1-ca275521be28",
   "metadata": {},
   "source": [
    "KNIME's model result:"
   ]
  },
  {
   "cell_type": "markdown",
   "id": "fff4ccaf-5171-4e34-be53-983b63964dbd",
   "metadata": {},
   "source": [
    "![time_series-statiscal_result.jpeg](results/time_series-statiscal_result.jpeg)"
   ]
  },
  {
   "cell_type": "markdown",
   "id": "c385aad0-5b13-4530-b9ae-3f748fd2ec8e",
   "metadata": {},
   "source": [
    "The model trained in Python has different evaluation result every time I tried to train the model, the performance is sometimes better and sometimes worse than the KNIME's model result. This is most likely due to the problem with random initialization of neural network."
   ]
  },
  {
   "cell_type": "code",
   "execution_count": null,
   "id": "325bfb8f-c5c8-43ff-a225-7fdd957a7383",
   "metadata": {},
   "outputs": [],
   "source": []
  }
 ],
 "metadata": {
  "kernelspec": {
   "display_name": "tfod",
   "language": "python",
   "name": "tfod"
  },
  "language_info": {
   "codemirror_mode": {
    "name": "ipython",
    "version": 3
   },
   "file_extension": ".py",
   "mimetype": "text/x-python",
   "name": "python",
   "nbconvert_exporter": "python",
   "pygments_lexer": "ipython3",
   "version": "3.8.11"
  }
 },
 "nbformat": 4,
 "nbformat_minor": 5
}
