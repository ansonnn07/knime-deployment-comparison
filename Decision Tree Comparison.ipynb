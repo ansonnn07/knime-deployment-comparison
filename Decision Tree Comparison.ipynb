{
 "cells": [
  {
   "cell_type": "markdown",
   "id": "0339b691-887e-4ec4-9dfc-0b7affe178e8",
   "metadata": {},
   "source": [
    "# Setup"
   ]
  },
  {
   "cell_type": "code",
   "execution_count": 1,
   "id": "ec15221e-d3c1-4f5a-9dbf-42e82ff1398f",
   "metadata": {},
   "outputs": [
    {
     "name": "stdout",
     "output_type": "stream",
     "text": [
      "C:\\Users\\user\\Desktop\\ANSON\\Python Scripts\\SHRDC-projects\\knime-examples\\sklearn-pmml-model\n"
     ]
    }
   ],
   "source": [
    "%cd sklearn-pmml-model"
   ]
  },
  {
   "cell_type": "code",
   "execution_count": 2,
   "id": "f64e71d4-b771-4221-8565-300c51fe7ab0",
   "metadata": {},
   "outputs": [],
   "source": [
    "import os \n",
    "\n",
    "import numpy as np\n",
    "import pandas as pd\n",
    "import matplotlib.pyplot as plt\n",
    "import seaborn as sns\n",
    "\n",
    "from sklearn.preprocessing import OrdinalEncoder\n",
    "from sklearn.metrics import confusion_matrix\n",
    "\n",
    "# from pypmml import Model\n",
    "\n",
    "from sklearn_pmml_model.tree import PMMLTreeClassifier\n",
    "\n",
    "from sklearn2pmml import sklearn2pmml"
   ]
  },
  {
   "cell_type": "code",
   "execution_count": 3,
   "id": "a6afe623-3f58-4970-8f98-6c15f40676a7",
   "metadata": {},
   "outputs": [],
   "source": [
    "# show all columns\n",
    "pd.set_option('display.max_columns', None)"
   ]
  },
  {
   "cell_type": "code",
   "execution_count": 4,
   "id": "5b159f36-f4a5-4cf5-9b34-c073ba5ba6d3",
   "metadata": {},
   "outputs": [
    {
     "name": "stdout",
     "output_type": "stream",
     "text": [
      "True\n",
      "True\n"
     ]
    }
   ],
   "source": [
    "# setup paths to the files\n",
    "TRAIN_CSV = os.path.join('..', 'data', 'ChurnPrediction_TrainingSet.xlsx')\n",
    "TEST_CSV = os.path.join('..', 'data', 'ChurnPrediction_TestSet.xlsx')\n",
    "print(os.path.exists(TRAIN_CSV))\n",
    "print(os.path.exists(TEST_CSV))"
   ]
  },
  {
   "cell_type": "code",
   "execution_count": 5,
   "id": "5b3f9daa-3572-4ce3-bf95-aaaa5cef34e3",
   "metadata": {},
   "outputs": [
    {
     "name": "stderr",
     "output_type": "stream",
     "text": [
      "C:\\Users\\user\\anaconda3\\envs\\pmml\\lib\\site-packages\\openpyxl\\styles\\stylesheet.py:221: UserWarning: Workbook contains no default style, apply openpyxl's default\n",
      "  warn(\"Workbook contains no default style, apply openpyxl's default\")\n"
     ]
    },
    {
     "data": {
      "text/html": [
       "<div>\n",
       "<style scoped>\n",
       "    .dataframe tbody tr th:only-of-type {\n",
       "        vertical-align: middle;\n",
       "    }\n",
       "\n",
       "    .dataframe tbody tr th {\n",
       "        vertical-align: top;\n",
       "    }\n",
       "\n",
       "    .dataframe thead th {\n",
       "        text-align: right;\n",
       "    }\n",
       "</style>\n",
       "<table border=\"1\" class=\"dataframe\">\n",
       "  <thead>\n",
       "    <tr style=\"text-align: right;\">\n",
       "      <th></th>\n",
       "      <th>VMail Message</th>\n",
       "      <th>Day Mins</th>\n",
       "      <th>Eve Mins</th>\n",
       "      <th>Night Mins</th>\n",
       "      <th>Intl Mins</th>\n",
       "      <th>CustServ Calls</th>\n",
       "      <th>Day Calls</th>\n",
       "      <th>Day Charge</th>\n",
       "      <th>Eve Calls</th>\n",
       "      <th>Eve Charge</th>\n",
       "      <th>Night Calls</th>\n",
       "      <th>Night Charge</th>\n",
       "      <th>Intl Calls</th>\n",
       "      <th>Intl Charge</th>\n",
       "      <th>Area Code</th>\n",
       "      <th>Phone</th>\n",
       "      <th>Account Length</th>\n",
       "      <th>Churn</th>\n",
       "      <th>Int'l Plan</th>\n",
       "      <th>VMail Plan</th>\n",
       "      <th>State</th>\n",
       "    </tr>\n",
       "  </thead>\n",
       "  <tbody>\n",
       "    <tr>\n",
       "      <th>0</th>\n",
       "      <td>25</td>\n",
       "      <td>265.1</td>\n",
       "      <td>197.4</td>\n",
       "      <td>244.7</td>\n",
       "      <td>10.0</td>\n",
       "      <td>1</td>\n",
       "      <td>110</td>\n",
       "      <td>45.07</td>\n",
       "      <td>99</td>\n",
       "      <td>16.78</td>\n",
       "      <td>91</td>\n",
       "      <td>11.01</td>\n",
       "      <td>3</td>\n",
       "      <td>2.70</td>\n",
       "      <td>415</td>\n",
       "      <td>382-4657</td>\n",
       "      <td>128</td>\n",
       "      <td>0</td>\n",
       "      <td>0</td>\n",
       "      <td>1</td>\n",
       "      <td>KS</td>\n",
       "    </tr>\n",
       "    <tr>\n",
       "      <th>1</th>\n",
       "      <td>26</td>\n",
       "      <td>161.6</td>\n",
       "      <td>195.5</td>\n",
       "      <td>254.4</td>\n",
       "      <td>13.7</td>\n",
       "      <td>1</td>\n",
       "      <td>123</td>\n",
       "      <td>27.47</td>\n",
       "      <td>103</td>\n",
       "      <td>16.62</td>\n",
       "      <td>103</td>\n",
       "      <td>11.45</td>\n",
       "      <td>3</td>\n",
       "      <td>3.70</td>\n",
       "      <td>415</td>\n",
       "      <td>371-7191</td>\n",
       "      <td>107</td>\n",
       "      <td>0</td>\n",
       "      <td>0</td>\n",
       "      <td>1</td>\n",
       "      <td>OH</td>\n",
       "    </tr>\n",
       "    <tr>\n",
       "      <th>2</th>\n",
       "      <td>0</td>\n",
       "      <td>243.4</td>\n",
       "      <td>121.2</td>\n",
       "      <td>162.6</td>\n",
       "      <td>12.2</td>\n",
       "      <td>0</td>\n",
       "      <td>114</td>\n",
       "      <td>41.38</td>\n",
       "      <td>110</td>\n",
       "      <td>10.30</td>\n",
       "      <td>104</td>\n",
       "      <td>7.32</td>\n",
       "      <td>5</td>\n",
       "      <td>3.29</td>\n",
       "      <td>415</td>\n",
       "      <td>358-1921</td>\n",
       "      <td>137</td>\n",
       "      <td>0</td>\n",
       "      <td>0</td>\n",
       "      <td>0</td>\n",
       "      <td>NJ</td>\n",
       "    </tr>\n",
       "    <tr>\n",
       "      <th>3</th>\n",
       "      <td>0</td>\n",
       "      <td>299.4</td>\n",
       "      <td>61.9</td>\n",
       "      <td>196.9</td>\n",
       "      <td>6.6</td>\n",
       "      <td>2</td>\n",
       "      <td>71</td>\n",
       "      <td>50.90</td>\n",
       "      <td>88</td>\n",
       "      <td>5.26</td>\n",
       "      <td>89</td>\n",
       "      <td>8.86</td>\n",
       "      <td>7</td>\n",
       "      <td>1.78</td>\n",
       "      <td>408</td>\n",
       "      <td>375-9999</td>\n",
       "      <td>84</td>\n",
       "      <td>0</td>\n",
       "      <td>1</td>\n",
       "      <td>0</td>\n",
       "      <td>OH</td>\n",
       "    </tr>\n",
       "    <tr>\n",
       "      <th>4</th>\n",
       "      <td>0</td>\n",
       "      <td>166.7</td>\n",
       "      <td>148.3</td>\n",
       "      <td>186.9</td>\n",
       "      <td>10.1</td>\n",
       "      <td>3</td>\n",
       "      <td>113</td>\n",
       "      <td>28.34</td>\n",
       "      <td>122</td>\n",
       "      <td>12.61</td>\n",
       "      <td>121</td>\n",
       "      <td>8.41</td>\n",
       "      <td>3</td>\n",
       "      <td>2.73</td>\n",
       "      <td>415</td>\n",
       "      <td>330-6626</td>\n",
       "      <td>75</td>\n",
       "      <td>0</td>\n",
       "      <td>1</td>\n",
       "      <td>0</td>\n",
       "      <td>OK</td>\n",
       "    </tr>\n",
       "  </tbody>\n",
       "</table>\n",
       "</div>"
      ],
      "text/plain": [
       "   VMail Message  Day Mins  Eve Mins  Night Mins  Intl Mins  CustServ Calls  \\\n",
       "0             25     265.1     197.4       244.7       10.0               1   \n",
       "1             26     161.6     195.5       254.4       13.7               1   \n",
       "2              0     243.4     121.2       162.6       12.2               0   \n",
       "3              0     299.4      61.9       196.9        6.6               2   \n",
       "4              0     166.7     148.3       186.9       10.1               3   \n",
       "\n",
       "   Day Calls  Day Charge  Eve Calls  Eve Charge  Night Calls  Night Charge  \\\n",
       "0        110       45.07         99       16.78           91         11.01   \n",
       "1        123       27.47        103       16.62          103         11.45   \n",
       "2        114       41.38        110       10.30          104          7.32   \n",
       "3         71       50.90         88        5.26           89          8.86   \n",
       "4        113       28.34        122       12.61          121          8.41   \n",
       "\n",
       "   Intl Calls  Intl Charge  Area Code     Phone  Account Length  Churn  \\\n",
       "0           3         2.70        415  382-4657             128      0   \n",
       "1           3         3.70        415  371-7191             107      0   \n",
       "2           5         3.29        415  358-1921             137      0   \n",
       "3           7         1.78        408  375-9999              84      0   \n",
       "4           3         2.73        415  330-6626              75      0   \n",
       "\n",
       "   Int'l Plan  VMail Plan State  \n",
       "0           0           1    KS  \n",
       "1           0           1    OH  \n",
       "2           0           0    NJ  \n",
       "3           1           0    OH  \n",
       "4           1           0    OK  "
      ]
     },
     "execution_count": 5,
     "metadata": {},
     "output_type": "execute_result"
    }
   ],
   "source": [
    "train_df = pd.read_excel(TRAIN_CSV)\n",
    "train_df.head()"
   ]
  },
  {
   "cell_type": "code",
   "execution_count": 6,
   "id": "c8c7e57a-746d-4d09-904d-c48c065a20af",
   "metadata": {},
   "outputs": [
    {
     "name": "stderr",
     "output_type": "stream",
     "text": [
      "C:\\Users\\user\\anaconda3\\envs\\pmml\\lib\\site-packages\\openpyxl\\styles\\stylesheet.py:221: UserWarning: Workbook contains no default style, apply openpyxl's default\n",
      "  warn(\"Workbook contains no default style, apply openpyxl's default\")\n"
     ]
    },
    {
     "data": {
      "text/html": [
       "<div>\n",
       "<style scoped>\n",
       "    .dataframe tbody tr th:only-of-type {\n",
       "        vertical-align: middle;\n",
       "    }\n",
       "\n",
       "    .dataframe tbody tr th {\n",
       "        vertical-align: top;\n",
       "    }\n",
       "\n",
       "    .dataframe thead th {\n",
       "        text-align: right;\n",
       "    }\n",
       "</style>\n",
       "<table border=\"1\" class=\"dataframe\">\n",
       "  <thead>\n",
       "    <tr style=\"text-align: right;\">\n",
       "      <th></th>\n",
       "      <th>VMail Message</th>\n",
       "      <th>Day Mins</th>\n",
       "      <th>Eve Mins</th>\n",
       "      <th>Night Mins</th>\n",
       "      <th>Intl Mins</th>\n",
       "      <th>CustServ Calls</th>\n",
       "      <th>Day Calls</th>\n",
       "      <th>Day Charge</th>\n",
       "      <th>Eve Calls</th>\n",
       "      <th>Eve Charge</th>\n",
       "      <th>Night Calls</th>\n",
       "      <th>Night Charge</th>\n",
       "      <th>Intl Calls</th>\n",
       "      <th>Intl Charge</th>\n",
       "      <th>Area Code</th>\n",
       "      <th>Phone</th>\n",
       "      <th>Account Length</th>\n",
       "      <th>Churn</th>\n",
       "      <th>Int'l Plan</th>\n",
       "      <th>VMail Plan</th>\n",
       "      <th>State</th>\n",
       "    </tr>\n",
       "  </thead>\n",
       "  <tbody>\n",
       "    <tr>\n",
       "      <th>0</th>\n",
       "      <td>0</td>\n",
       "      <td>157.0</td>\n",
       "      <td>103.1</td>\n",
       "      <td>211.8</td>\n",
       "      <td>7.1</td>\n",
       "      <td>0</td>\n",
       "      <td>79</td>\n",
       "      <td>26.69</td>\n",
       "      <td>94</td>\n",
       "      <td>8.76</td>\n",
       "      <td>96</td>\n",
       "      <td>9.53</td>\n",
       "      <td>6</td>\n",
       "      <td>1.92</td>\n",
       "      <td>415</td>\n",
       "      <td>329-9001</td>\n",
       "      <td>147</td>\n",
       "      <td>0</td>\n",
       "      <td>1</td>\n",
       "      <td>0</td>\n",
       "      <td>MO</td>\n",
       "    </tr>\n",
       "    <tr>\n",
       "      <th>1</th>\n",
       "      <td>37</td>\n",
       "      <td>258.6</td>\n",
       "      <td>222.0</td>\n",
       "      <td>326.4</td>\n",
       "      <td>11.2</td>\n",
       "      <td>0</td>\n",
       "      <td>84</td>\n",
       "      <td>43.96</td>\n",
       "      <td>111</td>\n",
       "      <td>18.87</td>\n",
       "      <td>97</td>\n",
       "      <td>14.69</td>\n",
       "      <td>5</td>\n",
       "      <td>3.02</td>\n",
       "      <td>415</td>\n",
       "      <td>330-8173</td>\n",
       "      <td>141</td>\n",
       "      <td>0</td>\n",
       "      <td>1</td>\n",
       "      <td>1</td>\n",
       "      <td>WV</td>\n",
       "    </tr>\n",
       "    <tr>\n",
       "      <th>2</th>\n",
       "      <td>0</td>\n",
       "      <td>187.7</td>\n",
       "      <td>163.4</td>\n",
       "      <td>196.0</td>\n",
       "      <td>9.1</td>\n",
       "      <td>0</td>\n",
       "      <td>127</td>\n",
       "      <td>31.91</td>\n",
       "      <td>148</td>\n",
       "      <td>13.89</td>\n",
       "      <td>94</td>\n",
       "      <td>8.82</td>\n",
       "      <td>5</td>\n",
       "      <td>2.46</td>\n",
       "      <td>415</td>\n",
       "      <td>344-9403</td>\n",
       "      <td>74</td>\n",
       "      <td>0</td>\n",
       "      <td>0</td>\n",
       "      <td>0</td>\n",
       "      <td>RI</td>\n",
       "    </tr>\n",
       "    <tr>\n",
       "      <th>3</th>\n",
       "      <td>0</td>\n",
       "      <td>332.9</td>\n",
       "      <td>317.8</td>\n",
       "      <td>160.6</td>\n",
       "      <td>5.4</td>\n",
       "      <td>4</td>\n",
       "      <td>67</td>\n",
       "      <td>56.59</td>\n",
       "      <td>97</td>\n",
       "      <td>27.01</td>\n",
       "      <td>128</td>\n",
       "      <td>7.23</td>\n",
       "      <td>9</td>\n",
       "      <td>1.46</td>\n",
       "      <td>415</td>\n",
       "      <td>351-7269</td>\n",
       "      <td>161</td>\n",
       "      <td>1</td>\n",
       "      <td>0</td>\n",
       "      <td>0</td>\n",
       "      <td>NY</td>\n",
       "    </tr>\n",
       "    <tr>\n",
       "      <th>4</th>\n",
       "      <td>27</td>\n",
       "      <td>196.4</td>\n",
       "      <td>280.9</td>\n",
       "      <td>89.3</td>\n",
       "      <td>13.8</td>\n",
       "      <td>1</td>\n",
       "      <td>139</td>\n",
       "      <td>33.39</td>\n",
       "      <td>90</td>\n",
       "      <td>23.88</td>\n",
       "      <td>75</td>\n",
       "      <td>4.02</td>\n",
       "      <td>4</td>\n",
       "      <td>3.73</td>\n",
       "      <td>408</td>\n",
       "      <td>350-8884</td>\n",
       "      <td>85</td>\n",
       "      <td>0</td>\n",
       "      <td>0</td>\n",
       "      <td>1</td>\n",
       "      <td>ID</td>\n",
       "    </tr>\n",
       "  </tbody>\n",
       "</table>\n",
       "</div>"
      ],
      "text/plain": [
       "   VMail Message  Day Mins  Eve Mins  Night Mins  Intl Mins  CustServ Calls  \\\n",
       "0              0     157.0     103.1       211.8        7.1               0   \n",
       "1             37     258.6     222.0       326.4       11.2               0   \n",
       "2              0     187.7     163.4       196.0        9.1               0   \n",
       "3              0     332.9     317.8       160.6        5.4               4   \n",
       "4             27     196.4     280.9        89.3       13.8               1   \n",
       "\n",
       "   Day Calls  Day Charge  Eve Calls  Eve Charge  Night Calls  Night Charge  \\\n",
       "0         79       26.69         94        8.76           96          9.53   \n",
       "1         84       43.96        111       18.87           97         14.69   \n",
       "2        127       31.91        148       13.89           94          8.82   \n",
       "3         67       56.59         97       27.01          128          7.23   \n",
       "4        139       33.39         90       23.88           75          4.02   \n",
       "\n",
       "   Intl Calls  Intl Charge  Area Code     Phone  Account Length  Churn  \\\n",
       "0           6         1.92        415  329-9001             147      0   \n",
       "1           5         3.02        415  330-8173             141      0   \n",
       "2           5         2.46        415  344-9403              74      0   \n",
       "3           9         1.46        415  351-7269             161      1   \n",
       "4           4         3.73        408  350-8884              85      0   \n",
       "\n",
       "   Int'l Plan  VMail Plan State  \n",
       "0           1           0    MO  \n",
       "1           1           1    WV  \n",
       "2           0           0    RI  \n",
       "3           0           0    NY  \n",
       "4           0           1    ID  "
      ]
     },
     "execution_count": 6,
     "metadata": {},
     "output_type": "execute_result"
    }
   ],
   "source": [
    "test_df = pd.read_excel(TEST_CSV)\n",
    "test_df.head()"
   ]
  },
  {
   "cell_type": "code",
   "execution_count": 7,
   "id": "04ee2330-bbac-4651-a350-817ff8d1ecc0",
   "metadata": {},
   "outputs": [
    {
     "data": {
      "text/plain": [
       "VMail Message       int64\n",
       "Day Mins          float64\n",
       "Eve Mins          float64\n",
       "Night Mins        float64\n",
       "Intl Mins         float64\n",
       "CustServ Calls      int64\n",
       "Day Calls           int64\n",
       "Day Charge        float64\n",
       "Eve Calls           int64\n",
       "Eve Charge        float64\n",
       "Night Calls         int64\n",
       "Night Charge      float64\n",
       "Intl Calls          int64\n",
       "Intl Charge       float64\n",
       "Area Code           int64\n",
       "Phone              object\n",
       "Account Length      int64\n",
       "Churn               int64\n",
       "Int'l Plan          int64\n",
       "VMail Plan          int64\n",
       "State              object\n",
       "dtype: object"
      ]
     },
     "execution_count": 7,
     "metadata": {},
     "output_type": "execute_result"
    }
   ],
   "source": [
    "# Phone and State columns are both nominal (categorical) columns\n",
    "train_df.dtypes"
   ]
  },
  {
   "cell_type": "code",
   "execution_count": 8,
   "id": "76d97c44-1070-4a25-ad82-08cedceece65",
   "metadata": {},
   "outputs": [
    {
     "data": {
      "text/plain": [
       "0    2280\n",
       "1     386\n",
       "Name: Churn, dtype: int64"
      ]
     },
     "execution_count": 8,
     "metadata": {},
     "output_type": "execute_result"
    }
   ],
   "source": [
    "# the dataset is very imbalanced\n",
    "train_df['Churn'].value_counts()"
   ]
  },
  {
   "cell_type": "code",
   "execution_count": 9,
   "id": "c18aabea-869d-4ef3-94be-07d29e14ad12",
   "metadata": {},
   "outputs": [],
   "source": [
    "# prepare the training and test set\n",
    "X_train1 = train_df.drop(columns=[\"Churn\"])\n",
    "y_train1 = train_df[\"Churn\"].copy()\n",
    "\n",
    "X_test1 = test_df.drop(columns=[\"Churn\"])\n",
    "y_test1 = test_df[\"Churn\"].copy()"
   ]
  },
  {
   "cell_type": "code",
   "execution_count": 10,
   "id": "2e5e8e88-b67b-4b6e-b836-407223f9b1a7",
   "metadata": {},
   "outputs": [
    {
     "data": {
      "text/plain": [
       "(2666, 667)"
      ]
     },
     "execution_count": 10,
     "metadata": {},
     "output_type": "execute_result"
    }
   ],
   "source": [
    "len(X_train1), len(X_test1)"
   ]
  },
  {
   "cell_type": "code",
   "execution_count": 11,
   "id": "a796fd8a-7f0d-48bd-92ba-158214fcd6d9",
   "metadata": {},
   "outputs": [
    {
     "data": {
      "text/plain": [
       "VMail Message       44\n",
       "Day Mins          1491\n",
       "Eve Mins          1460\n",
       "Night Mins        1426\n",
       "Intl Mins          159\n",
       "CustServ Calls      10\n",
       "Day Calls          117\n",
       "Day Charge        1491\n",
       "Eve Calls          119\n",
       "Eve Charge        1316\n",
       "Night Calls        114\n",
       "Night Charge       872\n",
       "Intl Calls          20\n",
       "Intl Charge        159\n",
       "Area Code            3\n",
       "Phone             2666\n",
       "Account Length     208\n",
       "Int'l Plan           2\n",
       "VMail Plan           2\n",
       "State               51\n",
       "dtype: int64"
      ]
     },
     "execution_count": 11,
     "metadata": {},
     "output_type": "execute_result"
    }
   ],
   "source": [
    "# check unique values in each column\n",
    "X_train1.nunique()"
   ]
  },
  {
   "cell_type": "code",
   "execution_count": 12,
   "id": "020d432f-08fe-48aa-aec2-396eedd1dbeb",
   "metadata": {},
   "outputs": [],
   "source": [
    "# change the nominal columns into encoded numbers\n",
    "encoder = OrdinalEncoder(handle_unknown=\"use_encoded_value\", unknown_value=-1)\n",
    "X_train1[[\"Phone\", \"State\"]] = encoder.fit_transform(X_train1[[\"Phone\", \"State\"]])\n",
    "X_test1[[\"Phone\", \"State\"]] = encoder.transform(X_test1[[\"Phone\", \"State\"]])"
   ]
  },
  {
   "cell_type": "markdown",
   "id": "a25c57f5-9168-4bcc-bcb5-c7b6792459e0",
   "metadata": {},
   "source": [
    "# Test KNIME Decision Tree Model"
   ]
  },
  {
   "cell_type": "code",
   "execution_count": 13,
   "id": "e35f391b-0d72-4759-a10c-5ff8bbc7ab2d",
   "metadata": {},
   "outputs": [],
   "source": [
    "# read the KNIME model\n",
    "KNIME_MODEL_PATH = os.path.join('..', 'models', 'knime_decision_tree.pmml')\n",
    "knime_model = PMMLTreeClassifier(pmml=KNIME_MODEL_PATH)"
   ]
  },
  {
   "cell_type": "code",
   "execution_count": 14,
   "id": "e284076f-0c61-449b-85b0-7eca28e96efe",
   "metadata": {
    "tags": []
   },
   "outputs": [
    {
     "data": {
      "text/plain": [
       "(667,)"
      ]
     },
     "execution_count": 14,
     "metadata": {},
     "output_type": "execute_result"
    }
   ],
   "source": [
    "y_pred1 = knime_model.predict(X_test1)\n",
    "y_pred1 = y_pred1.astype(int)\n",
    "y_pred1.shape"
   ]
  },
  {
   "cell_type": "code",
   "execution_count": 15,
   "id": "ba7e2de9-b1bb-4da5-9a64-ba0c313c93b2",
   "metadata": {},
   "outputs": [],
   "source": [
    "total_correct = np.sum(np.where(y_pred1 == y_test1, 1, 0))\n",
    "total_incorrect = len(y_test1) - total_correct\n",
    "acc = total_correct / len(y_test1) * 100\n",
    "error = 100 - acc"
   ]
  },
  {
   "cell_type": "code",
   "execution_count": 16,
   "id": "e07e0e66-9480-4ed2-a149-062a98776ced",
   "metadata": {},
   "outputs": [
    {
     "data": {
      "text/plain": [
       "{'Testing accuracy': 92.50374812593704,\n",
       " 'Correct classified': 617,\n",
       " 'Wrong classified': 50,\n",
       " 'Error': 7.496251874062963}"
      ]
     },
     "execution_count": 16,
     "metadata": {},
     "output_type": "execute_result"
    }
   ],
   "source": [
    "# saving results\n",
    "knime_dt = {\n",
    "    \"Testing accuracy\": acc,\n",
    "    \"Correct classified\": total_correct,\n",
    "    \"Wrong classified\": total_incorrect,\n",
    "    \"Error\": error\n",
    "}\n",
    "knime_dt"
   ]
  },
  {
   "cell_type": "code",
   "execution_count": 17,
   "id": "a7d92242-a1ac-4f10-9ca9-33ae6766e1f9",
   "metadata": {},
   "outputs": [
    {
     "data": {
      "image/png": "[encoded data removed]",
      "text/plain": [
       "<Figure size 720x360 with 1 Axes>"
      ]
     },
     "metadata": {
      "needs_background": "light"
     },
     "output_type": "display_data"
    },
    {
     "name": "stdout",
     "output_type": "stream",
     "text": [
      "Correct classified: 617\t\t\tWrong classified: 50\n",
      "Accuracy: 92.504 %\t\t\tError: 7.496 %\n"
     ]
    }
   ],
   "source": [
    "cm = confusion_matrix(y_pred1, y_test1)\n",
    "\n",
    "fig = plt.figure(figsize=(10, 5))\n",
    "ax = sns.heatmap(\n",
    "    cm,\n",
    "    # use specific color\n",
    "    cmap=\"Blues\",\n",
    "    # show numbers\n",
    "    annot=True,\n",
    "    # format to integer\n",
    "    fmt=\"d\",\n",
    "    # don't show colorbar\n",
    "    cbar=False,\n",
    "    # format them to look nicer\n",
    "    annot_kws={\"fontsize\": 15},\n",
    ")\n",
    "plt.title(\"KNIME Model Loaded in Python | Confusion Matrix \", size=18, fontfamily=\"serif\")\n",
    "plt.show()\n",
    "\n",
    "print(f\"Correct classified: {total_correct:,}\", end=\"\\t\\t\\t\")\n",
    "print(f\"Wrong classified: {total_incorrect:,}\")\n",
    "print(f\"Accuracy: {acc:.3f} %\", end=\"\\t\\t\\t\")\n",
    "print(f\"Error: {error:.3f} %\")"
   ]
  },
  {
   "cell_type": "markdown",
   "id": "cef29b76-7d97-4659-b269-e629f6bdcfe0",
   "metadata": {},
   "source": [
    "Original result from KNIME:\n",
    "\n",
    "![original_KNIME_confusion_matrix](results/decision_tree-confusion_matrix-knime.jpeg)"
   ]
  },
  {
   "cell_type": "code",
   "execution_count": 18,
   "id": "8defd9a6-609a-4705-9e14-f69995f37aa1",
   "metadata": {},
   "outputs": [],
   "source": [
    "# saving original KNIME results\n",
    "knime_dt_ori = {\n",
    "    \"Testing accuracy\": 92.954,\n",
    "    \"Correct classified\": 620,\n",
    "    \"Wrong classified\": 47,\n",
    "    \"Error\": 7.046\n",
    "}"
   ]
  },
  {
   "cell_type": "markdown",
   "id": "8f48dae6-a7e2-47d1-af6f-454b0fc16190",
   "metadata": {},
   "source": [
    "# Prepare data for Python Model"
   ]
  },
  {
   "cell_type": "code",
   "execution_count": 19,
   "id": "bf116eba-9a3b-43f8-b92a-14d47b433e60",
   "metadata": {},
   "outputs": [],
   "source": [
    "# Get the data again\n",
    "X_train2 = train_df.drop(columns=[\"Churn\"])\n",
    "y_train2 = train_df[\"Churn\"].copy()\n",
    "\n",
    "X_test2 = test_df.drop(columns=[\"Churn\"])\n",
    "y_test2 = test_df[\"Churn\"].copy()"
   ]
  },
  {
   "cell_type": "markdown",
   "id": "00c26b38-d22c-4f09-b682-9909d7ed510a",
   "metadata": {},
   "source": [
    "Decision Tree Parameters in image below. \n",
    "\n",
    "Refer to the official KNIME Docs [here](https://hub.knime.com/knime/extensions/org.knime.features.base/latest/org.knime.base.node.mine.decisiontree2.learner2.DecisionTreeLearnerNodeFactory3) for parameters details.\n",
    "\n",
    "Refer to `sklearn` docs [here](https://scikit-learn.org/stable/modules/generated/sklearn.tree.DecisionTreeClassifier.html#sklearn.tree.DecisionTreeClassifier)\n",
    "\n",
    "\n",
    "![knime decision tree parameters](data/knime_decision_tree_params.jpeg)"
   ]
  },
  {
   "cell_type": "markdown",
   "id": "90882db7-efcb-449a-853b-68d07e12addf",
   "metadata": {},
   "source": [
    "- Reduced error pruning cannot be specified easily\n",
    "- Quality measure of \"Gini Index\" is the default in `sklearn` library in Python\n",
    "- Min number records per node can be changed easily in `sklearn`\n",
    "- Number records to store for view is just for visualization purpose, thus not necessary\n",
    "- Average split point should be the default in `sklearn`\n",
    "- Number threads is just to use more CPU cores to speed up training\n",
    "- Skip nominal columns without domain information is based on the cardinality (number of unique values) of each column. In the docs, KNIME did not specifically mentioned what is the minimum required cardinality for excluding any nominal column. But most likely only `Phone` column is excluded as there are 2666 unique values. (see outputs below)\n",
    "- Binary nominal splits should be the default in `sklearn`\n",
    "- Max #nominal cannot be modified easily in `sklearn`"
   ]
  },
  {
   "cell_type": "code",
   "execution_count": 20,
   "id": "9e386592-bc61-4001-a8c7-f5948321333b",
   "metadata": {},
   "outputs": [
    {
     "name": "stdout",
     "output_type": "stream",
     "text": [
      "Cardinality of each column (including both numerical and nominal columns):\n",
      "\n"
     ]
    },
    {
     "data": {
      "text/html": [
       "<div>\n",
       "<style scoped>\n",
       "    .dataframe tbody tr th:only-of-type {\n",
       "        vertical-align: middle;\n",
       "    }\n",
       "\n",
       "    .dataframe tbody tr th {\n",
       "        vertical-align: top;\n",
       "    }\n",
       "\n",
       "    .dataframe thead th {\n",
       "        text-align: right;\n",
       "    }\n",
       "</style>\n",
       "<table border=\"1\" class=\"dataframe\">\n",
       "  <thead>\n",
       "    <tr style=\"text-align: right;\">\n",
       "      <th></th>\n",
       "      <th>Cardinality</th>\n",
       "      <th>Type</th>\n",
       "    </tr>\n",
       "  </thead>\n",
       "  <tbody>\n",
       "    <tr>\n",
       "      <th>State</th>\n",
       "      <td>51</td>\n",
       "      <td>Nominal</td>\n",
       "    </tr>\n",
       "    <tr>\n",
       "      <th>Phone</th>\n",
       "      <td>2666</td>\n",
       "      <td>Nominal</td>\n",
       "    </tr>\n",
       "    <tr>\n",
       "      <th>Area Code</th>\n",
       "      <td>3</td>\n",
       "      <td>Nominal</td>\n",
       "    </tr>\n",
       "    <tr>\n",
       "      <th>Int'l Plan</th>\n",
       "      <td>2</td>\n",
       "      <td>Numerical</td>\n",
       "    </tr>\n",
       "    <tr>\n",
       "      <th>Account Length</th>\n",
       "      <td>208</td>\n",
       "      <td>Numerical</td>\n",
       "    </tr>\n",
       "    <tr>\n",
       "      <th>Intl Charge</th>\n",
       "      <td>159</td>\n",
       "      <td>Numerical</td>\n",
       "    </tr>\n",
       "    <tr>\n",
       "      <th>Intl Calls</th>\n",
       "      <td>20</td>\n",
       "      <td>Numerical</td>\n",
       "    </tr>\n",
       "    <tr>\n",
       "      <th>Night Charge</th>\n",
       "      <td>872</td>\n",
       "      <td>Numerical</td>\n",
       "    </tr>\n",
       "    <tr>\n",
       "      <th>Night Calls</th>\n",
       "      <td>114</td>\n",
       "      <td>Numerical</td>\n",
       "    </tr>\n",
       "    <tr>\n",
       "      <th>VMail Message</th>\n",
       "      <td>44</td>\n",
       "      <td>Numerical</td>\n",
       "    </tr>\n",
       "    <tr>\n",
       "      <th>Eve Calls</th>\n",
       "      <td>119</td>\n",
       "      <td>Numerical</td>\n",
       "    </tr>\n",
       "    <tr>\n",
       "      <th>Day Charge</th>\n",
       "      <td>1491</td>\n",
       "      <td>Numerical</td>\n",
       "    </tr>\n",
       "    <tr>\n",
       "      <th>Day Calls</th>\n",
       "      <td>117</td>\n",
       "      <td>Numerical</td>\n",
       "    </tr>\n",
       "    <tr>\n",
       "      <th>CustServ Calls</th>\n",
       "      <td>10</td>\n",
       "      <td>Numerical</td>\n",
       "    </tr>\n",
       "    <tr>\n",
       "      <th>Intl Mins</th>\n",
       "      <td>159</td>\n",
       "      <td>Numerical</td>\n",
       "    </tr>\n",
       "    <tr>\n",
       "      <th>Night Mins</th>\n",
       "      <td>1426</td>\n",
       "      <td>Numerical</td>\n",
       "    </tr>\n",
       "    <tr>\n",
       "      <th>Eve Mins</th>\n",
       "      <td>1460</td>\n",
       "      <td>Numerical</td>\n",
       "    </tr>\n",
       "    <tr>\n",
       "      <th>Day Mins</th>\n",
       "      <td>1491</td>\n",
       "      <td>Numerical</td>\n",
       "    </tr>\n",
       "    <tr>\n",
       "      <th>VMail Plan</th>\n",
       "      <td>2</td>\n",
       "      <td>Numerical</td>\n",
       "    </tr>\n",
       "    <tr>\n",
       "      <th>Eve Charge</th>\n",
       "      <td>1316</td>\n",
       "      <td>Numerical</td>\n",
       "    </tr>\n",
       "  </tbody>\n",
       "</table>\n",
       "</div>"
      ],
      "text/plain": [
       "                Cardinality       Type\n",
       "State                    51    Nominal\n",
       "Phone                  2666    Nominal\n",
       "Area Code                 3    Nominal\n",
       "Int'l Plan                2  Numerical\n",
       "Account Length          208  Numerical\n",
       "Intl Charge             159  Numerical\n",
       "Intl Calls               20  Numerical\n",
       "Night Charge            872  Numerical\n",
       "Night Calls             114  Numerical\n",
       "VMail Message            44  Numerical\n",
       "Eve Calls               119  Numerical\n",
       "Day Charge             1491  Numerical\n",
       "Day Calls               117  Numerical\n",
       "CustServ Calls           10  Numerical\n",
       "Intl Mins               159  Numerical\n",
       "Night Mins             1426  Numerical\n",
       "Eve Mins               1460  Numerical\n",
       "Day Mins               1491  Numerical\n",
       "VMail Plan                2  Numerical\n",
       "Eve Charge             1316  Numerical"
      ]
     },
     "execution_count": 20,
     "metadata": {},
     "output_type": "execute_result"
    }
   ],
   "source": [
    "cardinality_df = X_train2.nunique().to_frame(\"Cardinality\")\n",
    "cardinality_df['Type'] = ['Numerical'] * len(cardinality_df)\n",
    "cardinality_df.loc[['Phone', 'Area Code', 'State'], 'Type'] = 'Nominal'\n",
    "print(\"Cardinality of each column (including both numerical and nominal columns):\\n\")\n",
    "cardinality_df.sort_values(by='Type')"
   ]
  },
  {
   "cell_type": "code",
   "execution_count": 21,
   "id": "27126464-6700-4835-b63e-b7fd392a1a25",
   "metadata": {},
   "outputs": [
    {
     "name": "stdout",
     "output_type": "stream",
     "text": [
      "Cardinality of nominal columns:\n",
      "\n"
     ]
    },
    {
     "data": {
      "text/html": [
       "<div>\n",
       "<style scoped>\n",
       "    .dataframe tbody tr th:only-of-type {\n",
       "        vertical-align: middle;\n",
       "    }\n",
       "\n",
       "    .dataframe tbody tr th {\n",
       "        vertical-align: top;\n",
       "    }\n",
       "\n",
       "    .dataframe thead th {\n",
       "        text-align: right;\n",
       "    }\n",
       "</style>\n",
       "<table border=\"1\" class=\"dataframe\">\n",
       "  <thead>\n",
       "    <tr style=\"text-align: right;\">\n",
       "      <th></th>\n",
       "      <th>Cardinality</th>\n",
       "      <th>Type</th>\n",
       "    </tr>\n",
       "  </thead>\n",
       "  <tbody>\n",
       "    <tr>\n",
       "      <th>Area Code</th>\n",
       "      <td>3</td>\n",
       "      <td>Nominal</td>\n",
       "    </tr>\n",
       "    <tr>\n",
       "      <th>Phone</th>\n",
       "      <td>2666</td>\n",
       "      <td>Nominal</td>\n",
       "    </tr>\n",
       "    <tr>\n",
       "      <th>State</th>\n",
       "      <td>51</td>\n",
       "      <td>Nominal</td>\n",
       "    </tr>\n",
       "  </tbody>\n",
       "</table>\n",
       "</div>"
      ],
      "text/plain": [
       "           Cardinality     Type\n",
       "Area Code            3  Nominal\n",
       "Phone             2666  Nominal\n",
       "State               51  Nominal"
      ]
     },
     "execution_count": 21,
     "metadata": {},
     "output_type": "execute_result"
    }
   ],
   "source": [
    "print(\"Cardinality of nominal columns:\\n\")\n",
    "cardinality_df.query(\"Type == 'Nominal'\")"
   ]
  },
  {
   "cell_type": "code",
   "execution_count": 22,
   "id": "f2537320-59cf-4e0e-a42a-71598eaf7e5e",
   "metadata": {},
   "outputs": [],
   "source": [
    "X_train2.drop(columns=['Phone', 'State', 'Area Code'], inplace=True)\n",
    "X_test2.drop(columns=['Phone', 'State', 'Area Code'], inplace=True)"
   ]
  },
  {
   "cell_type": "markdown",
   "id": "61a32c35-9f13-417e-94b2-9a0774d2d11f",
   "metadata": {},
   "source": [
    "## Training with sklearn in Python"
   ]
  },
  {
   "cell_type": "code",
   "execution_count": 23,
   "id": "4738b1b8-46d8-4716-a30f-18f0155029ac",
   "metadata": {},
   "outputs": [],
   "source": [
    "from sklearn.tree import DecisionTreeClassifier\n",
    "from sklearn2pmml.pipeline import PMMLPipeline\n",
    "\n",
    "from sklearn_pandas import DataFrameMapper\n",
    "from sklearn2pmml.decoration import ContinuousDomain\n",
    "\n",
    "dt = DecisionTreeClassifier(\n",
    "    random_state=42,\n",
    "    criterion=\"gini\", # Quality measure\n",
    "    min_samples_leaf=6, # Min number records per node\n",
    ")\n",
    "\n",
    "# encoder2 = OrdinalEncoder(handle_unknown=\"use_encoded_value\", unknown_value=-1)\n",
    "\n",
    "pipeline = PMMLPipeline([\n",
    "    (\"classifier\", dt)\n",
    "])"
   ]
  },
  {
   "cell_type": "code",
   "execution_count": 24,
   "id": "141ac2de-4b6c-44aa-818a-8129155f4506",
   "metadata": {},
   "outputs": [
    {
     "data": {
      "text/plain": [
       "PMMLPipeline(steps=[('classifier', DecisionTreeClassifier(min_samples_leaf=6, random_state=42))])"
      ]
     },
     "execution_count": 24,
     "metadata": {},
     "output_type": "execute_result"
    }
   ],
   "source": [
    "pipeline.fit(X_train2, y_train2)"
   ]
  },
  {
   "cell_type": "code",
   "execution_count": 25,
   "id": "0faad44b-bc76-420c-9aa0-0890d8f1a478",
   "metadata": {},
   "outputs": [
    {
     "data": {
      "text/plain": [
       "(667,)"
      ]
     },
     "execution_count": 25,
     "metadata": {},
     "output_type": "execute_result"
    }
   ],
   "source": [
    "y_pred2 = pipeline.predict(X_test2)\n",
    "y_pred2.shape"
   ]
  },
  {
   "cell_type": "code",
   "execution_count": 26,
   "id": "196007fa-0b62-4e5a-9a37-a4b66dc3563b",
   "metadata": {},
   "outputs": [],
   "source": [
    "total_correct = np.sum(np.where(y_pred2 == y_test2, 1, 0))\n",
    "total_incorrect = len(y_test2) - total_correct\n",
    "acc = total_correct / len(y_test2) * 100\n",
    "error = 100 - acc"
   ]
  },
  {
   "cell_type": "code",
   "execution_count": 27,
   "id": "904a95ef-49cb-4b02-b5b5-33723e8dd5b8",
   "metadata": {},
   "outputs": [
    {
     "data": {
      "text/plain": [
       "{'Testing accuracy': 93.7031484257871,\n",
       " 'Correct classified': 625,\n",
       " 'Wrong classified': 42,\n",
       " 'Error': 6.296851574212894}"
      ]
     },
     "execution_count": 27,
     "metadata": {},
     "output_type": "execute_result"
    }
   ],
   "source": [
    "# saving results\n",
    "python_dt = {\n",
    "    \"Testing accuracy\": acc,\n",
    "    \"Correct classified\": total_correct,\n",
    "    \"Wrong classified\": total_incorrect,\n",
    "    \"Error\": error\n",
    "}\n",
    "python_dt"
   ]
  },
  {
   "cell_type": "code",
   "execution_count": 28,
   "id": "99b6d385-8454-4052-aa9d-f1dc42eeae77",
   "metadata": {},
   "outputs": [
    {
     "data": {
      "image/png": "[encoded data removed]",
      "text/plain": [
       "<Figure size 720x360 with 1 Axes>"
      ]
     },
     "metadata": {
      "needs_background": "light"
     },
     "output_type": "display_data"
    },
    {
     "name": "stdout",
     "output_type": "stream",
     "text": [
      "Correct classified: 625\t\t\t\t\tWrong classified: 42\n",
      "Accuracy: 93.703 %\t\t\t\t\tError: 6.297 %\n"
     ]
    }
   ],
   "source": [
    "cm = confusion_matrix(y_pred2, y_test2)\n",
    "\n",
    "fig = plt.figure(figsize=(10, 5))\n",
    "ax = sns.heatmap(\n",
    "    cm,\n",
    "    # use specific color\n",
    "    cmap=\"Blues\",\n",
    "    # show numbers\n",
    "    annot=True,\n",
    "    # format to integer\n",
    "    fmt=\"d\",\n",
    "    # don't show colorbar\n",
    "    cbar=False,\n",
    "    # format them to look nicer\n",
    "    annot_kws={\"fontsize\": 15},\n",
    ")\n",
    "plt.title(\"Model Trained in Python | Confusion Matrix \", size=18, fontfamily=\"serif\")\n",
    "plt.show()\n",
    "\n",
    "print(f\"Correct classified: {total_correct:,}\", end=\"\\t\\t\\t\\t\\t\")\n",
    "print(f\"Wrong classified: {total_incorrect:,}\")\n",
    "print(f\"Accuracy: {acc:.3f} %\", end=\"\\t\\t\\t\\t\\t\")\n",
    "print(f\"Error: {error:.3f} %\")"
   ]
  },
  {
   "cell_type": "markdown",
   "id": "501a1af0-2484-4f93-8794-0fa370741c06",
   "metadata": {},
   "source": [
    "# Export sklearn model to PMML"
   ]
  },
  {
   "cell_type": "code",
   "execution_count": 72,
   "id": "4abffc9e-3ccc-4a46-bc82-58114116699e",
   "metadata": {},
   "outputs": [
    {
     "name": "stderr",
     "output_type": "stream",
     "text": [
      "C:\\Users\\user\\anaconda3\\envs\\pmml\\lib\\subprocess.py:848: RuntimeWarning: line buffering (buffering=1) isn't supported in binary mode, the default buffer size will be used\n",
      "  self.stdout = io.open(c2pread, 'rb', bufsize)\n",
      "C:\\Users\\user\\anaconda3\\envs\\pmml\\lib\\subprocess.py:853: RuntimeWarning: line buffering (buffering=1) isn't supported in binary mode, the default buffer size will be used\n",
      "  self.stderr = io.open(errread, 'rb', bufsize)\n"
     ]
    }
   ],
   "source": [
    "from sklearn2pmml import sklearn2pmml\n",
    "\n",
    "PYTHON_MODEL_PATH = os.path.join(\"..\", \"models\", \"python_decision_tree.pmml\")\n",
    "sklearn2pmml(pipeline, PYTHON_MODEL_PATH, with_repr=True)"
   ]
  },
  {
   "cell_type": "code",
   "execution_count": 30,
   "id": "675503ea-b0aa-4df0-9226-9c25617c96c6",
   "metadata": {},
   "outputs": [],
   "source": [
    "# try reading the model\n",
    "pipeline = PMMLTreeClassifier(pmml=PYTHON_MODEL_PATH)"
   ]
  },
  {
   "cell_type": "code",
   "execution_count": 31,
   "id": "f8b26a34-bffd-4a92-9e26-c80752159ed3",
   "metadata": {},
   "outputs": [
    {
     "data": {
      "text/plain": [
       "(667,)"
      ]
     },
     "execution_count": 31,
     "metadata": {},
     "output_type": "execute_result"
    }
   ],
   "source": [
    "y_pred3 = pipeline.predict(X_test2)\n",
    "y_pred3.shape"
   ]
  },
  {
   "cell_type": "code",
   "execution_count": 32,
   "id": "6eb215ff-f1b7-4c3f-8dd5-77c54473490a",
   "metadata": {},
   "outputs": [],
   "source": [
    "total_correct = np.sum(np.where(y_pred3 == y_test2, 1, 0))\n",
    "total_incorrect = len(y_test2) - total_correct\n",
    "acc = total_correct / len(y_test2) * 100\n",
    "error = 100 - acc"
   ]
  },
  {
   "cell_type": "code",
   "execution_count": 33,
   "id": "eb8e0610-8d6c-4d0f-b089-b5a531902896",
   "metadata": {},
   "outputs": [
    {
     "data": {
      "image/png": "[encoded data removed]",
      "text/plain": [
       "<Figure size 720x360 with 1 Axes>"
      ]
     },
     "metadata": {
      "needs_background": "light"
     },
     "output_type": "display_data"
    },
    {
     "name": "stdout",
     "output_type": "stream",
     "text": [
      "Correct classified: 625\t\t\t\t\tWrong classified: 42\n",
      "Accuracy: 93.703 %\t\t\t\t\tError: 6.297 %\n"
     ]
    }
   ],
   "source": [
    "cm = confusion_matrix(y_pred3, y_test2)\n",
    "\n",
    "fig = plt.figure(figsize=(10, 5))\n",
    "ax = sns.heatmap(\n",
    "    cm,\n",
    "    # use specific color\n",
    "    cmap=\"Blues\",\n",
    "    # show numbers\n",
    "    annot=True,\n",
    "    # format to integer\n",
    "    fmt=\"d\",\n",
    "    # don't show colorbar\n",
    "    cbar=False,\n",
    "    # format them to look nicer\n",
    "    annot_kws={\"fontsize\": 15},\n",
    ")\n",
    "plt.title(\"Model Trained in Python | Confusion Matrix \", size=18, fontfamily=\"serif\")\n",
    "plt.show()\n",
    "\n",
    "print(f\"Correct classified: {total_correct:,}\", end=\"\\t\\t\\t\\t\\t\")\n",
    "print(f\"Wrong classified: {total_incorrect:,}\")\n",
    "print(f\"Accuracy: {acc:.3f} %\", end=\"\\t\\t\\t\\t\\t\")\n",
    "print(f\"Error: {error:.3f} %\")"
   ]
  },
  {
   "cell_type": "markdown",
   "id": "53fd8b8a-0930-4a6d-9561-cf919d7738c6",
   "metadata": {},
   "source": [
    "## Conclusion:\n",
    "\n",
    "Trained in Python, exported to PMML, loaded back and obtained the same results."
   ]
  },
  {
   "cell_type": "markdown",
   "id": "6f2a1dc3-6091-4a4a-b25f-2fabc64f8e6c",
   "metadata": {},
   "source": [
    "# Overall comparison"
   ]
  },
  {
   "cell_type": "code",
   "execution_count": 34,
   "id": "0aca9803-ae9a-41c9-b43d-aa933e8590ae",
   "metadata": {},
   "outputs": [
    {
     "data": {
      "text/html": [
       "<div>\n",
       "<style scoped>\n",
       "    .dataframe tbody tr th:only-of-type {\n",
       "        vertical-align: middle;\n",
       "    }\n",
       "\n",
       "    .dataframe tbody tr th {\n",
       "        vertical-align: top;\n",
       "    }\n",
       "\n",
       "    .dataframe thead th {\n",
       "        text-align: right;\n",
       "    }\n",
       "</style>\n",
       "<table border=\"1\" class=\"dataframe\">\n",
       "  <thead>\n",
       "    <tr style=\"text-align: right;\">\n",
       "      <th></th>\n",
       "      <th>Testing accuracy</th>\n",
       "      <th>Correct classified</th>\n",
       "      <th>Wrong classified</th>\n",
       "      <th>Error</th>\n",
       "    </tr>\n",
       "  </thead>\n",
       "  <tbody>\n",
       "    <tr>\n",
       "      <th>Python - Decision Tree</th>\n",
       "      <td>93.703148</td>\n",
       "      <td>625</td>\n",
       "      <td>42</td>\n",
       "      <td>6.296852</td>\n",
       "    </tr>\n",
       "    <tr>\n",
       "      <th>KNIME - Loaded in Python</th>\n",
       "      <td>92.503748</td>\n",
       "      <td>617</td>\n",
       "      <td>50</td>\n",
       "      <td>7.496252</td>\n",
       "    </tr>\n",
       "    <tr>\n",
       "      <th>KNIME - Original</th>\n",
       "      <td>92.954000</td>\n",
       "      <td>620</td>\n",
       "      <td>47</td>\n",
       "      <td>7.046000</td>\n",
       "    </tr>\n",
       "  </tbody>\n",
       "</table>\n",
       "</div>"
      ],
      "text/plain": [
       "                          Testing accuracy  Correct classified  \\\n",
       "Python - Decision Tree           93.703148                 625   \n",
       "KNIME - Loaded in Python         92.503748                 617   \n",
       "KNIME - Original                 92.954000                 620   \n",
       "\n",
       "                          Wrong classified     Error  \n",
       "Python - Decision Tree                  42  6.296852  \n",
       "KNIME - Loaded in Python                50  7.496252  \n",
       "KNIME - Original                        47  7.046000  "
      ]
     },
     "execution_count": 34,
     "metadata": {},
     "output_type": "execute_result"
    }
   ],
   "source": [
    "import pandas as pd\n",
    "\n",
    "results_df = pd.DataFrame([python_dt, knime_dt, knime_dt_ori], index=['Python - Decision Tree', 'KNIME - Loaded in Python', 'KNIME - Original'])\n",
    "results_df"
   ]
  },
  {
   "cell_type": "code",
   "execution_count": 45,
   "id": "4b3c3e72-28bf-403d-9b93-e20896b69559",
   "metadata": {},
   "outputs": [
    {
     "data": {
      "text/html": [
       "<style  type=\"text/css\" >\n",
       "#T_e1af9_row0_col0{\n",
       "            background-color:  #dbe9f6;\n",
       "            color:  #000000;\n",
       "        }#T_e1af9_row0_col1,#T_e1af9_row1_col1,#T_e1af9_row2_col1{\n",
       "            background-color:  #08306b;\n",
       "            color:  #f1f1f1;\n",
       "        }#T_e1af9_row0_col2{\n",
       "            background-color:  #ecf4fb;\n",
       "            color:  #000000;\n",
       "        }#T_e1af9_row0_col3,#T_e1af9_row1_col3,#T_e1af9_row2_col3{\n",
       "            background-color:  #f7fbff;\n",
       "            color:  #000000;\n",
       "        }#T_e1af9_row1_col0,#T_e1af9_row2_col0{\n",
       "            background-color:  #dce9f6;\n",
       "            color:  #000000;\n",
       "        }#T_e1af9_row1_col2{\n",
       "            background-color:  #eaf2fb;\n",
       "            color:  #000000;\n",
       "        }#T_e1af9_row2_col2{\n",
       "            background-color:  #eaf3fb;\n",
       "            color:  #000000;\n",
       "        }</style><table id=\"T_e1af9_\" ><thead>    <tr>        <th class=\"blank level0\" ></th>        <th class=\"col_heading level0 col0\" >Testing accuracy</th>        <th class=\"col_heading level0 col1\" >Correct classified</th>        <th class=\"col_heading level0 col2\" >Wrong classified</th>        <th class=\"col_heading level0 col3\" >Error</th>    </tr></thead><tbody>\n",
       "                <tr>\n",
       "                        <th id=\"T_e1af9_level0_row0\" class=\"row_heading level0 row0\" >Python - Decision Tree</th>\n",
       "                        <td id=\"T_e1af9_row0_col0\" class=\"data row0 col0\" >93.703 %</td>\n",
       "                        <td id=\"T_e1af9_row0_col1\" class=\"data row0 col1\" >625</td>\n",
       "                        <td id=\"T_e1af9_row0_col2\" class=\"data row0 col2\" >42</td>\n",
       "                        <td id=\"T_e1af9_row0_col3\" class=\"data row0 col3\" >6.297 %</td>\n",
       "            </tr>\n",
       "            <tr>\n",
       "                        <th id=\"T_e1af9_level0_row1\" class=\"row_heading level0 row1\" >KNIME - Loaded in Python</th>\n",
       "                        <td id=\"T_e1af9_row1_col0\" class=\"data row1 col0\" >92.504 %</td>\n",
       "                        <td id=\"T_e1af9_row1_col1\" class=\"data row1 col1\" >617</td>\n",
       "                        <td id=\"T_e1af9_row1_col2\" class=\"data row1 col2\" >50</td>\n",
       "                        <td id=\"T_e1af9_row1_col3\" class=\"data row1 col3\" >7.496 %</td>\n",
       "            </tr>\n",
       "            <tr>\n",
       "                        <th id=\"T_e1af9_level0_row2\" class=\"row_heading level0 row2\" >KNIME - Original</th>\n",
       "                        <td id=\"T_e1af9_row2_col0\" class=\"data row2 col0\" >92.954 %</td>\n",
       "                        <td id=\"T_e1af9_row2_col1\" class=\"data row2 col1\" >620</td>\n",
       "                        <td id=\"T_e1af9_row2_col2\" class=\"data row2 col2\" >47</td>\n",
       "                        <td id=\"T_e1af9_row2_col3\" class=\"data row2 col3\" >7.046 %</td>\n",
       "            </tr>\n",
       "    </tbody></table>"
      ],
      "text/plain": [
       "<pandas.io.formats.style.Styler at 0x24cddf5b0d0>"
      ]
     },
     "execution_count": 45,
     "metadata": {},
     "output_type": "execute_result"
    }
   ],
   "source": [
    "style_dict = {\"Testing accuracy\": '{:,.3f} %',\n",
    "              \"Correct classified\": '{:,}',\n",
    "              \"Error\": '{:,.3f} %'\n",
    "             }\n",
    "\n",
    "results_df.style.background_gradient(cmap='Blues', axis='columns').format(style_dict)"
   ]
  },
  {
   "cell_type": "code",
   "execution_count": 37,
   "id": "598a1e74-2ee0-47e9-84fa-1534168ee987",
   "metadata": {},
   "outputs": [],
   "source": [
    "RESULT_PATH = os.path.join(\"..\", \"results\", \"overall_comparison-decision_tree.csv\")\n",
    "results_df.to_csv(RESULT_PATH)"
   ]
  },
  {
   "cell_type": "markdown",
   "id": "c727e4c2-5592-4e19-acd1-527f8a99aa04",
   "metadata": {},
   "source": [
    "# Combine with MNIST results"
   ]
  },
  {
   "cell_type": "code",
   "execution_count": 48,
   "id": "66ab6e49-accd-4f2b-bd11-cb3351863a6b",
   "metadata": {},
   "outputs": [
    {
     "data": {
      "text/html": [
       "<div>\n",
       "<style scoped>\n",
       "    .dataframe tbody tr th:only-of-type {\n",
       "        vertical-align: middle;\n",
       "    }\n",
       "\n",
       "    .dataframe tbody tr th {\n",
       "        vertical-align: top;\n",
       "    }\n",
       "\n",
       "    .dataframe thead th {\n",
       "        text-align: right;\n",
       "    }\n",
       "</style>\n",
       "<table border=\"1\" class=\"dataframe\">\n",
       "  <thead>\n",
       "    <tr style=\"text-align: right;\">\n",
       "      <th></th>\n",
       "      <th>Training accuracy</th>\n",
       "      <th>Validation accuracy</th>\n",
       "      <th>Correct classified</th>\n",
       "      <th>Wrong classified</th>\n",
       "      <th>Error</th>\n",
       "    </tr>\n",
       "  </thead>\n",
       "  <tbody>\n",
       "    <tr>\n",
       "      <th>Adadelta Python</th>\n",
       "      <td>97.10</td>\n",
       "      <td>95.000000</td>\n",
       "      <td>1425</td>\n",
       "      <td>75</td>\n",
       "      <td>5.000000</td>\n",
       "    </tr>\n",
       "    <tr>\n",
       "      <th>Adadelta KNIME</th>\n",
       "      <td>99.50</td>\n",
       "      <td>93.867000</td>\n",
       "      <td>1408</td>\n",
       "      <td>92</td>\n",
       "      <td>6.133000</td>\n",
       "    </tr>\n",
       "    <tr>\n",
       "      <th>Adam Python</th>\n",
       "      <td>99.41</td>\n",
       "      <td>96.333333</td>\n",
       "      <td>1445</td>\n",
       "      <td>55</td>\n",
       "      <td>3.666667</td>\n",
       "    </tr>\n",
       "    <tr>\n",
       "      <th>Adam KNIME</th>\n",
       "      <td>99.50</td>\n",
       "      <td>96.533000</td>\n",
       "      <td>1448</td>\n",
       "      <td>52</td>\n",
       "      <td>3.467000</td>\n",
       "    </tr>\n",
       "  </tbody>\n",
       "</table>\n",
       "</div>"
      ],
      "text/plain": [
       "                 Training accuracy  Validation accuracy  Correct classified  \\\n",
       "Adadelta Python              97.10            95.000000                1425   \n",
       "Adadelta KNIME               99.50            93.867000                1408   \n",
       "Adam Python                  99.41            96.333333                1445   \n",
       "Adam KNIME                   99.50            96.533000                1448   \n",
       "\n",
       "                 Wrong classified     Error  \n",
       "Adadelta Python                75  5.000000  \n",
       "Adadelta KNIME                 92  6.133000  \n",
       "Adam Python                    55  3.666667  \n",
       "Adam KNIME                     52  3.467000  "
      ]
     },
     "execution_count": 48,
     "metadata": {},
     "output_type": "execute_result"
    }
   ],
   "source": [
    "MNIST_RESULT_PATH = os.path.join(\"..\", \"results\", \"overall_MNIST_result.csv\")\n",
    "mnist_results = pd.read_csv(MNIST_RESULT_PATH, index_col=0)\n",
    "mnist_results"
   ]
  },
  {
   "cell_type": "code",
   "execution_count": 52,
   "id": "e81dfb6f-019f-4098-a372-b4575b5c9a20",
   "metadata": {},
   "outputs": [],
   "source": [
    "results_df.insert(0, 'Training accuracy', np.nan)"
   ]
  },
  {
   "cell_type": "code",
   "execution_count": 60,
   "id": "23af5c72-5371-4b3d-8213-b822f711657b",
   "metadata": {},
   "outputs": [],
   "source": [
    "mnist_results.rename(columns={\"Validation accuracy\": \"Testing accuracy\"}, inplace=True)"
   ]
  },
  {
   "cell_type": "code",
   "execution_count": 61,
   "id": "0dfcfbab-a5ba-4e81-935d-d22869dd5701",
   "metadata": {},
   "outputs": [
    {
     "data": {
      "text/html": [
       "<div>\n",
       "<style scoped>\n",
       "    .dataframe tbody tr th:only-of-type {\n",
       "        vertical-align: middle;\n",
       "    }\n",
       "\n",
       "    .dataframe tbody tr th {\n",
       "        vertical-align: top;\n",
       "    }\n",
       "\n",
       "    .dataframe thead th {\n",
       "        text-align: right;\n",
       "    }\n",
       "</style>\n",
       "<table border=\"1\" class=\"dataframe\">\n",
       "  <thead>\n",
       "    <tr style=\"text-align: right;\">\n",
       "      <th></th>\n",
       "      <th>Training accuracy</th>\n",
       "      <th>Testing accuracy</th>\n",
       "      <th>Correct classified</th>\n",
       "      <th>Wrong classified</th>\n",
       "      <th>Error</th>\n",
       "    </tr>\n",
       "  </thead>\n",
       "  <tbody>\n",
       "    <tr>\n",
       "      <th>Adadelta Python</th>\n",
       "      <td>97.10</td>\n",
       "      <td>95.000000</td>\n",
       "      <td>1425</td>\n",
       "      <td>75</td>\n",
       "      <td>5.000000</td>\n",
       "    </tr>\n",
       "    <tr>\n",
       "      <th>Adadelta KNIME</th>\n",
       "      <td>99.50</td>\n",
       "      <td>93.867000</td>\n",
       "      <td>1408</td>\n",
       "      <td>92</td>\n",
       "      <td>6.133000</td>\n",
       "    </tr>\n",
       "    <tr>\n",
       "      <th>Adam Python</th>\n",
       "      <td>99.41</td>\n",
       "      <td>96.333333</td>\n",
       "      <td>1445</td>\n",
       "      <td>55</td>\n",
       "      <td>3.666667</td>\n",
       "    </tr>\n",
       "    <tr>\n",
       "      <th>Adam KNIME</th>\n",
       "      <td>99.50</td>\n",
       "      <td>96.533000</td>\n",
       "      <td>1448</td>\n",
       "      <td>52</td>\n",
       "      <td>3.467000</td>\n",
       "    </tr>\n",
       "    <tr>\n",
       "      <th>Python - Decision Tree</th>\n",
       "      <td>NaN</td>\n",
       "      <td>93.703148</td>\n",
       "      <td>625</td>\n",
       "      <td>42</td>\n",
       "      <td>6.296852</td>\n",
       "    </tr>\n",
       "    <tr>\n",
       "      <th>KNIME - Loaded in Python</th>\n",
       "      <td>NaN</td>\n",
       "      <td>92.503748</td>\n",
       "      <td>617</td>\n",
       "      <td>50</td>\n",
       "      <td>7.496252</td>\n",
       "    </tr>\n",
       "    <tr>\n",
       "      <th>KNIME - Original</th>\n",
       "      <td>NaN</td>\n",
       "      <td>92.954000</td>\n",
       "      <td>620</td>\n",
       "      <td>47</td>\n",
       "      <td>7.046000</td>\n",
       "    </tr>\n",
       "  </tbody>\n",
       "</table>\n",
       "</div>"
      ],
      "text/plain": [
       "                          Training accuracy  Testing accuracy  \\\n",
       "Adadelta Python                       97.10         95.000000   \n",
       "Adadelta KNIME                        99.50         93.867000   \n",
       "Adam Python                           99.41         96.333333   \n",
       "Adam KNIME                            99.50         96.533000   \n",
       "Python - Decision Tree                  NaN         93.703148   \n",
       "KNIME - Loaded in Python                NaN         92.503748   \n",
       "KNIME - Original                        NaN         92.954000   \n",
       "\n",
       "                          Correct classified  Wrong classified     Error  \n",
       "Adadelta Python                         1425                75  5.000000  \n",
       "Adadelta KNIME                          1408                92  6.133000  \n",
       "Adam Python                             1445                55  3.666667  \n",
       "Adam KNIME                              1448                52  3.467000  \n",
       "Python - Decision Tree                   625                42  6.296852  \n",
       "KNIME - Loaded in Python                 617                50  7.496252  \n",
       "KNIME - Original                         620                47  7.046000  "
      ]
     },
     "execution_count": 61,
     "metadata": {},
     "output_type": "execute_result"
    }
   ],
   "source": [
    "all_results = pd.concat([mnist_results, results_df], axis=0)\n",
    "all_results"
   ]
  },
  {
   "cell_type": "code",
   "execution_count": 64,
   "id": "6ca26577-c696-4e5c-a557-d45e1d6393fe",
   "metadata": {},
   "outputs": [
    {
     "data": {
      "text/html": [
       "<style  type=\"text/css\" >\n",
       "#T_0ab09_row0_col0,#T_0ab09_row0_col1,#T_0ab09_row1_col1,#T_0ab09_row2_col1,#T_0ab09_row3_col1,#T_0ab09_row6_col3{\n",
       "            background-color:  #eaf3fb;\n",
       "            color:  #000000;\n",
       "        }#T_0ab09_row0_col2,#T_0ab09_row1_col2,#T_0ab09_row2_col2,#T_0ab09_row3_col2,#T_0ab09_row4_col2,#T_0ab09_row5_col2,#T_0ab09_row6_col2{\n",
       "            background-color:  #08306b;\n",
       "            color:  #f1f1f1;\n",
       "        }#T_0ab09_row0_col3{\n",
       "            background-color:  #eef5fc;\n",
       "            color:  #000000;\n",
       "        }#T_0ab09_row0_col4,#T_0ab09_row1_col4,#T_0ab09_row2_col4,#T_0ab09_row3_col4,#T_0ab09_row4_col4,#T_0ab09_row5_col4,#T_0ab09_row6_col4{\n",
       "            background-color:  #f7fbff;\n",
       "            color:  #000000;\n",
       "        }#T_0ab09_row1_col0,#T_0ab09_row2_col0,#T_0ab09_row3_col0,#T_0ab09_row5_col3{\n",
       "            background-color:  #eaf2fb;\n",
       "            color:  #000000;\n",
       "        }#T_0ab09_row1_col3{\n",
       "            background-color:  #ebf3fb;\n",
       "            color:  #000000;\n",
       "        }#T_0ab09_row2_col3{\n",
       "            background-color:  #f0f6fd;\n",
       "            color:  #000000;\n",
       "        }#T_0ab09_row3_col3{\n",
       "            background-color:  #f1f7fd;\n",
       "            color:  #000000;\n",
       "        }#T_0ab09_row4_col0,#T_0ab09_row5_col0,#T_0ab09_row6_col0{\n",
       "            background-color:  #000000;\n",
       "            color:  #f1f1f1;\n",
       "        }#T_0ab09_row4_col1{\n",
       "            background-color:  #dbe9f6;\n",
       "            color:  #000000;\n",
       "        }#T_0ab09_row4_col3{\n",
       "            background-color:  #ecf4fb;\n",
       "            color:  #000000;\n",
       "        }#T_0ab09_row5_col1,#T_0ab09_row6_col1{\n",
       "            background-color:  #dce9f6;\n",
       "            color:  #000000;\n",
       "        }</style><table id=\"T_0ab09_\" ><thead>    <tr>        <th class=\"blank level0\" ></th>        <th class=\"col_heading level0 col0\" >Training accuracy</th>        <th class=\"col_heading level0 col1\" >Testing accuracy</th>        <th class=\"col_heading level0 col2\" >Correct classified</th>        <th class=\"col_heading level0 col3\" >Wrong classified</th>        <th class=\"col_heading level0 col4\" >Error</th>    </tr></thead><tbody>\n",
       "                <tr>\n",
       "                        <th id=\"T_0ab09_level0_row0\" class=\"row_heading level0 row0\" >Adadelta Python</th>\n",
       "                        <td id=\"T_0ab09_row0_col0\" class=\"data row0 col0\" >97.100000</td>\n",
       "                        <td id=\"T_0ab09_row0_col1\" class=\"data row0 col1\" >95.000 %</td>\n",
       "                        <td id=\"T_0ab09_row0_col2\" class=\"data row0 col2\" >1,425</td>\n",
       "                        <td id=\"T_0ab09_row0_col3\" class=\"data row0 col3\" >75</td>\n",
       "                        <td id=\"T_0ab09_row0_col4\" class=\"data row0 col4\" >5.000 %</td>\n",
       "            </tr>\n",
       "            <tr>\n",
       "                        <th id=\"T_0ab09_level0_row1\" class=\"row_heading level0 row1\" >Adadelta KNIME</th>\n",
       "                        <td id=\"T_0ab09_row1_col0\" class=\"data row1 col0\" >99.500000</td>\n",
       "                        <td id=\"T_0ab09_row1_col1\" class=\"data row1 col1\" >93.867 %</td>\n",
       "                        <td id=\"T_0ab09_row1_col2\" class=\"data row1 col2\" >1,408</td>\n",
       "                        <td id=\"T_0ab09_row1_col3\" class=\"data row1 col3\" >92</td>\n",
       "                        <td id=\"T_0ab09_row1_col4\" class=\"data row1 col4\" >6.133 %</td>\n",
       "            </tr>\n",
       "            <tr>\n",
       "                        <th id=\"T_0ab09_level0_row2\" class=\"row_heading level0 row2\" >Adam Python</th>\n",
       "                        <td id=\"T_0ab09_row2_col0\" class=\"data row2 col0\" >99.410000</td>\n",
       "                        <td id=\"T_0ab09_row2_col1\" class=\"data row2 col1\" >96.333 %</td>\n",
       "                        <td id=\"T_0ab09_row2_col2\" class=\"data row2 col2\" >1,445</td>\n",
       "                        <td id=\"T_0ab09_row2_col3\" class=\"data row2 col3\" >55</td>\n",
       "                        <td id=\"T_0ab09_row2_col4\" class=\"data row2 col4\" >3.667 %</td>\n",
       "            </tr>\n",
       "            <tr>\n",
       "                        <th id=\"T_0ab09_level0_row3\" class=\"row_heading level0 row3\" >Adam KNIME</th>\n",
       "                        <td id=\"T_0ab09_row3_col0\" class=\"data row3 col0\" >99.500000</td>\n",
       "                        <td id=\"T_0ab09_row3_col1\" class=\"data row3 col1\" >96.533 %</td>\n",
       "                        <td id=\"T_0ab09_row3_col2\" class=\"data row3 col2\" >1,448</td>\n",
       "                        <td id=\"T_0ab09_row3_col3\" class=\"data row3 col3\" >52</td>\n",
       "                        <td id=\"T_0ab09_row3_col4\" class=\"data row3 col4\" >3.467 %</td>\n",
       "            </tr>\n",
       "            <tr>\n",
       "                        <th id=\"T_0ab09_level0_row4\" class=\"row_heading level0 row4\" >Python - Decision Tree</th>\n",
       "                        <td id=\"T_0ab09_row4_col0\" class=\"data row4 col0\" >nan</td>\n",
       "                        <td id=\"T_0ab09_row4_col1\" class=\"data row4 col1\" >93.703 %</td>\n",
       "                        <td id=\"T_0ab09_row4_col2\" class=\"data row4 col2\" >625</td>\n",
       "                        <td id=\"T_0ab09_row4_col3\" class=\"data row4 col3\" >42</td>\n",
       "                        <td id=\"T_0ab09_row4_col4\" class=\"data row4 col4\" >6.297 %</td>\n",
       "            </tr>\n",
       "            <tr>\n",
       "                        <th id=\"T_0ab09_level0_row5\" class=\"row_heading level0 row5\" >KNIME - Loaded in Python</th>\n",
       "                        <td id=\"T_0ab09_row5_col0\" class=\"data row5 col0\" >nan</td>\n",
       "                        <td id=\"T_0ab09_row5_col1\" class=\"data row5 col1\" >92.504 %</td>\n",
       "                        <td id=\"T_0ab09_row5_col2\" class=\"data row5 col2\" >617</td>\n",
       "                        <td id=\"T_0ab09_row5_col3\" class=\"data row5 col3\" >50</td>\n",
       "                        <td id=\"T_0ab09_row5_col4\" class=\"data row5 col4\" >7.496 %</td>\n",
       "            </tr>\n",
       "            <tr>\n",
       "                        <th id=\"T_0ab09_level0_row6\" class=\"row_heading level0 row6\" >KNIME - Original</th>\n",
       "                        <td id=\"T_0ab09_row6_col0\" class=\"data row6 col0\" >nan</td>\n",
       "                        <td id=\"T_0ab09_row6_col1\" class=\"data row6 col1\" >92.954 %</td>\n",
       "                        <td id=\"T_0ab09_row6_col2\" class=\"data row6 col2\" >620</td>\n",
       "                        <td id=\"T_0ab09_row6_col3\" class=\"data row6 col3\" >47</td>\n",
       "                        <td id=\"T_0ab09_row6_col4\" class=\"data row6 col4\" >7.046 %</td>\n",
       "            </tr>\n",
       "    </tbody></table>"
      ],
      "text/plain": [
       "<pandas.io.formats.style.Styler at 0x24cdf4cfa60>"
      ]
     },
     "execution_count": 64,
     "metadata": {},
     "output_type": "execute_result"
    }
   ],
   "source": [
    "style_dict = {\"Testing accuracy\": '{:,.3f} %',\n",
    "              \"Correct classified\": '{:,}',\n",
    "              \"Error\": '{:,.3f} %'\n",
    "             }\n",
    "\n",
    "all_results.style.background_gradient(cmap='Blues', axis=1).format(style_dict)"
   ]
  },
  {
   "cell_type": "code",
   "execution_count": null,
   "id": "df4c4506-048a-40f4-9ba9-a3920098013a",
   "metadata": {},
   "outputs": [],
   "source": []
  }
 ],
 "metadata": {
  "kernelspec": {
   "display_name": "pmml",
   "language": "python",
   "name": "pmml"
  },
  "language_info": {
   "codemirror_mode": {
    "name": "ipython",
    "version": 3
   },
   "file_extension": ".py",
   "mimetype": "text/x-python",
   "name": "python",
   "nbconvert_exporter": "python",
   "pygments_lexer": "ipython3",
   "version": "3.8.11"
  }
 },
 "nbformat": 4,
 "nbformat_minor": 5
}
