{
 "cells": [
  {
   "cell_type": "markdown",
   "id": "6a191165-b615-4ee6-94ab-aade5be9a31a",
   "metadata": {},
   "source": [
    "# Checking the MNIST dataset from TFDS"
   ]
  },
  {
   "cell_type": "code",
   "execution_count": 1,
   "id": "58c8dab9-b53c-4295-b0f9-b6a7678d7a82",
   "metadata": {},
   "outputs": [],
   "source": [
    "import numpy as np\n",
    "import matplotlib.pyplot as plt\n",
    "import cv2\n",
    "import os\n",
    "# from sklearn.datasets import load_digits\n",
    "\n",
    "import tensorflow as tf\n",
    "# import tensorflow_datasets as tfds"
   ]
  },
  {
   "cell_type": "code",
   "execution_count": 2,
   "id": "6b99cd40-5281-42c8-9c4a-5dd2ef5ba905",
   "metadata": {},
   "outputs": [
    {
     "data": {
      "text/plain": [
       "'2.5.0'"
      ]
     },
     "execution_count": 2,
     "metadata": {},
     "output_type": "execute_result"
    }
   ],
   "source": [
    "tf.__version__"
   ]
  },
  {
   "cell_type": "code",
   "execution_count": 3,
   "id": "725b3ac2-e617-4b44-94eb-0ccb3f06fecc",
   "metadata": {},
   "outputs": [],
   "source": [
    "np.random.seed(42)\n",
    "tf.random.set_seed(42)"
   ]
  },
  {
   "cell_type": "code",
   "execution_count": 4,
   "id": "1b253ad3-3d45-4c4f-a1a4-2239ef6a8a7e",
   "metadata": {},
   "outputs": [
    {
     "data": {
      "text/plain": [
       "[PhysicalDevice(name='/physical_device:GPU:0', device_type='GPU')]"
      ]
     },
     "execution_count": 4,
     "metadata": {},
     "output_type": "execute_result"
    }
   ],
   "source": [
    "tf.config.list_physical_devices('GPU')"
   ]
  },
  {
   "cell_type": "code",
   "execution_count": 5,
   "id": "bb3ca7b5-3595-4fd2-9ff6-500ea8ff6231",
   "metadata": {
    "collapsed": true,
    "jupyter": {
     "outputs_hidden": true
    },
    "tags": []
   },
   "outputs": [
    {
     "ename": "NameError",
     "evalue": "name 'tfds' is not defined",
     "output_type": "error",
     "traceback": [
      "\u001b[1;31m---------------------------------------------------------------------------\u001b[0m",
      "\u001b[1;31mNameError\u001b[0m                                 Traceback (most recent call last)",
      "\u001b[1;32m<ipython-input-5-c62b5eb89079>\u001b[0m in \u001b[0;36m<module>\u001b[1;34m\u001b[0m\n\u001b[0;32m      1\u001b[0m \u001b[1;31m# data stored in C:\\Users\\user\\tensorflow_datasets\u001b[0m\u001b[1;33m\u001b[0m\u001b[1;33m\u001b[0m\u001b[1;33m\u001b[0m\u001b[0m\n\u001b[1;32m----> 2\u001b[1;33m (ds_train, ds_test), ds_info = tfds.load(\n\u001b[0m\u001b[0;32m      3\u001b[0m     \u001b[1;34m'mnist'\u001b[0m\u001b[1;33m,\u001b[0m\u001b[1;33m\u001b[0m\u001b[1;33m\u001b[0m\u001b[0m\n\u001b[0;32m      4\u001b[0m     \u001b[0msplit\u001b[0m\u001b[1;33m=\u001b[0m\u001b[1;33m[\u001b[0m\u001b[1;34m'train'\u001b[0m\u001b[1;33m,\u001b[0m \u001b[1;34m'test'\u001b[0m\u001b[1;33m]\u001b[0m\u001b[1;33m,\u001b[0m\u001b[1;33m\u001b[0m\u001b[1;33m\u001b[0m\u001b[0m\n\u001b[0;32m      5\u001b[0m     \u001b[0mshuffle_files\u001b[0m\u001b[1;33m=\u001b[0m\u001b[1;32mFalse\u001b[0m\u001b[1;33m,\u001b[0m\u001b[1;33m\u001b[0m\u001b[1;33m\u001b[0m\u001b[0m\n",
      "\u001b[1;31mNameError\u001b[0m: name 'tfds' is not defined"
     ]
    }
   ],
   "source": [
    "# data stored in C:\\Users\\user\\tensorflow_datasets\n",
    "(ds_train, ds_test), ds_info = tfds.load(\n",
    "    'mnist',\n",
    "    split=['train', 'test'],\n",
    "    shuffle_files=False,\n",
    "    as_supervised=True,\n",
    "    with_info=True,\n",
    ")"
   ]
  },
  {
   "cell_type": "code",
   "execution_count": 5,
   "id": "05afef26-c7dc-44d2-b4a8-74a6a240ecf5",
   "metadata": {},
   "outputs": [
    {
     "name": "stdout",
     "output_type": "stream",
     "text": [
      "tfds.core.DatasetInfo(\n",
      "    name='mnist',\n",
      "    full_name='mnist/3.0.1',\n",
      "    description=\"\"\"\n",
      "    The MNIST database of handwritten digits.\n",
      "    \"\"\",\n",
      "    homepage='http://yann.lecun.com/exdb/mnist/',\n",
      "    data_path='C:\\\\Users\\\\user\\\\tensorflow_datasets\\\\mnist\\\\3.0.1',\n",
      "    download_size=11.06 MiB,\n",
      "    dataset_size=21.00 MiB,\n",
      "    features=FeaturesDict({\n",
      "        'image': Image(shape=(28, 28, 1), dtype=tf.uint8),\n",
      "        'label': ClassLabel(shape=(), dtype=tf.int64, num_classes=10),\n",
      "    }),\n",
      "    supervised_keys=('image', 'label'),\n",
      "    disable_shuffling=False,\n",
      "    splits={\n",
      "        'test': <SplitInfo num_examples=10000, num_shards=1>,\n",
      "        'train': <SplitInfo num_examples=60000, num_shards=1>,\n",
      "    },\n",
      "    citation=\"\"\"@article{lecun2010mnist,\n",
      "      title={MNIST handwritten digit database},\n",
      "      author={LeCun, Yann and Cortes, Corinna and Burges, CJ},\n",
      "      journal={ATT Labs [Online]. Available: http://yann.lecun.com/exdb/mnist},\n",
      "      volume={2},\n",
      "      year={2010}\n",
      "    }\"\"\",\n",
      ")\n"
     ]
    }
   ],
   "source": [
    "print(ds_info)"
   ]
  },
  {
   "cell_type": "code",
   "execution_count": 6,
   "id": "4de1d752-7063-43fe-bd3e-9d450d0226f7",
   "metadata": {},
   "outputs": [
    {
     "data": {
      "text/plain": [
       "(60000, 10000)"
      ]
     },
     "execution_count": 6,
     "metadata": {},
     "output_type": "execute_result"
    }
   ],
   "source": [
    "len(ds_train), len(ds_test)"
   ]
  },
  {
   "cell_type": "code",
   "execution_count": 7,
   "id": "31aa75d2-a87a-4f65-8604-f983aed75fc4",
   "metadata": {},
   "outputs": [
    {
     "data": {
      "text/plain": [
       "(10000, 1500)"
      ]
     },
     "execution_count": 7,
     "metadata": {},
     "output_type": "execute_result"
    }
   ],
   "source": [
    "ds_train = list(ds_train.take(10000).as_numpy_iterator())\n",
    "ds_test = list(ds_test.take(1500).as_numpy_iterator())\n",
    "len(ds_train), len(ds_test)"
   ]
  },
  {
   "cell_type": "code",
   "execution_count": 8,
   "id": "3aee6f45-07e8-4555-944e-50e4993dfcd8",
   "metadata": {},
   "outputs": [],
   "source": [
    "X_train, y_train = zip(*ds_train)\n",
    "X_test, y_test = zip(*ds_test)"
   ]
  },
  {
   "cell_type": "code",
   "execution_count": 9,
   "id": "1e05d0a5-a6b1-42ff-97e9-66eab86991ca",
   "metadata": {},
   "outputs": [],
   "source": [
    "X_train, y_train = np.array(X_train), np.array(y_train)\n",
    "X_test, y_test = np.array(X_test), np.array(y_test)"
   ]
  },
  {
   "cell_type": "code",
   "execution_count": 10,
   "id": "e2c3a786-996c-486b-b5f8-d432dbe41cdf",
   "metadata": {},
   "outputs": [
    {
     "data": {
      "text/plain": [
       "((10000, 28, 28, 1), (10000,))"
      ]
     },
     "execution_count": 10,
     "metadata": {},
     "output_type": "execute_result"
    }
   ],
   "source": [
    "X_train.shape, y_train.shape"
   ]
  },
  {
   "cell_type": "code",
   "execution_count": 11,
   "id": "853fa117-367b-4015-affb-94346f3f46d7",
   "metadata": {},
   "outputs": [
    {
     "name": "stdout",
     "output_type": "stream",
     "text": [
      "4\n"
     ]
    },
    {
     "data": {
      "image/png": "[encoded data removed]",
      "text/plain": [
       "<Figure size 640x480 with 1 Axes>"
      ]
     },
     "metadata": {},
     "output_type": "display_data"
    }
   ],
   "source": [
    "print(y_train[0])\n",
    "plt.imshow(X_train[0], cmap='gray_r')\n",
    "plt.show()"
   ]
  },
  {
   "cell_type": "code",
   "execution_count": 12,
   "id": "225d5f44-739c-495f-a04f-44098beed0cd",
   "metadata": {},
   "outputs": [
    {
     "data": {
      "text/plain": [
       "(array([0, 1, 2, 3, 4, 5, 6, 7, 8, 9], dtype=int64),\n",
       " array([1019, 1095,  996, 1002,  971,  896,  994, 1079,  964,  984],\n",
       "       dtype=int64))"
      ]
     },
     "execution_count": 12,
     "metadata": {},
     "output_type": "execute_result"
    }
   ],
   "source": [
    "np.unique(y_train, return_counts=True)"
   ]
  },
  {
   "cell_type": "code",
   "execution_count": 13,
   "id": "64e71a5d-3d7e-481a-bf40-26b33b264bb0",
   "metadata": {},
   "outputs": [
    {
     "data": {
      "text/plain": [
       "(array([0, 1, 2, 3, 4, 5, 6, 7, 8, 9], dtype=int64),\n",
       " array([158, 167, 169, 148, 130, 131, 150, 166, 148, 133], dtype=int64))"
      ]
     },
     "execution_count": 13,
     "metadata": {},
     "output_type": "execute_result"
    }
   ],
   "source": [
    "np.unique(y_test, return_counts=True)"
   ]
  },
  {
   "cell_type": "code",
   "execution_count": 14,
   "id": "36fe5b40-f455-41ac-b758-2a4c0cf8b610",
   "metadata": {},
   "outputs": [],
   "source": [
    "del X_train, y_train, X_test, y_test"
   ]
  },
  {
   "cell_type": "code",
   "execution_count": 15,
   "id": "76cced38-fa6a-4982-9dd7-3af54d56ad9d",
   "metadata": {},
   "outputs": [
    {
     "data": {
      "text/plain": [
       "4092"
      ]
     },
     "execution_count": 15,
     "metadata": {},
     "output_type": "execute_result"
    }
   ],
   "source": [
    "import gc\n",
    "gc.collect()"
   ]
  },
  {
   "cell_type": "code",
   "execution_count": 16,
   "id": "4f326e96-8d47-4535-ad25-bbced878a174",
   "metadata": {},
   "outputs": [
    {
     "name": "stdout",
     "output_type": "stream",
     "text": [
      "cv2\t ds_info\t ds_test\t ds_train\t gc\t load_digits\t np\t plt\t tf\t \n",
      "tfds\t \n"
     ]
    }
   ],
   "source": [
    "%who"
   ]
  },
  {
   "cell_type": "markdown",
   "id": "47af5604-036b-4cdc-81aa-8f78c239c850",
   "metadata": {},
   "source": [
    "# Training"
   ]
  },
  {
   "cell_type": "code",
   "execution_count": 17,
   "id": "38da79f2-b5ae-424c-a6d1-61a6be3d5bff",
   "metadata": {},
   "outputs": [],
   "source": [
    "(ds_train, ds_test), ds_info = tfds.load(\n",
    "    'mnist',\n",
    "    split=['train', 'test'],\n",
    "    shuffle_files=False,\n",
    "    as_supervised=True,\n",
    "    with_info=True,\n",
    ")"
   ]
  },
  {
   "cell_type": "code",
   "execution_count": 18,
   "id": "0b9706a2-b300-4294-9f9d-a890efd6b949",
   "metadata": {},
   "outputs": [],
   "source": [
    "ds_train = ds_train.take(10000)\n",
    "ds_test = ds_test.take(1500)"
   ]
  },
  {
   "cell_type": "code",
   "execution_count": 19,
   "id": "f13b4b81-af0f-49bc-b6b4-b1002ee6d60a",
   "metadata": {},
   "outputs": [
    {
     "data": {
      "text/plain": [
       "(10000, 1500)"
      ]
     },
     "execution_count": 19,
     "metadata": {},
     "output_type": "execute_result"
    }
   ],
   "source": [
    "len(ds_train), len(ds_test)"
   ]
  },
  {
   "cell_type": "code",
   "execution_count": 20,
   "id": "886e56e3-d819-4675-bb39-b1b5fa1ded91",
   "metadata": {},
   "outputs": [
    {
     "name": "stdout",
     "output_type": "stream",
     "text": [
      "(28, 28, 1)\n",
      "tf.Tensor(4, shape=(), dtype=int64)\n"
     ]
    }
   ],
   "source": [
    "for x, y in ds_train.take(1):\n",
    "    print(x.shape)\n",
    "    print(y)"
   ]
  },
  {
   "cell_type": "code",
   "execution_count": 21,
   "id": "f4f4901f-7cc1-45df-b0ff-a50adb796db1",
   "metadata": {},
   "outputs": [],
   "source": [
    "AUTOTUNE = tf.data.AUTOTUNE\n",
    "EPOCHS = 10\n",
    "BATCH_SIZE = 200"
   ]
  },
  {
   "cell_type": "code",
   "execution_count": 22,
   "id": "e7798a08-5bc9-4ff7-acdf-4597ad6e745f",
   "metadata": {},
   "outputs": [],
   "source": [
    "def one_hot_label(image, label):\n",
    "    \"\"\"One-hot encode the labels.\"\"\"\n",
    "    label = tf.one_hot(label, 10)\n",
    "    return image, label\n",
    "\n",
    "def normalize_img(image, label):\n",
    "    \"\"\"Normalizes images: `uint8` -> `float32`.\"\"\"\n",
    "    return tf.cast(image, tf.float32) / 255., label"
   ]
  },
  {
   "cell_type": "code",
   "execution_count": 23,
   "id": "c857fcf1-a983-41e5-b295-ff72d8760d58",
   "metadata": {},
   "outputs": [],
   "source": [
    "ds_train = (ds_train\n",
    "            .map(normalize_img,\n",
    "                 num_parallel_calls=AUTOTUNE)\n",
    "            .map(one_hot_label,\n",
    "                 num_parallel_calls=AUTOTUNE)\n",
    "            .cache()\n",
    "            .shuffle(len(ds_train))\n",
    "            .batch(BATCH_SIZE)\n",
    "            .prefetch(AUTOTUNE)\n",
    ")"
   ]
  },
  {
   "cell_type": "code",
   "execution_count": 24,
   "id": "2a87ab65-8cb2-454b-b457-584b46cc3323",
   "metadata": {},
   "outputs": [],
   "source": [
    "ds_test = (ds_test\n",
    "            .map(normalize_img,\n",
    "                 num_parallel_calls=AUTOTUNE)\n",
    "            .map(one_hot_label,\n",
    "                 num_parallel_calls=AUTOTUNE)\n",
    "            .cache()\n",
    "            .batch(BATCH_SIZE)\n",
    "            .prefetch(AUTOTUNE)\n",
    ")"
   ]
  },
  {
   "cell_type": "code",
   "execution_count": 25,
   "id": "39967faa-4050-4ef1-8d53-08ef88f04727",
   "metadata": {},
   "outputs": [
    {
     "name": "stdout",
     "output_type": "stream",
     "text": [
      "(200, 28, 28, 1)\n",
      "tf.Tensor(\n",
      "[[0. 1. 0. ... 0. 0. 0.]\n",
      " [0. 0. 0. ... 0. 0. 0.]\n",
      " [0. 0. 0. ... 1. 0. 0.]\n",
      " ...\n",
      " [0. 0. 0. ... 0. 0. 1.]\n",
      " [0. 0. 0. ... 0. 0. 0.]\n",
      " [0. 0. 0. ... 0. 0. 0.]], shape=(200, 10), dtype=float32)\n"
     ]
    }
   ],
   "source": [
    "for x, y in ds_train.take(1):\n",
    "    print(x.shape)\n",
    "    print(y)"
   ]
  },
  {
   "cell_type": "code",
   "execution_count": 26,
   "id": "8e39ce50-98f2-443d-8053-32f12f663161",
   "metadata": {},
   "outputs": [
    {
     "name": "stdout",
     "output_type": "stream",
     "text": [
      "Model: \"sequential\"\n",
      "_________________________________________________________________\n",
      "Layer (type)                 Output Shape              Param #   \n",
      "=================================================================\n",
      "conv2d (Conv2D)              (None, 26, 26, 32)        320       \n",
      "_________________________________________________________________\n",
      "max_pooling2d (MaxPooling2D) (None, 13, 13, 32)        0         \n",
      "_________________________________________________________________\n",
      "flatten (Flatten)            (None, 5408)              0         \n",
      "_________________________________________________________________\n",
      "dense (Dense)                (None, 100)               540900    \n",
      "_________________________________________________________________\n",
      "dense_1 (Dense)              (None, 10)                1010      \n",
      "=================================================================\n",
      "Total params: 542,230\n",
      "Trainable params: 542,230\n",
      "Non-trainable params: 0\n",
      "_________________________________________________________________\n"
     ]
    }
   ],
   "source": [
    "tf.keras.backend.clear_session()\n",
    "model = tf.keras.models.Sequential([\n",
    "    tf.keras.layers.InputLayer(input_shape=(28, 28, 1)),\n",
    "    tf.keras.layers.Conv2D(32, 3, strides=1, padding='valid',\n",
    "                           dilation_rate=(1, 1), activation='relu'),\n",
    "    tf.keras.layers.MaxPooling2D(pool_size=2),\n",
    "    tf.keras.layers.Flatten(),\n",
    "    \n",
    "    tf.keras.layers.Dense(100, activation='relu'),\n",
    "    tf.keras.layers.Dense(10, activation='softmax')\n",
    "])\n",
    "model.summary()"
   ]
  },
  {
   "cell_type": "code",
   "execution_count": 27,
   "id": "f85c3d52-f507-4327-a197-cae94c40d1b2",
   "metadata": {},
   "outputs": [
    {
     "name": "stdout",
     "output_type": "stream",
     "text": [
      "Epoch 1/10\n",
      "50/50 [==============================] - 2s 6ms/step - loss: 0.6704 - accuracy: 0.8080\n",
      "Epoch 2/10\n",
      "50/50 [==============================] - 0s 6ms/step - loss: 0.2777 - accuracy: 0.9169\n",
      "Epoch 3/10\n",
      "50/50 [==============================] - 0s 5ms/step - loss: 0.2086 - accuracy: 0.9383\n",
      "Epoch 4/10\n",
      "50/50 [==============================] - 0s 6ms/step - loss: 0.1592 - accuracy: 0.9547\n",
      "Epoch 5/10\n",
      "50/50 [==============================] - 0s 6ms/step - loss: 0.1295 - accuracy: 0.9652\n",
      "Epoch 6/10\n",
      "50/50 [==============================] - 0s 5ms/step - loss: 0.0998 - accuracy: 0.9726\n",
      "Epoch 7/10\n",
      "50/50 [==============================] - 0s 6ms/step - loss: 0.0852 - accuracy: 0.9777\n",
      "Epoch 8/10\n",
      "50/50 [==============================] - 0s 5ms/step - loss: 0.0675 - accuracy: 0.9833\n",
      "Epoch 9/10\n",
      "50/50 [==============================] - 0s 6ms/step - loss: 0.0580 - accuracy: 0.9853\n",
      "Epoch 10/10\n",
      "50/50 [==============================] - 0s 6ms/step - loss: 0.0447 - accuracy: 0.9901\n"
     ]
    }
   ],
   "source": [
    "model.compile(\n",
    "    ## the book uses Adadelta, but default Adadelta trains too slow\n",
    "    # optimizer=tf.keras.optimizers.Adadelta(),\n",
    "    optimizer=tf.keras.optimizers.Adam(),\n",
    "    loss=tf.keras.losses.CategoricalCrossentropy(),\n",
    "    # metrics=[tf.keras.metrics.SparseCategoricalAccuracy()],\n",
    "    metrics=[\"accuracy\"],\n",
    ")\n",
    "\n",
    "history = model.fit(\n",
    "    ds_train,\n",
    "    epochs=10,\n",
    ")"
   ]
  },
  {
   "cell_type": "code",
   "execution_count": 28,
   "id": "1c09d364-0a90-481b-b322-a9e0992125ad",
   "metadata": {},
   "outputs": [
    {
     "name": "stdout",
     "output_type": "stream",
     "text": [
      "8/8 [==============================] - 0s 26ms/step - loss: 0.0990 - accuracy: 0.9713\n"
     ]
    },
    {
     "data": {
      "text/plain": [
       "0.9713333249092102"
      ]
     },
     "execution_count": 28,
     "metadata": {},
     "output_type": "execute_result"
    }
   ],
   "source": [
    "(loss, accuracy) = model.evaluate(ds_test)\n",
    "accuracy"
   ]
  },
  {
   "cell_type": "markdown",
   "id": "7629faf8-219e-42f7-91b1-27713501e66b",
   "metadata": {
    "tags": []
   },
   "source": [
    "# Results Record"
   ]
  },
  {
   "cell_type": "markdown",
   "id": "8b3e5d11-1ba6-4867-a66a-418fc385c3ec",
   "metadata": {
    "tags": []
   },
   "source": [
    "-> Not normalized\n",
    "\n",
    "Epoch 10/10\n",
    "\n",
    "79/79 [==============================] - 0s 3ms/step - loss: 0.2059 - sparse_categorical_accuracy: 0.9826 - val_loss: 2.3619 - val_sparse_categorical_accuracy: 0.9293\n",
    "\n",
    "Epoch 10/10\n",
    "\n",
    "79/79 [==============================] - 0s 3ms/step - loss: 0.2166 - sparse_categorical_accuracy: 0.9830 - val_loss: 2.2622 - val_sparse_categorical_accuracy: 0.9327"
   ]
  },
  {
   "cell_type": "markdown",
   "id": "c8100e51-d3d2-49e8-bdcf-a256bbcbb69e",
   "metadata": {},
   "source": [
    "-> Normalized\n",
    "\n",
    "Epoch 10/10\n",
    "79/79 [==============================] - 0s 3ms/step - loss: 0.0973 - sparse_categorical_accuracy: 0.9748 - val_loss: 0.1801 - val_sparse_categorical_accuracy: 0.9473"
   ]
  },
  {
   "cell_type": "code",
   "execution_count": 31,
   "id": "1ed7e428-fe48-44ae-9387-0ab6638fceb0",
   "metadata": {},
   "outputs": [
    {
     "data": {
      "image/png": "[encoded data removed]",
      "text/plain": [
       "<Figure size 640x480 with 1 Axes>"
      ]
     },
     "metadata": {},
     "output_type": "display_data"
    }
   ],
   "source": [
    "N = EPOCHS\n",
    "plt.style.use(\"ggplot\")\n",
    "plt.xticks(np.arange(1, N + 1))\n",
    "plt.plot(np.arange(1, N + 1), history.history[\"loss\"], label=\"train_loss\")\n",
    "plt.plot(np.arange(1, N + 1), history.history[\"accuracy\"], label=\"train_acc\")\n",
    "plt.title(\"Training Loss and Accuracy on Dataset\")\n",
    "plt.xlabel(\"Epoch #\")\n",
    "plt.ylabel(\"Loss/Accuracy\")\n",
    "plt.legend(loc=\"upper right\")\n",
    "plt.show()"
   ]
  },
  {
   "cell_type": "markdown",
   "id": "85a2661a-160a-4db1-a018-30d8bd821e23",
   "metadata": {},
   "source": [
    "# Using downloaded MNIST images obtained from KNIME"
   ]
  },
  {
   "cell_type": "code",
   "execution_count": 8,
   "id": "e32db9fb-ae60-42c5-8fa9-c000e248df0e",
   "metadata": {},
   "outputs": [
    {
     "name": "stdout",
     "output_type": "stream",
     "text": [
      "True\n",
      "True\n"
     ]
    }
   ],
   "source": [
    "import os\n",
    "\n",
    "BASE_DIR = r\"T:\\New Download Folder\\SHRDC Data\\KNIME Example Data\"\n",
    "TRAIN_DIR = os.path.join(BASE_DIR, \"train\")\n",
    "TEST_DIR = os.path.join(BASE_DIR, \"test\")\n",
    "print(os.path.exists(TEST_DIR))\n",
    "\n",
    "TRAIN_GT_PATH = os.path.join(TRAIN_DIR, \"gt.txt\")\n",
    "TEST_GT_PATH = os.path.join(TEST_DIR, \"gt.txt\")\n",
    "print(os.path.exists(TRAIN_GT_PATH))"
   ]
  },
  {
   "cell_type": "code",
   "execution_count": 9,
   "id": "9c55b639-e22b-43b6-b097-4f5b7ea2101a",
   "metadata": {},
   "outputs": [],
   "source": [
    "with open(TRAIN_GT_PATH, mode='r') as f:\n",
    "    y_train = f.read().strip().split(\"\\n\")\n",
    "\n",
    "with open(TEST_GT_PATH, mode='r') as f:\n",
    "    y_test = f.read().strip().split(\"\\n\")"
   ]
  },
  {
   "cell_type": "code",
   "execution_count": 10,
   "id": "8804ddab-02ff-4666-a43c-b5e06e924685",
   "metadata": {},
   "outputs": [],
   "source": [
    "import numpy as np\n",
    "\n",
    "y_train, y_test = np.array(y_train, dtype=np.int32), np.array(y_test, dtype=np.int32)"
   ]
  },
  {
   "cell_type": "code",
   "execution_count": 11,
   "id": "833d30e9-c95f-4719-8acf-38eef599b84e",
   "metadata": {},
   "outputs": [
    {
     "data": {
      "text/plain": [
       "((10000,), (1500,))"
      ]
     },
     "execution_count": 11,
     "metadata": {},
     "output_type": "execute_result"
    }
   ],
   "source": [
    "y_train.shape, y_test.shape"
   ]
  },
  {
   "cell_type": "code",
   "execution_count": 12,
   "id": "fc7c8ab2-bb89-48d6-949e-9c5e6225bb6b",
   "metadata": {},
   "outputs": [
    {
     "data": {
      "text/plain": [
       "(array([0, 1, 2, 3, 4, 5, 6, 7, 8, 9]),\n",
       " array([1001, 1127,  991, 1032,  980,  863, 1014, 1070,  944,  978],\n",
       "       dtype=int64))"
      ]
     },
     "execution_count": 12,
     "metadata": {},
     "output_type": "execute_result"
    }
   ],
   "source": [
    "np.unique(y_train, return_counts=True)"
   ]
  },
  {
   "cell_type": "code",
   "execution_count": 13,
   "id": "2519360f-aed6-4157-a184-da95e572fbb1",
   "metadata": {},
   "outputs": [],
   "source": [
    "def get_img_cnt(img_path):\n",
    "    img_cnt = img_path.split(\"Row\")[-1].split(\".\")[0]\n",
    "    return int(img_cnt)"
   ]
  },
  {
   "cell_type": "code",
   "execution_count": 14,
   "id": "90ffe604-1720-4606-8b90-17338afadeca",
   "metadata": {},
   "outputs": [
    {
     "data": {
      "text/plain": [
       "9997"
      ]
     },
     "execution_count": 14,
     "metadata": {},
     "output_type": "execute_result"
    }
   ],
   "source": [
    "get_img_cnt('T:\\\\New Download Folder\\\\SHRDC Data\\\\KNIME Example Data\\\\train\\\\images\\\\Row9997.png')"
   ]
  },
  {
   "cell_type": "code",
   "execution_count": 15,
   "id": "c2b0112b-e362-4c6c-a617-970c3fb470f9",
   "metadata": {},
   "outputs": [],
   "source": [
    "from imutils.paths import list_images\n",
    "\n",
    "X_train = np.array(sorted(list(list_images(TRAIN_DIR)), key=get_img_cnt))\n",
    "X_test = np.array(sorted(list(list_images(TEST_DIR)), key=get_img_cnt))"
   ]
  },
  {
   "cell_type": "code",
   "execution_count": 16,
   "id": "4872b0c5-fc27-435e-9a76-786a23570f3d",
   "metadata": {},
   "outputs": [
    {
     "data": {
      "text/plain": [
       "((10000,), (1500,))"
      ]
     },
     "execution_count": 16,
     "metadata": {},
     "output_type": "execute_result"
    }
   ],
   "source": [
    "X_train.shape, X_test.shape"
   ]
  },
  {
   "cell_type": "code",
   "execution_count": 17,
   "id": "c99a1015-220d-42a6-813b-00dfab8b7c27",
   "metadata": {},
   "outputs": [
    {
     "data": {
      "image/png": "[encoded data removed]",
      "text/plain": [
       "<Figure size 600x600 with 9 Axes>"
      ]
     },
     "metadata": {},
     "output_type": "display_data"
    }
   ],
   "source": [
    "plt.figure(figsize=(6, 6))\n",
    "for i, (x, y) in enumerate(zip(X_train, y_train)):\n",
    "    ax = plt.subplot(3, 3, i+1)\n",
    "    img = plt.imread(x)\n",
    "    plt.imshow(img, cmap='gray')\n",
    "    plt.title(y)\n",
    "    plt.axis(False)\n",
    "    if i + 1 == 9:\n",
    "        break\n",
    "plt.tight_layout()\n",
    "plt.show()"
   ]
  },
  {
   "cell_type": "markdown",
   "id": "e21a9961-cb27-4351-9c7d-b24ee089087f",
   "metadata": {},
   "source": [
    "# Preparing tf.data Dataset"
   ]
  },
  {
   "cell_type": "code",
   "execution_count": 18,
   "id": "628adeb6-8e54-42ed-8248-f0bfbd28877d",
   "metadata": {},
   "outputs": [],
   "source": [
    "EPOCHS = 10\n",
    "BATCH_SIZE = 200"
   ]
  },
  {
   "cell_type": "code",
   "execution_count": 19,
   "id": "70f6f99e-013f-4a20-bb0e-2f1021e065a9",
   "metadata": {},
   "outputs": [],
   "source": [
    "import tensorflow as tf\n",
    "\n",
    "ds_train = tf.data.Dataset.from_tensor_slices((X_train, y_train))\n",
    "ds_test = tf.data.Dataset.from_tensor_slices((X_test, y_test))"
   ]
  },
  {
   "cell_type": "code",
   "execution_count": 20,
   "id": "e54d7ce8-6bd1-439c-90c1-859a4ca4a824",
   "metadata": {},
   "outputs": [],
   "source": [
    "def preprocess_data(image_path, label):\n",
    "    image = tf.io.read_file(image_path)\n",
    "    image = tf.image.decode_image(image, channels=1)\n",
    "    image = tf.cast(image, tf.float32) / 255.\n",
    "    label = tf.one_hot(label, 10)\n",
    "    return image, label"
   ]
  },
  {
   "cell_type": "code",
   "execution_count": 21,
   "id": "bccc50d8-23c8-40fc-8519-cae5f1eaa09b",
   "metadata": {},
   "outputs": [],
   "source": [
    "AUTOTUNE = tf.data.AUTOTUNE\n",
    "\n",
    "ds_train = ds_train.map(preprocess_data, num_parallel_calls=AUTOTUNE)\n",
    "ds_test = ds_test.map(preprocess_data, num_parallel_calls=AUTOTUNE)"
   ]
  },
  {
   "cell_type": "code",
   "execution_count": 22,
   "id": "e07211a7-bbc9-46bc-9556-6440af76f63d",
   "metadata": {
    "tags": []
   },
   "outputs": [
    {
     "name": "stdout",
     "output_type": "stream",
     "text": [
      "(28, 28, 1)\n",
      "(10,)\n"
     ]
    },
    {
     "data": {
      "image/png": "[encoded data removed]",
      "text/plain": [
       "<Figure size 600x600 with 9 Axes>"
      ]
     },
     "metadata": {},
     "output_type": "display_data"
    }
   ],
   "source": [
    "## Showing a batch of images with labels\n",
    "\n",
    "plt.figure(figsize=(6, 6))\n",
    "i = 0\n",
    "for img, label in ds_train.take(9):\n",
    "    # with 3 rows and 3 columns\n",
    "    ax = plt.subplot(3, 3, i+1)\n",
    "    # show in grayscale\n",
    "    plt.imshow(img, cmap='gray')\n",
    "    # add the label name on top\n",
    "    plt.title(np.argmax(label))\n",
    "    plt.axis('off')\n",
    "    i += 1\n",
    "print(img.shape)\n",
    "print(label.shape)\n",
    "plt.show()"
   ]
  },
  {
   "cell_type": "code",
   "execution_count": 23,
   "id": "0e0099c5-3f7f-4b3d-a299-112a04ef3cea",
   "metadata": {},
   "outputs": [],
   "source": [
    "ds_train = (ds_train\n",
    "            .cache()\n",
    "            .shuffle(len(ds_train), seed=42)\n",
    "            .batch(BATCH_SIZE)\n",
    "            .prefetch(AUTOTUNE)\n",
    ")\n",
    "\n",
    "ds_test = (ds_test\n",
    "            .cache()\n",
    "            .batch(BATCH_SIZE)\n",
    "            .prefetch(AUTOTUNE)\n",
    ")"
   ]
  },
  {
   "cell_type": "code",
   "execution_count": 21,
   "id": "51cc0177-77c4-44b5-b1b2-0f8f07cc8d8f",
   "metadata": {
    "tags": []
   },
   "outputs": [
    {
     "name": "stdout",
     "output_type": "stream",
     "text": [
      "(200, 28, 28, 1)\n",
      "(200, 10)\n"
     ]
    },
    {
     "data": {
      "image/png": "[encoded data removed]",
      "text/plain": [
       "<Figure size 600x600 with 9 Axes>"
      ]
     },
     "metadata": {},
     "output_type": "display_data"
    }
   ],
   "source": [
    "## Showing a batch of images with labels\n",
    "\n",
    "plt.figure(figsize=(6, 6))\n",
    "i = 0\n",
    "for img, label in ds_train.take(1):\n",
    "    while i < 9:\n",
    "        # with 3 rows and 3 columns\n",
    "        ax = plt.subplot(3, 3, i+1)\n",
    "        # show in grayscale\n",
    "        plt.imshow(img[i], cmap='gray')\n",
    "        # add the label name on top\n",
    "        plt.title(np.argmax(label[i]))\n",
    "        plt.axis('off')\n",
    "        i += 1\n",
    "print(img.shape)\n",
    "print(label.shape)\n",
    "plt.show()"
   ]
  },
  {
   "cell_type": "markdown",
   "id": "4f9a9985-5f79-412a-add1-1d7567ec8af1",
   "metadata": {},
   "source": [
    "# Model"
   ]
  },
  {
   "cell_type": "code",
   "execution_count": 48,
   "id": "8be1a30e-a638-4298-be7e-5582657d9720",
   "metadata": {},
   "outputs": [
    {
     "name": "stdout",
     "output_type": "stream",
     "text": [
      "Model: \"sequential\"\n",
      "_________________________________________________________________\n",
      "Layer (type)                 Output Shape              Param #   \n",
      "=================================================================\n",
      "conv2d (Conv2D)              (None, 26, 26, 32)        320       \n",
      "_________________________________________________________________\n",
      "max_pooling2d (MaxPooling2D) (None, 13, 13, 32)        0         \n",
      "_________________________________________________________________\n",
      "flatten (Flatten)            (None, 5408)              0         \n",
      "_________________________________________________________________\n",
      "dense (Dense)                (None, 100)               540900    \n",
      "_________________________________________________________________\n",
      "dense_1 (Dense)              (None, 10)                1010      \n",
      "=================================================================\n",
      "Total params: 542,230\n",
      "Trainable params: 542,230\n",
      "Non-trainable params: 0\n",
      "_________________________________________________________________\n"
     ]
    }
   ],
   "source": [
    "def create_model():\n",
    "    tf.keras.backend.clear_session()\n",
    "    model = tf.keras.models.Sequential([\n",
    "        tf.keras.layers.InputLayer(input_shape=(28, 28, 1)),\n",
    "        tf.keras.layers.Conv2D(32, 3, strides=1, padding='valid',\n",
    "                               dilation_rate=(1, 1), activation='relu'),\n",
    "        tf.keras.layers.MaxPooling2D(pool_size=2, strides=2, padding='valid'),\n",
    "        tf.keras.layers.Flatten(),\n",
    "\n",
    "        tf.keras.layers.Dense(100, activation='relu'),\n",
    "        tf.keras.layers.Dense(10, activation='softmax')\n",
    "    ])\n",
    "    return model\n",
    "\n",
    "model = create_model()\n",
    "model.summary()"
   ]
  },
  {
   "cell_type": "markdown",
   "id": "7f467683-9d87-4b65-a48b-a53e906e8b2f",
   "metadata": {},
   "source": [
    "# Adadelta"
   ]
  },
  {
   "cell_type": "code",
   "execution_count": 52,
   "id": "fd6c1bb1-5886-4c36-a4e1-02e04997ebb6",
   "metadata": {},
   "outputs": [
    {
     "name": "stdout",
     "output_type": "stream",
     "text": [
      "Epoch 1/10\n",
      "50/50 [==============================] - 1s 6ms/step - loss: 1.0502 - accuracy: 0.7453\n",
      "Epoch 2/10\n",
      "50/50 [==============================] - 0s 6ms/step - loss: 0.3710 - accuracy: 0.8923\n",
      "Epoch 3/10\n",
      "50/50 [==============================] - 0s 6ms/step - loss: 0.2696 - accuracy: 0.9232\n",
      "Epoch 4/10\n",
      "50/50 [==============================] - 0s 6ms/step - loss: 0.2202 - accuracy: 0.9363\n",
      "Epoch 5/10\n",
      "50/50 [==============================] - 0s 6ms/step - loss: 0.1844 - accuracy: 0.9480\n",
      "Epoch 6/10\n",
      "50/50 [==============================] - 0s 6ms/step - loss: 0.1566 - accuracy: 0.9567\n",
      "Epoch 7/10\n",
      "50/50 [==============================] - 0s 6ms/step - loss: 0.1368 - accuracy: 0.9617\n",
      "Epoch 8/10\n",
      "50/50 [==============================] - 0s 6ms/step - loss: 0.1170 - accuracy: 0.9686\n",
      "Epoch 9/10\n",
      "50/50 [==============================] - 0s 6ms/step - loss: 0.1030 - accuracy: 0.9695\n",
      "Epoch 10/10\n",
      "50/50 [==============================] - 0s 5ms/step - loss: 0.0908 - accuracy: 0.9747\n"
     ]
    }
   ],
   "source": [
    "model_adadelta = create_model()\n",
    "\n",
    "model_adadelta.compile(\n",
    "    ## the book uses Adadelta, but default Adadelta trains too slow\n",
    "    optimizer=tf.keras.optimizers.Adadelta(learning_rate=1.0, rho=0.95, epsilon=1.0e-8),\n",
    "    # optimizer=tf.keras.optimizers.Adam(learning_rate=0.001, beta_1=0.9, beta_2=0.999, epsilon=1e-8),\n",
    "    loss=tf.keras.losses.CategoricalCrossentropy(),\n",
    "    metrics=[\"accuracy\"],\n",
    ")\n",
    "\n",
    "history = model_adadelta.fit(\n",
    "    ds_train,\n",
    "    epochs=EPOCHS,\n",
    ")"
   ]
  },
  {
   "cell_type": "code",
   "execution_count": 28,
   "id": "c63a5218-ecca-487d-88ab-62b113e4548c",
   "metadata": {},
   "outputs": [
    {
     "data": {
      "image/png": "[encoded data removed]",
      "text/plain": [
       "<Figure size 640x480 with 1 Axes>"
      ]
     },
     "metadata": {},
     "output_type": "display_data"
    }
   ],
   "source": [
    "N = EPOCHS\n",
    "plt.style.use(\"ggplot\")\n",
    "plt.xticks(np.arange(1, N + 1))\n",
    "# plt.plot(np.arange(1, N + 1), history.history[\"loss\"], label=\"train_loss\")\n",
    "plt.plot(np.arange(1, N + 1), history.history[\"accuracy\"], label=\"train_acc\")\n",
    "plt.title(\"Training Loss and Accuracy on Dataset\")\n",
    "plt.xlabel(\"Epoch #\")\n",
    "plt.ylabel(\"Loss/Accuracy\")\n",
    "plt.legend()\n",
    "plt.show()"
   ]
  },
  {
   "cell_type": "code",
   "execution_count": 26,
   "id": "a146f1e5-f276-43e8-966f-b880714fccc2",
   "metadata": {},
   "outputs": [
    {
     "name": "stdout",
     "output_type": "stream",
     "text": [
      "8/8 [==============================] - 0s 31ms/step - loss: 0.1825 - accuracy: 0.9427\n"
     ]
    },
    {
     "data": {
      "text/plain": [
       "0.9426666498184204"
      ]
     },
     "execution_count": 26,
     "metadata": {},
     "output_type": "execute_result"
    }
   ],
   "source": [
    "(loss, accuracy) = model_adadelta.evaluate(ds_test)\n",
    "accuracy"
   ]
  },
  {
   "cell_type": "markdown",
   "id": "8b1b9f15-2c42-4581-8b1e-4314b5475c75",
   "metadata": {},
   "source": [
    "![Adadelta Train Result.jpeg](results/Adadelta-Train-Result.jpeg)"
   ]
  },
  {
   "cell_type": "code",
   "execution_count": 173,
   "id": "27d6819c-da18-401a-8c42-e8fb59ab9112",
   "metadata": {},
   "outputs": [
    {
     "name": "stdout",
     "output_type": "stream",
     "text": [
      "WARNING:tensorflow:FOR KERAS USERS: The object that you are saving contains one or more Keras models or layers. If you are loading the SavedModel with `tf.keras.models.load_model`, continue reading (otherwise, you may ignore the following instructions). Please change your code to save with `tf.keras.models.save_model` or `model.save`, and confirm that the file \"keras.metadata\" exists in the export directory. In the future, Keras will only load the SavedModels that have this file. In other words, `tf.saved_model.save` will no longer write SavedModels that can be recovered as Keras models (this will apply in TF 2.5).\n",
      "\n",
      "FOR DEVS: If you are overwriting _tracking_metadata in your class, this property has been used to save metadata in the SavedModel. The metadta field will be deprecated soon, so please move the metadata to a different file.\n",
      "INFO:tensorflow:Assets written to: models\\python_adadelta\\assets\n"
     ]
    }
   ],
   "source": [
    "model_save_path = os.path.join(\"models\", \"python_adadelta\")\n",
    "tf.saved_model.save(model_adadelta, model_save_path)"
   ]
  },
  {
   "cell_type": "code",
   "execution_count": 174,
   "id": "2b39b560-8ab1-40d6-96d0-48ebe8a5ad0b",
   "metadata": {},
   "outputs": [
    {
     "name": "stdout",
     "output_type": "stream",
     "text": [
      "INFO:tensorflow:Assets written to: models\\python_adadelta2\\assets\n"
     ]
    }
   ],
   "source": [
    "model_save_path = os.path.join(\"models\", \"python_adadelta2\")\n",
    "tf.keras.models.save_model(model_adadelta, model_save_path)"
   ]
  },
  {
   "cell_type": "code",
   "execution_count": 188,
   "id": "28312e76-d60f-4fa6-9749-c22a208b0707",
   "metadata": {},
   "outputs": [],
   "source": [
    "model_adadelta = tf.keras.models.load_model(os.path.join(\"models\", \"python_adadelta2\"))"
   ]
  },
  {
   "cell_type": "code",
   "execution_count": 189,
   "id": "3b02461a-dc82-45a7-9b61-964343479325",
   "metadata": {},
   "outputs": [
    {
     "name": "stdout",
     "output_type": "stream",
     "text": [
      "Wall time: 53 ms\n"
     ]
    },
    {
     "data": {
      "text/plain": [
       "(1500, 10)"
      ]
     },
     "execution_count": 189,
     "metadata": {},
     "output_type": "execute_result"
    }
   ],
   "source": [
    "%%time\n",
    "preds = model_adadelta.predict(ds_test)\n",
    "preds.shape"
   ]
  },
  {
   "cell_type": "code",
   "execution_count": 190,
   "id": "cb9ade77-87fd-456a-87bd-8e023538f8e0",
   "metadata": {},
   "outputs": [
    {
     "data": {
      "text/plain": [
       "(1500,)"
      ]
     },
     "execution_count": 190,
     "metadata": {},
     "output_type": "execute_result"
    }
   ],
   "source": [
    "preds = np.argmax(preds, axis=-1)\n",
    "preds.shape"
   ]
  },
  {
   "cell_type": "code",
   "execution_count": 191,
   "id": "ee26dfc2-6286-454b-8294-d99bd9e90b8b",
   "metadata": {},
   "outputs": [
    {
     "data": {
      "text/plain": [
       "(1500, 10)"
      ]
     },
     "execution_count": 191,
     "metadata": {},
     "output_type": "execute_result"
    }
   ],
   "source": [
    "y_true = np.concatenate([y for x, y in ds_test], axis=0)\n",
    "y_true.shape"
   ]
  },
  {
   "cell_type": "code",
   "execution_count": 192,
   "id": "4dba900a-9425-4f41-a4aa-4695aac4b5d3",
   "metadata": {},
   "outputs": [
    {
     "data": {
      "text/plain": [
       "(1500,)"
      ]
     },
     "execution_count": 192,
     "metadata": {},
     "output_type": "execute_result"
    }
   ],
   "source": [
    "y_true = np.argmax(y_true, axis=-1)\n",
    "y_true.shape"
   ]
  },
  {
   "cell_type": "code",
   "execution_count": 193,
   "id": "16e6d3de-ba92-403c-80fb-826db525f937",
   "metadata": {},
   "outputs": [],
   "source": [
    "total_correct = np.sum(np.where(preds == y_true, 1, 0))\n",
    "total_incorrect = len(y_true) - total_correct\n",
    "acc = total_correct / len(y_true) * 100\n",
    "error = 100 - acc"
   ]
  },
  {
   "cell_type": "code",
   "execution_count": 194,
   "id": "9aeb2aa8-26f6-4e30-89ad-599c8e4e755e",
   "metadata": {},
   "outputs": [
    {
     "data": {
      "text/plain": [
       "{'Training accuracy': 97.1,\n",
       " 'Validation accuracy': 95.0,\n",
       " 'Correct classified': 1425,\n",
       " 'Wrong classified': 75,\n",
       " 'Error': 5.0}"
      ]
     },
     "execution_count": 194,
     "metadata": {},
     "output_type": "execute_result"
    }
   ],
   "source": [
    "adadelta_py = {\"Training accuracy\": 97.10, \"Validation accuracy\": acc,\n",
    "               \"Correct classified\": total_correct, \"Wrong classified\": total_incorrect, \"Error\": error\n",
    "}\n",
    "adadelta_py"
   ]
  },
  {
   "cell_type": "code",
   "execution_count": 158,
   "id": "9ddeefb3-653a-4883-b3a3-8bf29437551a",
   "metadata": {},
   "outputs": [
    {
     "data": {
      "image/png": "[encoded data removed]",
      "text/plain": [
       "<Figure size 1000x500 with 1 Axes>"
      ]
     },
     "metadata": {},
     "output_type": "display_data"
    },
    {
     "name": "stdout",
     "output_type": "stream",
     "text": [
      "Correct classified: 1,425\t\t\t\t\tWrong classified: 75\n",
      "Accuracy: 95.000 %\t\t\t\t\t\tError: 5.000 %\n"
     ]
    }
   ],
   "source": [
    "from sklearn.metrics import confusion_matrix\n",
    "import seaborn as sns\n",
    "\n",
    "cm = confusion_matrix(preds, y_true)\n",
    "\n",
    "fig = plt.figure(figsize=(10, 5))\n",
    "ax = sns.heatmap(\n",
    "    cm,\n",
    "    # use specific color\n",
    "    cmap=\"Blues\",\n",
    "    # show numbers\n",
    "    annot=True,\n",
    "    # format to integer\n",
    "    fmt=\"d\",\n",
    "    # don't show colorbar\n",
    "    cbar=False,\n",
    "    # format them to look nicer\n",
    "    annot_kws={\"fontsize\": 11, \"fontfamily\": \"monospace\"},\n",
    ")\n",
    "plt.title(\"Python - Confusion Matrix | Adadelta\", size=15, fontfamily=\"serif\")\n",
    "plt.show()\n",
    "\n",
    "print(f\"Correct classified: {total_correct:,}\", end=\"\\t\\t\\t\\t\\t\")\n",
    "print(f\"Wrong classified: {total_incorrect:,}\")\n",
    "print(f\"Accuracy: {acc:.3f} %\", end=\"\\t\\t\\t\\t\\t\\t\")\n",
    "print(f\"Error: {error:.3f} %\")"
   ]
  },
  {
   "cell_type": "markdown",
   "id": "17bd6c3d-4a46-421e-b2a5-db19bfcb006a",
   "metadata": {},
   "source": [
    "![Adadelta Eval Result.jpeg](results/Adadelta-Eval-Result.jpeg)"
   ]
  },
  {
   "cell_type": "markdown",
   "id": "548fbcf0-a064-4b15-9256-0a84f097f2b0",
   "metadata": {},
   "source": [
    "# Adam"
   ]
  },
  {
   "cell_type": "code",
   "execution_count": 54,
   "id": "159984e3-6a91-4c7d-b4a7-c021650b1987",
   "metadata": {},
   "outputs": [
    {
     "name": "stdout",
     "output_type": "stream",
     "text": [
      "Epoch 1/10\n",
      "50/50 [==============================] - 1s 5ms/step - loss: 0.7419 - accuracy: 0.8151\n",
      "Epoch 2/10\n",
      "50/50 [==============================] - 0s 5ms/step - loss: 0.2535 - accuracy: 0.9277\n",
      "Epoch 3/10\n",
      "50/50 [==============================] - 0s 5ms/step - loss: 0.1766 - accuracy: 0.9502\n",
      "Epoch 4/10\n",
      "50/50 [==============================] - 0s 5ms/step - loss: 0.1313 - accuracy: 0.9631\n",
      "Epoch 5/10\n",
      "50/50 [==============================] - 0s 5ms/step - loss: 0.0999 - accuracy: 0.9727\n",
      "Epoch 6/10\n",
      "50/50 [==============================] - 0s 5ms/step - loss: 0.0769 - accuracy: 0.9809\n",
      "Epoch 7/10\n",
      "50/50 [==============================] - 0s 5ms/step - loss: 0.0625 - accuracy: 0.9843\n",
      "Epoch 8/10\n",
      "50/50 [==============================] - 0s 5ms/step - loss: 0.0487 - accuracy: 0.9884\n",
      "Epoch 9/10\n",
      "50/50 [==============================] - 0s 5ms/step - loss: 0.0405 - accuracy: 0.9908\n",
      "Epoch 10/10\n",
      "50/50 [==============================] - 0s 5ms/step - loss: 0.0311 - accuracy: 0.9938\n"
     ]
    }
   ],
   "source": [
    "model_adam = create_model()\n",
    "\n",
    "model_adam.compile(\n",
    "    ## the book uses Adadelta, but default Adadelta trains too slow\n",
    "    # optimizer=tf.keras.optimizers.Adadelta(learning_rate=1.0, rho=0.95, epsilon=1e-8),\n",
    "    optimizer=tf.keras.optimizers.Adam(learning_rate=0.001, beta_1=0.9, beta_2=0.999, epsilon=1e-8),\n",
    "    loss=tf.keras.losses.CategoricalCrossentropy(),\n",
    "    # metrics=[tf.keras.metrics.SparseCategoricalAccuracy()],\n",
    "    metrics=[\"accuracy\"],\n",
    ")\n",
    "\n",
    "history = model_adam.fit(\n",
    "    ds_train,\n",
    "    epochs=EPOCHS,\n",
    ")"
   ]
  },
  {
   "cell_type": "markdown",
   "id": "4a0053db-2e8a-42d6-bd08-10130a108f51",
   "metadata": {},
   "source": [
    "![Adam Train Result.jpeg](results/Adam-Train-Result.jpeg)"
   ]
  },
  {
   "cell_type": "code",
   "execution_count": 229,
   "id": "56a14215-5a3f-40e5-9a8b-8b107dc4d45e",
   "metadata": {},
   "outputs": [
    {
     "name": "stdout",
     "output_type": "stream",
     "text": [
      "8/8 [==============================] - 0s 4ms/step - loss: 0.1064 - accuracy: 0.9633\n"
     ]
    },
    {
     "data": {
      "text/plain": [
       "0.9633333086967468"
      ]
     },
     "execution_count": 229,
     "metadata": {},
     "output_type": "execute_result"
    }
   ],
   "source": [
    "(loss, accuracy) = model_adam.evaluate(ds_test)\n",
    "accuracy"
   ]
  },
  {
   "cell_type": "code",
   "execution_count": 230,
   "id": "da97f20c-172a-4bbc-89db-f5f6f526a396",
   "metadata": {},
   "outputs": [
    {
     "name": "stdout",
     "output_type": "stream",
     "text": [
      "WARNING:tensorflow:FOR KERAS USERS: The object that you are saving contains one or more Keras models or layers. If you are loading the SavedModel with `tf.keras.models.load_model`, continue reading (otherwise, you may ignore the following instructions). Please change your code to save with `tf.keras.models.save_model` or `model.save`, and confirm that the file \"keras.metadata\" exists in the export directory. In the future, Keras will only load the SavedModels that have this file. In other words, `tf.saved_model.save` will no longer write SavedModels that can be recovered as Keras models (this will apply in TF 2.5).\n",
      "\n",
      "FOR DEVS: If you are overwriting _tracking_metadata in your class, this property has been used to save metadata in the SavedModel. The metadta field will be deprecated soon, so please move the metadata to a different file.\n",
      "INFO:tensorflow:Assets written to: models\\python_adam\\assets\n"
     ]
    }
   ],
   "source": [
    "model_save_path = os.path.join(\"models\", \"python_adam\")\n",
    "tf.saved_model.save(model_adam, model_save_path)"
   ]
  },
  {
   "cell_type": "code",
   "execution_count": 231,
   "id": "10f96a4a-8682-4de7-9886-0006da8fbf35",
   "metadata": {},
   "outputs": [
    {
     "name": "stdout",
     "output_type": "stream",
     "text": [
      "INFO:tensorflow:Assets written to: models\\python_adam2\\assets\n"
     ]
    }
   ],
   "source": [
    "model_save_path = os.path.join(\"models\", \"python_adam2\")\n",
    "tf.keras.models.save_model(model_adam, model_save_path)"
   ]
  },
  {
   "cell_type": "code",
   "execution_count": 240,
   "id": "9da8ea15-7fb5-4dce-afd4-ff11e9815caf",
   "metadata": {},
   "outputs": [
    {
     "name": "stdout",
     "output_type": "stream",
     "text": [
      "WARNING:tensorflow:SavedModel saved prior to TF 2.5 detected when loading Keras model. Please ensure that you are saving the model with model.save() or tf.keras.models.save_model(), *NOT* tf.saved_model.save(). To confirm, there should be a file named \"keras_metadata.pb\" in the SavedModel directory.\n"
     ]
    }
   ],
   "source": [
    "model_adam = tf.keras.models.load_model(os.path.join(\"models\", \"python_adam\"))"
   ]
  },
  {
   "cell_type": "code",
   "execution_count": 241,
   "id": "0e73651a-d3ae-4d54-ba56-dd07efd43a8e",
   "metadata": {},
   "outputs": [
    {
     "name": "stdout",
     "output_type": "stream",
     "text": [
      "Wall time: 52 ms\n"
     ]
    },
    {
     "data": {
      "text/plain": [
       "(1500, 10)"
      ]
     },
     "execution_count": 241,
     "metadata": {},
     "output_type": "execute_result"
    }
   ],
   "source": [
    "%%time\n",
    "preds = model_adam.predict(ds_test)\n",
    "preds.shape"
   ]
  },
  {
   "cell_type": "code",
   "execution_count": 242,
   "id": "9b3a776a-1ebf-44f4-b855-591bed48f01f",
   "metadata": {},
   "outputs": [
    {
     "data": {
      "text/plain": [
       "(1500,)"
      ]
     },
     "execution_count": 242,
     "metadata": {},
     "output_type": "execute_result"
    }
   ],
   "source": [
    "preds = np.argmax(preds, axis=-1)\n",
    "preds.shape"
   ]
  },
  {
   "cell_type": "code",
   "execution_count": 243,
   "id": "0fb70137-96e9-447a-a3e4-c4ee289e7f81",
   "metadata": {},
   "outputs": [
    {
     "data": {
      "text/plain": [
       "(1500, 10)"
      ]
     },
     "execution_count": 243,
     "metadata": {},
     "output_type": "execute_result"
    }
   ],
   "source": [
    "y_true = np.concatenate([y for x, y in ds_test], axis=0)\n",
    "y_true.shape"
   ]
  },
  {
   "cell_type": "code",
   "execution_count": 244,
   "id": "8b593d8c-0330-4b64-b235-3a21b8ff9876",
   "metadata": {},
   "outputs": [
    {
     "data": {
      "text/plain": [
       "(1500,)"
      ]
     },
     "execution_count": 244,
     "metadata": {},
     "output_type": "execute_result"
    }
   ],
   "source": [
    "y_true = np.argmax(y_true, axis=-1)\n",
    "y_true.shape"
   ]
  },
  {
   "cell_type": "code",
   "execution_count": 245,
   "id": "455dd4de-d31c-471f-8b52-47fb34be4800",
   "metadata": {},
   "outputs": [],
   "source": [
    "total_correct = np.sum(np.where(preds == y_true, 1, 0))\n",
    "total_incorrect = len(y_true) - total_correct\n",
    "acc = total_correct / len(y_true) * 100\n",
    "error = 100 - acc"
   ]
  },
  {
   "cell_type": "code",
   "execution_count": 246,
   "id": "7e4c02fd-3707-424d-9286-750f91f3a88d",
   "metadata": {},
   "outputs": [
    {
     "data": {
      "text/plain": [
       "{'Training accuracy': 99.41,\n",
       " 'Validation accuracy': 96.33333333333334,\n",
       " 'Correct classified': 1445,\n",
       " 'Wrong classified': 55,\n",
       " 'Error': 3.666666666666657}"
      ]
     },
     "execution_count": 246,
     "metadata": {},
     "output_type": "execute_result"
    }
   ],
   "source": [
    "adam_py = {\"Training accuracy\": 99.41, \"Validation accuracy\": acc,\n",
    "               \"Correct classified\": total_correct, \"Wrong classified\": total_incorrect, \"Error\": error\n",
    "}\n",
    "adam_py"
   ]
  },
  {
   "cell_type": "code",
   "execution_count": 247,
   "id": "f8769b76-c6c6-416c-953e-ad294ef9889f",
   "metadata": {},
   "outputs": [
    {
     "data": {
      "image/png": "[encoded data removed]",
      "text/plain": [
       "<Figure size 1000x500 with 1 Axes>"
      ]
     },
     "metadata": {},
     "output_type": "display_data"
    },
    {
     "name": "stdout",
     "output_type": "stream",
     "text": [
      "Correct classified: 1,445\t\t\t\t\tWrong classified: 55\n",
      "Accuracy: 96.333 %\t\t\t\t\t\tError: 3.667 %\n"
     ]
    }
   ],
   "source": [
    "from sklearn.metrics import confusion_matrix\n",
    "import seaborn as sns\n",
    "\n",
    "cm = confusion_matrix(preds, y_true)\n",
    "\n",
    "fig = plt.figure(figsize=(10, 5))\n",
    "ax = sns.heatmap(\n",
    "    cm,\n",
    "    # use specific color\n",
    "    cmap=\"Blues\",\n",
    "    # show numbers\n",
    "    annot=True,\n",
    "    # format to integer\n",
    "    fmt=\"d\",\n",
    "    # don't show colorbar\n",
    "    cbar=False,\n",
    "    # format them to look nicer\n",
    "    annot_kws={\"fontsize\": 11, \"fontfamily\": \"monospace\"},\n",
    ")\n",
    "plt.title(\"Python - Confusion Matrix | Adam\", size=15, fontfamily=\"serif\")\n",
    "plt.show()\n",
    "\n",
    "print(f\"Correct classified: {total_correct:,}\", end=\"\\t\\t\\t\\t\\t\")\n",
    "print(f\"Wrong classified: {total_incorrect:,}\")\n",
    "print(f\"Accuracy: {acc:.3f} %\", end=\"\\t\\t\\t\\t\\t\\t\")\n",
    "print(f\"Error: {error:.3f} %\")"
   ]
  },
  {
   "cell_type": "markdown",
   "id": "bc39250b-e1a4-48ee-bf0e-249148b29b16",
   "metadata": {},
   "source": [
    "![Adam Eval Result.jpeg](results/Adam-Eval-Result.jpeg)"
   ]
  },
  {
   "cell_type": "markdown",
   "id": "197c6eb7-5103-46d0-a151-6d86315f165f",
   "metadata": {},
   "source": [
    "# Overall comparison"
   ]
  },
  {
   "cell_type": "code",
   "execution_count": 248,
   "id": "7a23fc2a-1c8d-496e-8223-d27169844ce0",
   "metadata": {},
   "outputs": [
    {
     "data": {
      "text/plain": [
       "{'Training accuracy': 97.1,\n",
       " 'Validation accuracy': 95.0,\n",
       " 'Correct classified': 1425,\n",
       " 'Wrong classified': 75,\n",
       " 'Error': 5.0}"
      ]
     },
     "execution_count": 248,
     "metadata": {},
     "output_type": "execute_result"
    }
   ],
   "source": [
    "adadelta_py"
   ]
  },
  {
   "cell_type": "code",
   "execution_count": 249,
   "id": "d454d981-bab8-43ed-864d-8f3f74ccbb05",
   "metadata": {},
   "outputs": [
    {
     "data": {
      "text/plain": [
       "{'Training accuracy': 99.41,\n",
       " 'Validation accuracy': 96.33333333333334,\n",
       " 'Correct classified': 1445,\n",
       " 'Wrong classified': 55,\n",
       " 'Error': 3.666666666666657}"
      ]
     },
     "execution_count": 249,
     "metadata": {},
     "output_type": "execute_result"
    }
   ],
   "source": [
    "adam_py"
   ]
  },
  {
   "cell_type": "code",
   "execution_count": 250,
   "id": "6eeaafbd-9b75-4e15-81a7-22405284e296",
   "metadata": {},
   "outputs": [],
   "source": [
    "adadelta_knime = {\"Training accuracy\": 99.50, \"Validation accuracy\": 93.867,\n",
    "                  \"Correct classified\": 1408, \"Wrong classified\": 92, \"Error\": 6.133\n",
    "}\n",
    "adam_knime = {\"Training accuracy\": 99.50, \"Validation accuracy\": 96.533,\n",
    "               \"Correct classified\": 1448, \"Wrong classified\": 52, \"Error\": 3.467\n",
    "}"
   ]
  },
  {
   "cell_type": "code",
   "execution_count": 251,
   "id": "02de58e4-762e-4704-9fab-b10108f0f9f4",
   "metadata": {},
   "outputs": [
    {
     "data": {
      "text/html": [
       "<div>\n",
       "<style scoped>\n",
       "    .dataframe tbody tr th:only-of-type {\n",
       "        vertical-align: middle;\n",
       "    }\n",
       "\n",
       "    .dataframe tbody tr th {\n",
       "        vertical-align: top;\n",
       "    }\n",
       "\n",
       "    .dataframe thead th {\n",
       "        text-align: right;\n",
       "    }\n",
       "</style>\n",
       "<table border=\"1\" class=\"dataframe\">\n",
       "  <thead>\n",
       "    <tr style=\"text-align: right;\">\n",
       "      <th></th>\n",
       "      <th>Training accuracy</th>\n",
       "      <th>Validation accuracy</th>\n",
       "      <th>Correct classified</th>\n",
       "      <th>Wrong classified</th>\n",
       "      <th>Error</th>\n",
       "    </tr>\n",
       "  </thead>\n",
       "  <tbody>\n",
       "    <tr>\n",
       "      <th>Adadelta Python</th>\n",
       "      <td>97.10</td>\n",
       "      <td>95.000000</td>\n",
       "      <td>1425</td>\n",
       "      <td>75</td>\n",
       "      <td>5.000000</td>\n",
       "    </tr>\n",
       "    <tr>\n",
       "      <th>Adadelta KNIME</th>\n",
       "      <td>99.50</td>\n",
       "      <td>93.867000</td>\n",
       "      <td>1408</td>\n",
       "      <td>92</td>\n",
       "      <td>6.133000</td>\n",
       "    </tr>\n",
       "    <tr>\n",
       "      <th>Adam Python</th>\n",
       "      <td>99.41</td>\n",
       "      <td>96.333333</td>\n",
       "      <td>1445</td>\n",
       "      <td>55</td>\n",
       "      <td>3.666667</td>\n",
       "    </tr>\n",
       "    <tr>\n",
       "      <th>Adam KNIME</th>\n",
       "      <td>99.50</td>\n",
       "      <td>96.533000</td>\n",
       "      <td>1448</td>\n",
       "      <td>52</td>\n",
       "      <td>3.467000</td>\n",
       "    </tr>\n",
       "  </tbody>\n",
       "</table>\n",
       "</div>"
      ],
      "text/plain": [
       "                 Training accuracy  Validation accuracy  Correct classified  \\\n",
       "Adadelta Python              97.10            95.000000                1425   \n",
       "Adadelta KNIME               99.50            93.867000                1408   \n",
       "Adam Python                  99.41            96.333333                1445   \n",
       "Adam KNIME                   99.50            96.533000                1448   \n",
       "\n",
       "                 Wrong classified     Error  \n",
       "Adadelta Python                75  5.000000  \n",
       "Adadelta KNIME                 92  6.133000  \n",
       "Adam Python                    55  3.666667  \n",
       "Adam KNIME                     52  3.467000  "
      ]
     },
     "execution_count": 251,
     "metadata": {},
     "output_type": "execute_result"
    }
   ],
   "source": [
    "import pandas as pd\n",
    "\n",
    "df = pd.DataFrame([adadelta_py, adadelta_knime, adam_py, adam_knime], index=['Adadelta Python', 'Adadelta KNIME', 'Adam Python', 'Adam KNIME'])\n",
    "df"
   ]
  },
  {
   "cell_type": "code",
   "execution_count": 267,
   "id": "ebc4c1aa-2a4a-4b00-8e1f-ab26c7b095a6",
   "metadata": {},
   "outputs": [
    {
     "data": {
      "text/html": [
       "<style  type=\"text/css\" >\n",
       "#T_759ab_row0_col0,#T_759ab_row1_col1,#T_759ab_row1_col2,#T_759ab_row3_col3,#T_759ab_row3_col4{\n",
       "            background-color:  #f7fbff;\n",
       "            color:  #000000;\n",
       "        }#T_759ab_row0_col1,#T_759ab_row0_col2{\n",
       "            background-color:  #8abfdd;\n",
       "            color:  #000000;\n",
       "        }#T_759ab_row0_col3,#T_759ab_row0_col4{\n",
       "            background-color:  #529dcc;\n",
       "            color:  #000000;\n",
       "        }#T_759ab_row1_col0,#T_759ab_row1_col3,#T_759ab_row1_col4,#T_759ab_row3_col0,#T_759ab_row3_col1,#T_759ab_row3_col2{\n",
       "            background-color:  #08306b;\n",
       "            color:  #f1f1f1;\n",
       "        }#T_759ab_row2_col0{\n",
       "            background-color:  #083979;\n",
       "            color:  #f1f1f1;\n",
       "        }#T_759ab_row2_col1,#T_759ab_row2_col2{\n",
       "            background-color:  #084488;\n",
       "            color:  #f1f1f1;\n",
       "        }#T_759ab_row2_col3,#T_759ab_row2_col4{\n",
       "            background-color:  #e8f1fa;\n",
       "            color:  #000000;\n",
       "        }</style><table id=\"T_759ab_\" ><thead>    <tr>        <th class=\"blank level0\" ></th>        <th class=\"col_heading level0 col0\" >Training accuracy</th>        <th class=\"col_heading level0 col1\" >Validation accuracy</th>        <th class=\"col_heading level0 col2\" >Correct classified</th>        <th class=\"col_heading level0 col3\" >Wrong classified</th>        <th class=\"col_heading level0 col4\" >Error</th>    </tr></thead><tbody>\n",
       "                <tr>\n",
       "                        <th id=\"T_759ab_level0_row0\" class=\"row_heading level0 row0\" >Adadelta Python</th>\n",
       "                        <td id=\"T_759ab_row0_col0\" class=\"data row0 col0\" >97.100 %</td>\n",
       "                        <td id=\"T_759ab_row0_col1\" class=\"data row0 col1\" >95.000 %</td>\n",
       "                        <td id=\"T_759ab_row0_col2\" class=\"data row0 col2\" >1,425</td>\n",
       "                        <td id=\"T_759ab_row0_col3\" class=\"data row0 col3\" >75</td>\n",
       "                        <td id=\"T_759ab_row0_col4\" class=\"data row0 col4\" >5.000 %</td>\n",
       "            </tr>\n",
       "            <tr>\n",
       "                        <th id=\"T_759ab_level0_row1\" class=\"row_heading level0 row1\" >Adadelta KNIME</th>\n",
       "                        <td id=\"T_759ab_row1_col0\" class=\"data row1 col0\" >99.500 %</td>\n",
       "                        <td id=\"T_759ab_row1_col1\" class=\"data row1 col1\" >93.867 %</td>\n",
       "                        <td id=\"T_759ab_row1_col2\" class=\"data row1 col2\" >1,408</td>\n",
       "                        <td id=\"T_759ab_row1_col3\" class=\"data row1 col3\" >92</td>\n",
       "                        <td id=\"T_759ab_row1_col4\" class=\"data row1 col4\" >6.133 %</td>\n",
       "            </tr>\n",
       "            <tr>\n",
       "                        <th id=\"T_759ab_level0_row2\" class=\"row_heading level0 row2\" >Adam Python</th>\n",
       "                        <td id=\"T_759ab_row2_col0\" class=\"data row2 col0\" >99.410 %</td>\n",
       "                        <td id=\"T_759ab_row2_col1\" class=\"data row2 col1\" >96.333 %</td>\n",
       "                        <td id=\"T_759ab_row2_col2\" class=\"data row2 col2\" >1,445</td>\n",
       "                        <td id=\"T_759ab_row2_col3\" class=\"data row2 col3\" >55</td>\n",
       "                        <td id=\"T_759ab_row2_col4\" class=\"data row2 col4\" >3.667 %</td>\n",
       "            </tr>\n",
       "            <tr>\n",
       "                        <th id=\"T_759ab_level0_row3\" class=\"row_heading level0 row3\" >Adam KNIME</th>\n",
       "                        <td id=\"T_759ab_row3_col0\" class=\"data row3 col0\" >99.500 %</td>\n",
       "                        <td id=\"T_759ab_row3_col1\" class=\"data row3 col1\" >96.533 %</td>\n",
       "                        <td id=\"T_759ab_row3_col2\" class=\"data row3 col2\" >1,448</td>\n",
       "                        <td id=\"T_759ab_row3_col3\" class=\"data row3 col3\" >52</td>\n",
       "                        <td id=\"T_759ab_row3_col4\" class=\"data row3 col4\" >3.467 %</td>\n",
       "            </tr>\n",
       "    </tbody></table>"
      ],
      "text/plain": [
       "<pandas.io.formats.style.Styler at 0x24326bc8040>"
      ]
     },
     "execution_count": 267,
     "metadata": {},
     "output_type": "execute_result"
    }
   ],
   "source": [
    "style_dict = {\"Training accuracy\": '{:,.3f} %',\n",
    "              \"Validation accuracy\": '{:,.3f} %',\n",
    "              \"Correct classified\": '{:,}',\n",
    "              \"Error\": '{:,.3f} %'\n",
    "             }\n",
    "\n",
    "df.style.background_gradient(cmap='Blues').format(style_dict)"
   ]
  },
  {
   "cell_type": "code",
   "execution_count": 253,
   "id": "c00a7622-d88d-463a-bad1-05539b43e4ab",
   "metadata": {},
   "outputs": [],
   "source": [
    "df.to_csv(\"overall_result.csv\")"
   ]
  },
  {
   "cell_type": "code",
   "execution_count": 258,
   "id": "54272802-4482-4b7c-bacf-0472c12197f8",
   "metadata": {},
   "outputs": [
    {
     "data": {
      "text/html": [
       "<div>\n",
       "<style scoped>\n",
       "    .dataframe tbody tr th:only-of-type {\n",
       "        vertical-align: middle;\n",
       "    }\n",
       "\n",
       "    .dataframe tbody tr th {\n",
       "        vertical-align: top;\n",
       "    }\n",
       "\n",
       "    .dataframe thead th {\n",
       "        text-align: right;\n",
       "    }\n",
       "</style>\n",
       "<table border=\"1\" class=\"dataframe\">\n",
       "  <thead>\n",
       "    <tr style=\"text-align: right;\">\n",
       "      <th></th>\n",
       "      <th>Training accuracy</th>\n",
       "      <th>Validation accuracy</th>\n",
       "      <th>Correct classified</th>\n",
       "      <th>Wrong classified</th>\n",
       "      <th>Error</th>\n",
       "    </tr>\n",
       "  </thead>\n",
       "  <tbody>\n",
       "    <tr>\n",
       "      <th>Adadelta Python</th>\n",
       "      <td>97.10</td>\n",
       "      <td>95.000000</td>\n",
       "      <td>1425</td>\n",
       "      <td>75</td>\n",
       "      <td>5.000000</td>\n",
       "    </tr>\n",
       "    <tr>\n",
       "      <th>Adadelta KNIME</th>\n",
       "      <td>99.50</td>\n",
       "      <td>93.867000</td>\n",
       "      <td>1408</td>\n",
       "      <td>92</td>\n",
       "      <td>6.133000</td>\n",
       "    </tr>\n",
       "    <tr>\n",
       "      <th>Adam Python</th>\n",
       "      <td>99.41</td>\n",
       "      <td>96.333333</td>\n",
       "      <td>1445</td>\n",
       "      <td>55</td>\n",
       "      <td>3.666667</td>\n",
       "    </tr>\n",
       "    <tr>\n",
       "      <th>Adam KNIME</th>\n",
       "      <td>99.50</td>\n",
       "      <td>96.533000</td>\n",
       "      <td>1448</td>\n",
       "      <td>52</td>\n",
       "      <td>3.467000</td>\n",
       "    </tr>\n",
       "  </tbody>\n",
       "</table>\n",
       "</div>"
      ],
      "text/plain": [
       "                 Training accuracy  Validation accuracy  Correct classified  \\\n",
       "Adadelta Python              97.10            95.000000                1425   \n",
       "Adadelta KNIME               99.50            93.867000                1408   \n",
       "Adam Python                  99.41            96.333333                1445   \n",
       "Adam KNIME                   99.50            96.533000                1448   \n",
       "\n",
       "                 Wrong classified     Error  \n",
       "Adadelta Python                75  5.000000  \n",
       "Adadelta KNIME                 92  6.133000  \n",
       "Adam Python                    55  3.666667  \n",
       "Adam KNIME                     52  3.467000  "
      ]
     },
     "execution_count": 258,
     "metadata": {},
     "output_type": "execute_result"
    }
   ],
   "source": [
    "df2 = pd.read_csv(\"overall_result.csv\", index_col=0)\n",
    "df2"
   ]
  },
  {
   "cell_type": "markdown",
   "id": "1d03b5e3-1424-4d2b-a5da-8e207c580cdd",
   "metadata": {},
   "source": [
    "# Loading KNIME models"
   ]
  },
  {
   "cell_type": "code",
   "execution_count": 85,
   "id": "039d52d7-905f-4881-b89d-f0d752c2630a",
   "metadata": {
    "tags": []
   },
   "outputs": [
    {
     "name": "stdout",
     "output_type": "stream",
     "text": [
      "<class 'tensorflow.python.training.tracking.tracking.AutoTrackable'>\n",
      "<class 'tensorflow.python.eager.wrap_function.WrappedFunction'>\n"
     ]
    }
   ],
   "source": [
    "knime_adadelta = tf.saved_model.load(os.path.join(\"models\", \"knime_adadelta\"))\n",
    "print(type(knime_adadelta))\n",
    "knime_adadelta = knime_adadelta.signatures['serve']\n",
    "print(type(knime_adadelta))"
   ]
  },
  {
   "cell_type": "code",
   "execution_count": 86,
   "id": "bffd6f55-25c2-4797-a1fb-886cafd60d54",
   "metadata": {},
   "outputs": [],
   "source": [
    "knime_adam = tf.saved_model.load(os.path.join(\"models\", \"knime_adam\"))\n",
    "knime_adam = knime_adam.signatures['serve']"
   ]
  },
  {
   "cell_type": "code",
   "execution_count": 87,
   "id": "286e569c-76e7-45b2-8d08-f7fb556059ab",
   "metadata": {},
   "outputs": [
    {
     "name": "stdout",
     "output_type": "stream",
     "text": [
      "(1500, 28, 28, 1)\n",
      "(1500, 28, 28, 1)\n",
      "(1500, 10)\n",
      "(1500,)\n"
     ]
    }
   ],
   "source": [
    "def get_ds_data(ds):\n",
    "    X = []\n",
    "    y_true = []\n",
    "    for x, y in ds:\n",
    "        X.append(x)\n",
    "        y_true.append(y)\n",
    "        \n",
    "    X = np.concatenate(X, axis=0)\n",
    "    print(X.shape)\n",
    "    \n",
    "    X = tf.convert_to_tensor(X, dtype=tf.float32)\n",
    "    # X = X * 255\n",
    "    print(X.shape)\n",
    "    \n",
    "    y_true = np.concatenate(y_true, axis=0)\n",
    "    print(y_true.shape)\n",
    "    y_true = np.argmax(y_true, axis=-1)\n",
    "    print(y_true.shape)\n",
    "    return X, y_true\n",
    "\n",
    "X, y_true = get_ds_data(ds_test)"
   ]
  },
  {
   "cell_type": "code",
   "execution_count": 88,
   "id": "bfb93a08-f259-4dc9-8394-9d52f332e7f0",
   "metadata": {},
   "outputs": [
    {
     "data": {
      "text/plain": [
       "{'output_1/Softmax:0': <tf.Tensor: shape=(1, 10), dtype=float32, numpy=\n",
       " array([[6.5707140e-06, 1.9349225e-06, 1.7434885e-04, 1.6300094e-03,\n",
       "         2.7692574e-06, 5.4596858e-06, 1.8830294e-08, 9.9780792e-01,\n",
       "         1.6011261e-05, 3.5501589e-04]], dtype=float32)>}"
      ]
     },
     "execution_count": 88,
     "metadata": {},
     "output_type": "execute_result"
    }
   ],
   "source": [
    "# make one prediction on a single image (need to include batch dimension)\n",
    "knime_adadelta(X[:1])"
   ]
  },
  {
   "cell_type": "code",
   "execution_count": 89,
   "id": "b8bbb037-0815-4af6-9e6a-9026f58f0702",
   "metadata": {},
   "outputs": [
    {
     "data": {
      "image/png": "[encoded data removed]",
      "text/plain": [
       "<Figure size 640x480 with 1 Axes>"
      ]
     },
     "metadata": {},
     "output_type": "display_data"
    }
   ],
   "source": [
    "plt.imshow(X[0].numpy(), cmap='gray')\n",
    "plt.show()"
   ]
  },
  {
   "cell_type": "code",
   "execution_count": 100,
   "id": "ff364fb1-2db9-4536-bb5a-52c16f098c63",
   "metadata": {},
   "outputs": [],
   "source": [
    "def predict(model, X):\n",
    "    # make full predictions on multiple images\n",
    "    preds = model(X)\n",
    "\n",
    "    y_pred = preds['output_1/Softmax:0']\n",
    "    y_pred = np.argmax(y_pred.numpy(), axis=-1)\n",
    "    return y_pred"
   ]
  },
  {
   "cell_type": "code",
   "execution_count": 102,
   "id": "5fe7d797-fd8e-4bd4-be4e-a0f1143f4725",
   "metadata": {},
   "outputs": [
    {
     "name": "stdout",
     "output_type": "stream",
     "text": [
      "Adadelta KNIME:\n",
      "\n",
      "Accuracy: 93.867\n",
      "Total correct: 1408\n",
      "Total incorrect: 92\n",
      "Error: 6.133\n"
     ]
    }
   ],
   "source": [
    "y_pred = predict(knime_adadelta, X)\n",
    "\n",
    "total_correct = np.sum(np.where(y_preds == y_true, 1, 0))\n",
    "total_incorrect = len(y_true) - total_correct\n",
    "acc = total_correct / len(y_true) * 100\n",
    "error = 100 - acc\n",
    "print(\"Adadelta KNIME:\\n\")\n",
    "print(f\"Accuracy: {acc:.3f}\")\n",
    "print(f\"Total correct: {total_correct}\")\n",
    "print(f\"Total incorrect: {total_incorrect}\")\n",
    "print(f\"Error: {error:.3f}\")"
   ]
  },
  {
   "cell_type": "code",
   "execution_count": 103,
   "id": "6348564e-9cc6-4955-b3b6-01f58520c690",
   "metadata": {},
   "outputs": [
    {
     "name": "stdout",
     "output_type": "stream",
     "text": [
      "Adam KNIME:\n",
      "\n",
      "Accuracy: 96.533\n",
      "Total correct: 1448\n",
      "Total incorrect: 52\n",
      "Error: 3.467\n"
     ]
    }
   ],
   "source": [
    "y_pred = predict(knime_adam, X)\n",
    "\n",
    "total_correct = np.sum(np.where(y_pred == y_true, 1, 0))\n",
    "total_incorrect = len(y_true) - total_correct\n",
    "acc = total_correct / len(y_true) * 100\n",
    "error = 100 - acc\n",
    "print(\"Adam KNIME:\\n\")\n",
    "print(f\"Accuracy: {acc:.3f}\")\n",
    "print(f\"Total correct: {total_correct}\")\n",
    "print(f\"Total incorrect: {total_incorrect}\")\n",
    "print(f\"Error: {error:.3f}\")"
   ]
  },
  {
   "cell_type": "markdown",
   "id": "48e4a346-a70a-451c-83fb-c291e3abce84",
   "metadata": {},
   "source": [
    "## Keras H5 format"
   ]
  },
  {
   "cell_type": "code",
   "execution_count": 6,
   "id": "08f25a4c-651b-4f61-9dab-f089f1b0cc15",
   "metadata": {},
   "outputs": [],
   "source": [
    "knime_model = tf.keras.models.load_model(os.path.join(\"models\", \"CNN_HandwrittenDigits_Keras.h5\"))"
   ]
  },
  {
   "cell_type": "code",
   "execution_count": 7,
   "id": "95270bf7-e838-45aa-99da-0548421e4e79",
   "metadata": {},
   "outputs": [
    {
     "name": "stdout",
     "output_type": "stream",
     "text": [
      "Model: \"model_1\"\n",
      "_________________________________________________________________\n",
      "Layer (type)                 Output Shape              Param #   \n",
      "=================================================================\n",
      "input_1 (InputLayer)         [(None, 28, 28, 1)]       0         \n",
      "_________________________________________________________________\n",
      "conv2d_1 (Conv2D)            (None, 24, 24, 32)        320       \n",
      "_________________________________________________________________\n",
      "maxpooling2d_1 (MaxPooling2D (None, 12, 12, 32)        0         \n",
      "_________________________________________________________________\n",
      "flatten_1 (Flatten)          (None, 4608)              0         \n",
      "_________________________________________________________________\n",
      "dense_1 (Dense)              (None, 100)               460900    \n",
      "_________________________________________________________________\n",
      "output_1 (Dense)             (None, 10)                1010      \n",
      "=================================================================\n",
      "Total params: 462,230\n",
      "Trainable params: 462,230\n",
      "Non-trainable params: 0\n",
      "_________________________________________________________________\n"
     ]
    }
   ],
   "source": [
    "knime_model.summary()"
   ]
  },
  {
   "cell_type": "code",
   "execution_count": 24,
   "id": "10499317-21fe-4af6-87c8-156185facc74",
   "metadata": {},
   "outputs": [
    {
     "name": "stdout",
     "output_type": "stream",
     "text": [
      "Wall time: 5.35 s\n"
     ]
    },
    {
     "data": {
      "text/plain": [
       "(1500, 10)"
      ]
     },
     "execution_count": 24,
     "metadata": {},
     "output_type": "execute_result"
    }
   ],
   "source": [
    "%%time\n",
    "preds = knime_model.predict(ds_test)\n",
    "preds.shape"
   ]
  },
  {
   "cell_type": "code",
   "execution_count": 25,
   "id": "2162212f-6291-4d61-8098-40d08f4f6272",
   "metadata": {},
   "outputs": [
    {
     "data": {
      "text/plain": [
       "(1500,)"
      ]
     },
     "execution_count": 25,
     "metadata": {},
     "output_type": "execute_result"
    }
   ],
   "source": [
    "preds = np.argmax(preds, axis=-1)\n",
    "preds.shape"
   ]
  },
  {
   "cell_type": "code",
   "execution_count": 26,
   "id": "a6bc82e3-9bde-48ea-9fe0-57bf796862ef",
   "metadata": {},
   "outputs": [
    {
     "data": {
      "text/plain": [
       "(1500, 10)"
      ]
     },
     "execution_count": 26,
     "metadata": {},
     "output_type": "execute_result"
    }
   ],
   "source": [
    "y_true = np.concatenate([y for x, y in ds_test], axis=0)\n",
    "y_true.shape"
   ]
  },
  {
   "cell_type": "code",
   "execution_count": 27,
   "id": "36af9481-68f8-41e9-bfda-6c82ab1fc89f",
   "metadata": {},
   "outputs": [
    {
     "data": {
      "text/plain": [
       "(1500,)"
      ]
     },
     "execution_count": 27,
     "metadata": {},
     "output_type": "execute_result"
    }
   ],
   "source": [
    "y_true = np.argmax(y_true, axis=-1)\n",
    "y_true.shape"
   ]
  },
  {
   "cell_type": "code",
   "execution_count": 28,
   "id": "40f3ae74-d3ce-4dc3-b68f-07d4bbef4234",
   "metadata": {},
   "outputs": [],
   "source": [
    "total_correct = np.sum(np.where(preds == y_true, 1, 0))\n",
    "total_incorrect = len(y_true) - total_correct\n",
    "acc = total_correct / len(y_true) * 100\n",
    "error = 100 - acc"
   ]
  },
  {
   "cell_type": "code",
   "execution_count": 30,
   "id": "7b808424-b7f7-4beb-a320-629fbf25c4a5",
   "metadata": {},
   "outputs": [
    {
     "data": {
      "text/plain": [
       "(1415, 85, 94.33333333333334, 5.666666666666657)"
      ]
     },
     "execution_count": 30,
     "metadata": {},
     "output_type": "execute_result"
    }
   ],
   "source": [
    "total_correct, total_incorrect, acc, error"
   ]
  },
  {
   "cell_type": "code",
   "execution_count": null,
   "id": "e102e4c8-fef8-4b89-8c4e-30e91348a4eb",
   "metadata": {},
   "outputs": [],
   "source": []
  }
 ],
 "metadata": {
  "kernelspec": {
   "display_name": "Python 3 (ipykernel)",
   "language": "python",
   "name": "python3"
  },
  "language_info": {
   "codemirror_mode": {
    "name": "ipython",
    "version": 3
   },
   "file_extension": ".py",
   "mimetype": "text/x-python",
   "name": "python",
   "nbconvert_exporter": "python",
   "pygments_lexer": "ipython3",
   "version": "3.8.11"
  }
 },
 "nbformat": 4,
 "nbformat_minor": 5
}
